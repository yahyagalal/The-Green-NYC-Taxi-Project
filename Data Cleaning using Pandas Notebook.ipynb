{
 "cells": [
  {
   "cell_type": "markdown",
   "metadata": {},
   "source": [
    "# Milestone 1 - EDA and Preprocessing data "
   ]
  },
  {
   "cell_type": "markdown",
   "metadata": {},
   "source": [
    "***Important note*** - This is merely a template. you are more than free to change how it looks or create one from scratch."
   ]
  },
  {
   "cell_type": "markdown",
   "metadata": {},
   "source": [
    "- Load dataset\n",
    "- Explore the dataset and ask atleast 5 questions to give you a better understanding of the data provided to you. \n",
    "- Visualise the answer to these 5 questions.\n",
    "- Cleaning the data\n",
    "    - Tidy up the column names, make sure there is no spaces\n",
    "    - Observe,comment on and handle inconsistent data.(i.e duplicates, irrelevant data,incorrect data,etc)\n",
    "    - Observe missing data and comment on why you believe it is missing(MCAR,MAR or MNAR).\n",
    "    - Handle missing data\n",
    "    - Observe and comment on outliers\n",
    "    - Handle outliers\n",
    "- With every change you are making to the data you need to comment on why you used this technique and how has it affected the data(by both showing the change in the data i.e change in number of rows/columns,change in distrubution, etc and commenting on it).\n",
    "- Data transformation and feature engineering\n",
    "    - Add 2 new columns named 'Week number' and 'Date range' and discretize the data into weeks according to the dates. \n",
    "        - Tip: Change the datatype of the date feature to datetime type instead of object.\n",
    "    - Encode any categorical feature(s) and comment on why you used this technique and how the data has changed.\n",
    "    - If exists , Identify feature(s) which need normalization and show your reasoning. Then choose a technique to normalize the feature(s) and comment on why you chose this technique.\n",
    "- Additional data extraction\n",
    "    - Add GPS coordinates for the cities/locations.\n",
    "    - For this task you can extract the GPS coordinates from an API or web scraping and integrate into your csv file as new features. \n",
    "    - Tip 1 - you can find the web scraping and data integration notebooks under 'additional resources'  on the CMS useful.\n",
    "    - Tip 2 - If you are going to use an API make sure you do not make request for each existing row but rather group by the cities and get their respective coordinates. Making a request for each row is too inefficient and expensive.\n",
    "    - Tip 3 - Rather than running the code for calling the API each time you load the notebook, the first time you call the API save the results in a csv file and then you could you check if a csv file exists for the GPS coordinates, if so, load directly and don't call APi. Same applies for web scraping.\n",
    "\n",
    "- Lookup table and load back into new csv file\n",
    "    - Create a lookup table\n",
    "    - Load the new dataset into a new csv file named `green_trip_data_{year}-{month}clean.csv`. replace year and month with the appropriate values.\n",
    "    - Load the lookup table to a csv file called `lookup_table_green_taxis.csv` \n",
    "- Bonus: Load the dataset as a parquet file instead of a csv file(Parquet file is a compressed file format)."
   ]
  },
  {
   "cell_type": "markdown",
   "metadata": {},
   "source": [
    "# 1 - Extraction"
   ]
  },
  {
   "cell_type": "code",
   "execution_count": 30,
   "metadata": {},
   "outputs": [
    {
     "name": "stdout",
     "output_type": "stream",
     "text": [
      "<class 'pandas.core.frame.DataFrame'>\n",
      "RangeIndex: 672116 entries, 0 to 672115\n",
      "Data columns (total 20 columns):\n",
      " #   Column                 Non-Null Count   Dtype  \n",
      "---  ------                 --------------   -----  \n",
      " 0   Vendor                 672116 non-null  object \n",
      " 1   lpep pickup datetime   672116 non-null  object \n",
      " 2   lpep dropoff datetime  672116 non-null  object \n",
      " 3   store and fwd flag     630537 non-null  object \n",
      " 4   Rate type              672116 non-null  object \n",
      " 5   PU Location            672116 non-null  object \n",
      " 6   DO Location            672116 non-null  object \n",
      " 7   passenger count        629075 non-null  float64\n",
      " 8   trip distance          672116 non-null  float64\n",
      " 9   fare amount            672116 non-null  float64\n",
      " 10  extra                  303954 non-null  float64\n",
      " 11  mta tax                672116 non-null  float64\n",
      " 12  tip amount             672116 non-null  float64\n",
      " 13  tolls amount           672116 non-null  float64\n",
      " 14  ehail fee              339 non-null     float64\n",
      " 15  improvement surcharge  672116 non-null  float64\n",
      " 16  total amount           672116 non-null  float64\n",
      " 17  payment type           656054 non-null  object \n",
      " 18  trip type              672116 non-null  object \n",
      " 19  congestion surcharge   84532 non-null   float64\n",
      "dtypes: float64(11), object(9)\n",
      "memory usage: 102.6+ MB\n"
     ]
    }
   ],
   "source": [
    "import pandas as pd\n",
    "\n",
    "# Define the file path\n",
    "file_path = 'C:/GUC/Semester 9/Data Engineering/Project/Milestone 1/green_tripdata_2019-01.csv'\n",
    "\n",
    "# Load the dataset into a DataFrame\n",
    "data = pd.read_csv(file_path)\n",
    "\n",
    "# Display the first few rows of the dataset to check its structure\n",
    "data.head()\n",
    "data.info()"
   ]
  },
  {
   "cell_type": "code",
   "execution_count": null,
   "metadata": {},
   "outputs": [],
   "source": []
  },
  {
   "cell_type": "code",
   "execution_count": null,
   "metadata": {},
   "outputs": [],
   "source": []
  },
  {
   "cell_type": "markdown",
   "metadata": {},
   "source": [
    "# 2- EDA"
   ]
  },
  {
   "cell_type": "markdown",
   "metadata": {},
   "source": [
    "### (1) What do 'N' represent in the store and Fwd Flag?"
   ]
  },
  {
   "cell_type": "code",
   "execution_count": 2,
   "metadata": {},
   "outputs": [
    {
     "name": "stdout",
     "output_type": "stream",
     "text": [
      "['N' 'Y' nan]\n"
     ]
    }
   ],
   "source": [
    "\n",
    "\n",
    "# Extracting unique values from the 'store and fwd flag' column\n",
    "unique_values = data['store and fwd flag'].unique()\n",
    "\n",
    "# Display the unique values\n",
    "print(unique_values)"
   ]
  },
  {
   "cell_type": "code",
   "execution_count": 6,
   "metadata": {},
   "outputs": [
    {
     "data": {
      "image/png": "[encoded data removed]",
      "text/plain": [
       "<Figure size 800x600 with 1 Axes>"
      ]
     },
     "metadata": {},
     "output_type": "display_data"
    }
   ],
   "source": [
    "import seaborn as sns\n",
    "import matplotlib.pyplot as plt\n",
    "\n",
    "\n",
    "# Counting occurrences of each value in 'store and fwd flag' column\n",
    "value_counts = data['store and fwd flag'].value_counts(dropna=False)\n",
    "\n",
    "# Plotting the count of 'store and fwd flag' values using Pandas\n",
    "plt.figure(figsize=(8, 6))\n",
    "value_counts.plot(kind='bar', color='skyblue')\n",
    "plt.title('Count of Store and Forward Flags')\n",
    "plt.xlabel('Flag')\n",
    "plt.ylabel('Count')\n",
    "plt.show()\n"
   ]
  },
  {
   "cell_type": "markdown",
   "metadata": {},
   "source": [
    "So after checking the unique values of the column Store and Fwd Flag we found that there are only 3 unique values: 'N', 'Y', nan\n",
    "\n",
    "we then plotted a figure to check the distribution of the 3 values and we found that \n",
    "\n",
    "N' (Around 600,000 occurrences): This signifies a large majority of cases where the data was not stored and forwarded by the vehicles, possibly indicating a regular transmission of data without relying on local storage.\n",
    "\n",
    "NaN (Around 50,000 occurrences): The presence of a substantial number of missing values in this column is noteworthy. These missing values ('NaN') need to be handled, whether through imputation or considering their impact on the analysis.\n",
    "\n",
    "'Y' (Very few occurrences): The small count of instances labeled as 'Y' implies that only a few instances saw the data being stored and forwarded by the vehicles, possibly due to a lack of connectivity or other reasons."
   ]
  },
  {
   "cell_type": "markdown",
   "metadata": {},
   "source": [
    "### (1) why are most of congestion surcharge values are missing?\n"
   ]
  },
  {
   "cell_type": "code",
   "execution_count": 7,
   "metadata": {},
   "outputs": [
    {
     "name": "stdout",
     "output_type": "stream",
     "text": [
      "[ nan 0.   2.75]\n"
     ]
    }
   ],
   "source": [
    "unique_values_congestion_surcharge = data['congestion surcharge'].unique()\n",
    "\n",
    "# Display the unique values\n",
    "print(unique_values_congestion_surcharge)"
   ]
  },
  {
   "cell_type": "code",
   "execution_count": 15,
   "metadata": {},
   "outputs": [
    {
     "data": {
      "image/png": "[encoded data removed]",
      "text/plain": [
       "<Figure size 800x600 with 1 Axes>"
      ]
     },
     "metadata": {},
     "output_type": "display_data"
    }
   ],
   "source": [
    "# Counting occurrences of each value in 'store and fwd flag' column\n",
    "value_counts = data['congestion surcharge'].value_counts(dropna=False)\n",
    "\n",
    "# Plotting the count of 'store and fwd flag' values using Pandas\n",
    "plt.figure(figsize=(8, 6))\n",
    "value_counts.plot(kind='bar', color='skyblue')\n",
    "plt.title('Count of congestion surcharge')\n",
    "plt.xlabel('surcharge')\n",
    "plt.ylabel('Count')\n",
    "plt.show()"
   ]
  },
  {
   "cell_type": "code",
   "execution_count": 14,
   "metadata": {},
   "outputs": [
    {
     "name": "stdout",
     "output_type": "stream",
     "text": [
      "congestion surcharge\n",
      "0.00    84531\n",
      "2.75        1\n",
      "Name: count, dtype: int64\n"
     ]
    }
   ],
   "source": [
    "congestion_surcharge_counts = data['congestion surcharge'].value_counts()\n",
    "print(congestion_surcharge_counts)"
   ]
  },
  {
   "cell_type": "markdown",
   "metadata": {},
   "source": [
    "After counting unique values and plotting them of the column congestion surcharge we found that\n",
    "NaN (Approximately 600,000 occurrences): The large count of missing values ('NaN') indicates that data for the congestion surcharge is missing or not recorded for around 600,000 instances in the dataset.\n",
    "\n",
    "0 (Approximately 100,000 occurrences): This signifies that the congestion surcharge was applied but was valued at $0 for approximately 100,000 instances, suggesting that for these trips, no specific congestion surcharge was imposed.\n",
    "\n",
    "2.75 (One occurrence): There is only one recorded instance where the congestion surcharge was applicable at the rate of $2.75.\n",
    "\n",
    "the slow adoption or understanding of the surcharge regulation could indeed be a plausible reason for the limited instances of surcharge application or the prevalence of missing or zero values in the dataset.\n",
    "\n",
    "When a new regulation, such as the introduction of the congestion surcharge on January 1st, 2019, is implemented, it often takes time for drivers and the transportation ecosystem to adapt. Here are a few reasons why this might be reflected in the dataset:\n",
    "\n",
    "Awareness and Implementation Period: It's possible that drivers might not have been fully aware of the new regulation initially or might have taken some time to understand its application. Therefore, the implementation of the surcharge might not have been immediate for all trips during the initial phase.\n",
    "\n",
    "Technical Implementation: The technical implementation of new regulations in taxi metering systems or the administrative process might have experienced delays or complications, affecting the immediate application of the surcharge.\n",
    "\n",
    "Regulatory or Operational Adjustments: Taxi drivers, cab companies, or the authorities might have taken some time to adjust to the new regulation, leading to delayed or partial implementation."
   ]
  },
  {
   "cell_type": "markdown",
   "metadata": {},
   "source": [
    "### (3) why are most of enhail fee values are missing?"
   ]
  },
  {
   "cell_type": "code",
   "execution_count": 18,
   "metadata": {},
   "outputs": [
    {
     "name": "stdout",
     "output_type": "stream",
     "text": [
      "Unique values in 'ehail fee': [ nan 0.   1.95]\n"
     ]
    },
    {
     "data": {
      "image/png": "[encoded data removed]",
      "text/plain": [
       "<Figure size 800x600 with 1 Axes>"
      ]
     },
     "metadata": {},
     "output_type": "display_data"
    },
    {
     "name": "stdout",
     "output_type": "stream",
     "text": [
      "ehail fee\n",
      "NaN     671777\n",
      "0.00       335\n",
      "1.95         4\n",
      "Name: count, dtype: int64\n"
     ]
    }
   ],
   "source": [
    "\n",
    "# Display the unique values in the 'ehail fee' column\n",
    "unique_values_ehail = data['ehail fee'].unique()\n",
    "print(\"Unique values in 'ehail fee':\", unique_values_ehail)\n",
    "\n",
    "# Plotting the count of 'ehail fee' values\n",
    "plt.figure(figsize=(8, 6))\n",
    "data['ehail fee'].value_counts(dropna=False).plot(kind='bar', color='orange')\n",
    "plt.title('Distribution of ehail fee Values')\n",
    "plt.xlabel('ehail fee')\n",
    "plt.ylabel('Count')\n",
    "plt.show()\n",
    "\n",
    "congestion_ehail_fee = data['ehail fee'].value_counts(dropna = False)\n",
    "print(congestion_ehail_fee)"
   ]
  },
  {
   "cell_type": "markdown",
   "metadata": {},
   "source": [
    "From the analysis of the 'ehail fee' column:\n",
    "\n",
    "NaN (Missing Values): There are a significant number of missing values ('NaN') with a count of 671,777, indicating that data for the 'ehail fee' is missing or not recorded for the majority of instances in the dataset.\n",
    "\n",
    "0.00 (No e-hail Fee): Approximately 335 instances record a value of 0.00, suggesting that for these trips, no specific e-hail fee was applied, likely indicating that no additional charges were imposed for using electronic hailing services in these cases.\n",
    "\n",
    "1.95 (Specific e-hail Fee): There are only a few instances (4 occurrences) where an e-hail fee of 1.95 was recorded. This implies that in a small number of trips, a particular e-hail fee was applied.\n",
    "\n",
    "The majority of the dataset comprises missing values for the 'ehail fee', with a small number of cases showing either a zero e-hail fee or a specific fee of 1.95.\n",
    "\n",
    "This distribution highlights the lack of e-hail fee information for the majority of the dataset, potentially affecting analyses or inferences related to e-hail fees for the specific time frame.\n",
    "\n",
    "The prevalence of missing values in the 'ehail fee' column could stem from various reasons:\n",
    "\n",
    "Data Collection Process: It's possible that the data for the 'ehail fee' was not consistently recorded or captured during the collection process. Issues during data entry, system failures, or overlooked data might lead to missing information.\n",
    "\n",
    "Regulatory Changes: During the specific time frame (January 2019), regulations regarding e-hail fees might not have been uniformly applied or properly reported across all taxi trips. Changes in regulations or delays in implementation might have impacted the recording of these fees.\n",
    "\n",
    "Technical or Operational Challenges: Technical issues or operational challenges within the taxi or e-hailing systems could have hindered the proper capture or transmission of e-hail fee information. These challenges could range from system errors, connectivity issues, or operational changes within e-hailing services."
   ]
  },
  {
   "cell_type": "markdown",
   "metadata": {},
   "source": [
    "### (4) Are there any correlations between the trip distance and the fare amount?"
   ]
  },
  {
   "cell_type": "code",
   "execution_count": 20,
   "metadata": {},
   "outputs": [
    {
     "data": {
      "image/png": "[encoded data removed]",
      "text/plain": [
       "<Figure size 800x600 with 1 Axes>"
      ]
     },
     "metadata": {},
     "output_type": "display_data"
    },
    {
     "name": "stdout",
     "output_type": "stream",
     "text": [
      "Pearson's Correlation Coefficient: 0.9300478529923584\n"
     ]
    }
   ],
   "source": [
    "# Selecting relevant columns for analysis (Trip Distance and Fare Amount)\n",
    "trip_distance = data['trip distance']\n",
    "fare_amount = data['fare amount']\n",
    "\n",
    "# Plotting a scatter plot to visualize the relationship between trip distance and fare amount\n",
    "plt.figure(figsize=(8, 6))\n",
    "plt.scatter(trip_distance, fare_amount, alpha=0.5, color='blue')\n",
    "plt.title('Trip Distance vs. Fare Amount')\n",
    "plt.xlabel('Trip Distance (miles)')\n",
    "plt.ylabel('Fare Amount ($)')\n",
    "plt.show()\n",
    "\n",
    "# Calculating Pearson's correlation coefficient\n",
    "correlation = trip_distance.corr(fare_amount)\n",
    "print(\"Pearson's Correlation Coefficient:\", correlation)"
   ]
  },
  {
   "cell_type": "markdown",
   "metadata": {},
   "source": [
    "A Pearson's correlation coefficient of approximately 0.93 between trip distance and fare amount indicates a very strong positive correlation.\n",
    "\n",
    "This high positive correlation suggests that, in general, as the trip distance increases, the fare amount also tends to increase substantially. The value being close to 1 indicates a nearly perfect positive linear relationship between these variables in your dataset.\n"
   ]
  },
  {
   "cell_type": "markdown",
   "metadata": {},
   "source": [
    "### (5) How many different rate types are present, and what do they represent?"
   ]
  },
  {
   "cell_type": "code",
   "execution_count": 24,
   "metadata": {},
   "outputs": [
    {
     "name": "stdout",
     "output_type": "stream",
     "text": [
      "Unique Rate Codes: ['Standard rate' 'Negotiated fare' 'Nassau or Westchester' 'Group ride'\n",
      " 'JFK' 'Newark' 'Unknown']\n"
     ]
    }
   ],
   "source": [
    "# Displaying unique values in the 'RateCode' column\n",
    "rate_codes = data['Rate type'].unique()\n",
    "print(\"Unique Rate Codes:\", rate_codes)"
   ]
  },
  {
   "cell_type": "markdown",
   "metadata": {},
   "source": [
    "The unique rate codes present in the dataset and their potential meanings are as follows:\n",
    "\n",
    "Standard rate: This code likely represents the standard or regular fare applied to most typical taxi trips.\n",
    "\n",
    "Negotiated fare: It might denote fares that were negotiated or agreed upon in advance between the passenger and the driver, possibly for specific or non-standard trips.\n",
    "\n",
    "Nassau or Westchester: This code may be related to trips going to Nassau or Westchester areas, potentially indicating a flat rate or a specific fare structure for these locations.\n",
    "\n",
    "Group ride: It could represent a special rate applied to group rides, where multiple passengers share the same trip.\n",
    "\n",
    "JFK: This rate code might indicate a fixed fare or rate specifically for trips to or from John F. Kennedy International Airport.\n",
    "\n",
    "Newark: Similar to 'JFK', this code might represent a specific fare structure for trips to or from Newark Liberty International Airport.\n",
    "\n",
    "Unknown: Entries labeled as 'Unknown' might signify that the rate code information is missing or not properly recorded in those instances."
   ]
  },
  {
   "cell_type": "markdown",
   "metadata": {},
   "source": [
    "# 3 - Cleaning Data"
   ]
  },
  {
   "cell_type": "markdown",
   "metadata": {},
   "source": [
    "## Tidying up column names"
   ]
  },
  {
   "cell_type": "code",
   "execution_count": 61,
   "metadata": {},
   "outputs": [],
   "source": [
    "# Renaming columns to remove spaces\n",
    "data.columns = data.columns.str.replace(' ', '_')\n",
    "data.columns = data.columns.str.lower()"
   ]
  },
  {
   "cell_type": "code",
   "execution_count": 56,
   "metadata": {},
   "outputs": [],
   "source": []
  },
  {
   "cell_type": "code",
   "execution_count": 63,
   "metadata": {},
   "outputs": [
    {
     "name": "stdout",
     "output_type": "stream",
     "text": [
      "Index(['vendor', 'lpep_pickup_datetime', 'lpep_dropoff_datetime',\n",
      "       'store_and_fwd_flag', 'rate_type', 'pu_location', 'do_location',\n",
      "       'passenger_count', 'trip_distance', 'fare_amount', 'extra', 'mta_tax',\n",
      "       'tip_amount', 'tolls_amount', 'ehail_fee', 'improvement_surcharge',\n",
      "       'total_amount', 'payment_type', 'trip_type', 'congestion_surcharge'],\n",
      "      dtype='object')\n"
     ]
    }
   ],
   "source": [
    "data.head()\n",
    "print(data.columns)\n"
   ]
  },
  {
   "cell_type": "code",
   "execution_count": 35,
   "metadata": {},
   "outputs": [
    {
     "name": "stdout",
     "output_type": "stream",
     "text": [
      "<class 'pandas.core.frame.DataFrame'>\n",
      "RangeIndex: 672116 entries, 0 to 672115\n",
      "Data columns (total 20 columns):\n",
      " #   Column                 Non-Null Count   Dtype  \n",
      "---  ------                 --------------   -----  \n",
      " 0   Vendor                 672116 non-null  object \n",
      " 1   lpep pickup datetime   672116 non-null  object \n",
      " 2   lpep dropoff datetime  672116 non-null  object \n",
      " 3   store and fwd flag     630537 non-null  object \n",
      " 4   Rate type              672116 non-null  object \n",
      " 5   PU Location            672116 non-null  object \n",
      " 6   DO Location            672116 non-null  object \n",
      " 7   passenger count        629075 non-null  float64\n",
      " 8   trip distance          672116 non-null  float64\n",
      " 9   fare amount            672116 non-null  float64\n",
      " 10  extra                  303954 non-null  float64\n",
      " 11  mta tax                672116 non-null  float64\n",
      " 12  tip amount             672116 non-null  float64\n",
      " 13  tolls amount           672116 non-null  float64\n",
      " 14  ehail fee              339 non-null     float64\n",
      " 15  improvement surcharge  672116 non-null  float64\n",
      " 16  total amount           672116 non-null  float64\n",
      " 17  payment type           656054 non-null  object \n",
      " 18  trip type              672116 non-null  object \n",
      " 19  congestion surcharge   84532 non-null   float64\n",
      "dtypes: float64(11), object(9)\n",
      "memory usage: 102.6+ MB\n"
     ]
    }
   ],
   "source": [
    "data.info()"
   ]
  },
  {
   "cell_type": "markdown",
   "metadata": {},
   "source": []
  },
  {
   "cell_type": "markdown",
   "metadata": {},
   "source": [
    "## Observe and Handle inconsistent and missing data"
   ]
  },
  {
   "cell_type": "code",
   "execution_count": 39,
   "metadata": {},
   "outputs": [],
   "source": [
    "# Checking for and removing duplicate rows, considering all columns\n",
    "duplicates = data[data.duplicated(keep=False)]\n",
    "data_no_duplicates = data.drop_duplicates()\n",
    "\n"
   ]
  },
  {
   "cell_type": "code",
   "execution_count": 40,
   "metadata": {},
   "outputs": [
    {
     "data": {
      "text/html": [
       "<div>\n",
       "<style scoped>\n",
       "    .dataframe tbody tr th:only-of-type {\n",
       "        vertical-align: middle;\n",
       "    }\n",
       "\n",
       "    .dataframe tbody tr th {\n",
       "        vertical-align: top;\n",
       "    }\n",
       "\n",
       "    .dataframe thead th {\n",
       "        text-align: right;\n",
       "    }\n",
       "</style>\n",
       "<table border=\"1\" class=\"dataframe\">\n",
       "  <thead>\n",
       "    <tr style=\"text-align: right;\">\n",
       "      <th></th>\n",
       "      <th>vendor</th>\n",
       "      <th>lpep_pickup_datetime</th>\n",
       "      <th>lpep_dropoff_datetime</th>\n",
       "      <th>store_and_fwd_flag</th>\n",
       "      <th>rate_type</th>\n",
       "      <th>pu_location</th>\n",
       "      <th>do_location</th>\n",
       "      <th>passenger_count</th>\n",
       "      <th>trip_distance</th>\n",
       "      <th>fare_amount</th>\n",
       "      <th>extra</th>\n",
       "      <th>mta_tax</th>\n",
       "      <th>tip_amount</th>\n",
       "      <th>tolls_amount</th>\n",
       "      <th>ehail_fee</th>\n",
       "      <th>improvement_surcharge</th>\n",
       "      <th>total_amount</th>\n",
       "      <th>payment_type</th>\n",
       "      <th>trip_type</th>\n",
       "      <th>congestion_surcharge</th>\n",
       "    </tr>\n",
       "  </thead>\n",
       "  <tbody>\n",
       "    <tr>\n",
       "      <th>0</th>\n",
       "      <td>VeriFone Inc.</td>\n",
       "      <td>2018-12-21 15:17:29</td>\n",
       "      <td>2018-12-21 15:18:57</td>\n",
       "      <td>N</td>\n",
       "      <td>Standard rate</td>\n",
       "      <td>Unknown,NV</td>\n",
       "      <td>Unknown,NV</td>\n",
       "      <td>5.0</td>\n",
       "      <td>0.00</td>\n",
       "      <td>3.0</td>\n",
       "      <td>0.5</td>\n",
       "      <td>0.5</td>\n",
       "      <td>0.00</td>\n",
       "      <td>0.0</td>\n",
       "      <td>NaN</td>\n",
       "      <td>0.3</td>\n",
       "      <td>4.30</td>\n",
       "      <td>Cash</td>\n",
       "      <td>Street-hail</td>\n",
       "      <td>NaN</td>\n",
       "    </tr>\n",
       "    <tr>\n",
       "      <th>1</th>\n",
       "      <td>VeriFone Inc.</td>\n",
       "      <td>2019-01-01 00:10:16</td>\n",
       "      <td>2019-01-01 00:16:32</td>\n",
       "      <td>N</td>\n",
       "      <td>Standard rate</td>\n",
       "      <td>Brooklyn,Fort Greene</td>\n",
       "      <td>Brooklyn,Clinton Hill</td>\n",
       "      <td>2.0</td>\n",
       "      <td>0.86</td>\n",
       "      <td>6.0</td>\n",
       "      <td>0.5</td>\n",
       "      <td>0.5</td>\n",
       "      <td>0.00</td>\n",
       "      <td>0.0</td>\n",
       "      <td>NaN</td>\n",
       "      <td>0.3</td>\n",
       "      <td>7.30</td>\n",
       "      <td>Cash</td>\n",
       "      <td>Street-hail</td>\n",
       "      <td>NaN</td>\n",
       "    </tr>\n",
       "    <tr>\n",
       "      <th>2</th>\n",
       "      <td>VeriFone Inc.</td>\n",
       "      <td>2019-01-01 00:27:11</td>\n",
       "      <td>2019-01-01 00:31:38</td>\n",
       "      <td>N</td>\n",
       "      <td>Standard rate</td>\n",
       "      <td>Brooklyn,Clinton Hill</td>\n",
       "      <td>Brooklyn,Prospect Heights</td>\n",
       "      <td>2.0</td>\n",
       "      <td>0.66</td>\n",
       "      <td>4.5</td>\n",
       "      <td>0.5</td>\n",
       "      <td>0.5</td>\n",
       "      <td>0.00</td>\n",
       "      <td>0.0</td>\n",
       "      <td>NaN</td>\n",
       "      <td>0.3</td>\n",
       "      <td>5.80</td>\n",
       "      <td>Credit card</td>\n",
       "      <td>Street-hail</td>\n",
       "      <td>NaN</td>\n",
       "    </tr>\n",
       "    <tr>\n",
       "      <th>3</th>\n",
       "      <td>VeriFone Inc.</td>\n",
       "      <td>2019-01-01 00:46:20</td>\n",
       "      <td>2019-01-01 01:04:54</td>\n",
       "      <td>N</td>\n",
       "      <td>Standard rate</td>\n",
       "      <td>Brooklyn,Prospect Heights</td>\n",
       "      <td>Brooklyn,Bedford</td>\n",
       "      <td>2.0</td>\n",
       "      <td>2.68</td>\n",
       "      <td>13.5</td>\n",
       "      <td>0.5</td>\n",
       "      <td>0.5</td>\n",
       "      <td>2.96</td>\n",
       "      <td>0.0</td>\n",
       "      <td>NaN</td>\n",
       "      <td>0.3</td>\n",
       "      <td>19.71</td>\n",
       "      <td>Credit card</td>\n",
       "      <td>Street-hail</td>\n",
       "      <td>NaN</td>\n",
       "    </tr>\n",
       "    <tr>\n",
       "      <th>4</th>\n",
       "      <td>VeriFone Inc.</td>\n",
       "      <td>2019-01-01 00:19:06</td>\n",
       "      <td>2019-01-01 00:39:43</td>\n",
       "      <td>N</td>\n",
       "      <td>Standard rate</td>\n",
       "      <td>Queens,Elmhurst</td>\n",
       "      <td>Queens,Woodhaven</td>\n",
       "      <td>1.0</td>\n",
       "      <td>4.53</td>\n",
       "      <td>18.0</td>\n",
       "      <td>0.5</td>\n",
       "      <td>0.5</td>\n",
       "      <td>0.00</td>\n",
       "      <td>0.0</td>\n",
       "      <td>NaN</td>\n",
       "      <td>0.3</td>\n",
       "      <td>19.30</td>\n",
       "      <td>Cash</td>\n",
       "      <td>Street-hail</td>\n",
       "      <td>NaN</td>\n",
       "    </tr>\n",
       "  </tbody>\n",
       "</table>\n",
       "</div>"
      ],
      "text/plain": [
       "          vendor lpep_pickup_datetime lpep_dropoff_datetime  \\\n",
       "0  VeriFone Inc.  2018-12-21 15:17:29   2018-12-21 15:18:57   \n",
       "1  VeriFone Inc.  2019-01-01 00:10:16   2019-01-01 00:16:32   \n",
       "2  VeriFone Inc.  2019-01-01 00:27:11   2019-01-01 00:31:38   \n",
       "3  VeriFone Inc.  2019-01-01 00:46:20   2019-01-01 01:04:54   \n",
       "4  VeriFone Inc.  2019-01-01 00:19:06   2019-01-01 00:39:43   \n",
       "\n",
       "  store_and_fwd_flag      rate_type                pu_location  \\\n",
       "0                  N  Standard rate                 Unknown,NV   \n",
       "1                  N  Standard rate       Brooklyn,Fort Greene   \n",
       "2                  N  Standard rate      Brooklyn,Clinton Hill   \n",
       "3                  N  Standard rate  Brooklyn,Prospect Heights   \n",
       "4                  N  Standard rate            Queens,Elmhurst   \n",
       "\n",
       "                 do_location  passenger_count  trip_distance  fare_amount  \\\n",
       "0                 Unknown,NV              5.0           0.00          3.0   \n",
       "1      Brooklyn,Clinton Hill              2.0           0.86          6.0   \n",
       "2  Brooklyn,Prospect Heights              2.0           0.66          4.5   \n",
       "3           Brooklyn,Bedford              2.0           2.68         13.5   \n",
       "4           Queens,Woodhaven              1.0           4.53         18.0   \n",
       "\n",
       "   extra  mta_tax  tip_amount  tolls_amount  ehail_fee  improvement_surcharge  \\\n",
       "0    0.5      0.5        0.00           0.0        NaN                    0.3   \n",
       "1    0.5      0.5        0.00           0.0        NaN                    0.3   \n",
       "2    0.5      0.5        0.00           0.0        NaN                    0.3   \n",
       "3    0.5      0.5        2.96           0.0        NaN                    0.3   \n",
       "4    0.5      0.5        0.00           0.0        NaN                    0.3   \n",
       "\n",
       "   total_amount payment_type    trip_type  congestion_surcharge  \n",
       "0          4.30         Cash  Street-hail                   NaN  \n",
       "1          7.30         Cash  Street-hail                   NaN  \n",
       "2          5.80  Credit card  Street-hail                   NaN  \n",
       "3         19.71  Credit card  Street-hail                   NaN  \n",
       "4         19.30         Cash  Street-hail                   NaN  "
      ]
     },
     "execution_count": 40,
     "metadata": {},
     "output_type": "execute_result"
    }
   ],
   "source": [
    "data.head()"
   ]
  },
  {
   "cell_type": "code",
   "execution_count": 49,
   "metadata": {},
   "outputs": [
    {
     "name": "stdout",
     "output_type": "stream",
     "text": [
      "Unique Passenger Counts: [  5.   2.   1.   3.   6.   4.  nan 444.   9.   8.   7.]\n",
      "Invalid Passenger Counts (<= 0): Empty DataFrame\n",
      "Columns: [vendor, lpep_pickup_datetime, lpep_dropoff_datetime, store_and_fwd_flag, rate_type, pu_location, do_location, passenger_count, trip_distance, fare_amount, extra, mta_tax, tip_amount, tolls_amount, ehail_fee, improvement_surcharge, total_amount, payment_type, trip_type, congestion_surcharge]\n",
      "Index: []\n",
      "Passenger Counts (> 6): 39\n"
     ]
    }
   ],
   "source": [
    "# Check unique values in 'passenger_count' column\n",
    "unique_passenger_count = data['passenger_count'].unique()\n",
    "print(\"Unique Passenger Counts:\", unique_passenger_count)\n",
    "\n",
    "# Check for any negative or zero values in 'passenger_count'\n",
    "invalid_passenger_count = data[data['passenger_count'] <= 0]\n",
    "print(\"Invalid Passenger Counts (<= 0):\", invalid_passenger_count)\n",
    "\n",
    "# Check for any passenger counts above 6\n",
    "high_passenger_count = data[data['passenger_count'] > 6]\n",
    "print(\"Passenger Counts (> 6):\", len(high_passenger_count))\n"
   ]
  },
  {
   "cell_type": "code",
   "execution_count": 169,
   "metadata": {},
   "outputs": [
    {
     "name": "stdout",
     "output_type": "stream",
     "text": [
      "Unique Passenger Counts: [  2.   1.   5.   6.   3.   4. 444.   8.   7.   9.]\n",
      "Invalid Passenger Counts (<= 0): Empty DataFrame\n",
      "Columns: [vendor, lpep_pickup_datetime, lpep_dropoff_datetime, store_and_fwd_flag, rate_type, pu_location, do_location, passenger_count, trip_distance, fare_amount, extra, mta_tax, tip_amount, tolls_amount, improvement_surcharge, total_amount, payment_type, trip_type]\n",
      "Index: []\n",
      "Passenger Counts (> 6): 19\n"
     ]
    }
   ],
   "source": [
    "data['passenger_count'].fillna(data['passenger_count'].median(), inplace=True)\n",
    "# Check unique values in 'passenger_count' column\n",
    "unique_passenger_count = data['passenger_count'].unique()\n",
    "print(\"Unique Passenger Counts:\", unique_passenger_count)\n",
    "\n",
    "# Check for any negative or zero values in 'passenger_count'\n",
    "invalid_passenger_count = data[data['passenger_count'] <= 0]\n",
    "print(\"Invalid Passenger Counts (<= 0):\", invalid_passenger_count)\n",
    "\n",
    "# Check for any passenger counts above 6\n",
    "high_passenger_count = data[data['passenger_count'] > 6]\n",
    "print(\"Passenger Counts (> 6):\", len(high_passenger_count))\n"
   ]
  },
  {
   "cell_type": "markdown",
   "metadata": {},
   "source": [
    "so there is 39 trips that had above 6 passengers which is very unusual assuming it is a sedan taxi, but we will check that in the outliers section"
   ]
  },
  {
   "cell_type": "code",
   "execution_count": 51,
   "metadata": {},
   "outputs": [
    {
     "data": {
      "text/html": [
       "<div>\n",
       "<style scoped>\n",
       "    .dataframe tbody tr th:only-of-type {\n",
       "        vertical-align: middle;\n",
       "    }\n",
       "\n",
       "    .dataframe tbody tr th {\n",
       "        vertical-align: top;\n",
       "    }\n",
       "\n",
       "    .dataframe thead th {\n",
       "        text-align: right;\n",
       "    }\n",
       "</style>\n",
       "<table border=\"1\" class=\"dataframe\">\n",
       "  <thead>\n",
       "    <tr style=\"text-align: right;\">\n",
       "      <th></th>\n",
       "      <th>vendor</th>\n",
       "      <th>lpep_pickup_datetime</th>\n",
       "      <th>lpep_dropoff_datetime</th>\n",
       "      <th>store_and_fwd_flag</th>\n",
       "      <th>rate_type</th>\n",
       "      <th>pu_location</th>\n",
       "      <th>do_location</th>\n",
       "      <th>passenger_count</th>\n",
       "      <th>trip_distance</th>\n",
       "      <th>fare_amount</th>\n",
       "      <th>extra</th>\n",
       "      <th>mta_tax</th>\n",
       "      <th>tip_amount</th>\n",
       "      <th>tolls_amount</th>\n",
       "      <th>ehail_fee</th>\n",
       "      <th>improvement_surcharge</th>\n",
       "      <th>total_amount</th>\n",
       "      <th>payment_type</th>\n",
       "      <th>trip_type</th>\n",
       "      <th>congestion_surcharge</th>\n",
       "    </tr>\n",
       "  </thead>\n",
       "  <tbody>\n",
       "    <tr>\n",
       "      <th>0</th>\n",
       "      <td>VeriFone Inc.</td>\n",
       "      <td>2018-12-21 15:17:29</td>\n",
       "      <td>2018-12-21 15:18:57</td>\n",
       "      <td>N</td>\n",
       "      <td>Standard rate</td>\n",
       "      <td>Unknown,NV</td>\n",
       "      <td>Unknown,NV</td>\n",
       "      <td>5.0</td>\n",
       "      <td>0.00</td>\n",
       "      <td>3.0</td>\n",
       "      <td>0.5</td>\n",
       "      <td>0.5</td>\n",
       "      <td>0.00</td>\n",
       "      <td>0.0</td>\n",
       "      <td>NaN</td>\n",
       "      <td>0.3</td>\n",
       "      <td>4.30</td>\n",
       "      <td>Cash</td>\n",
       "      <td>Street-hail</td>\n",
       "      <td>NaN</td>\n",
       "    </tr>\n",
       "    <tr>\n",
       "      <th>1</th>\n",
       "      <td>VeriFone Inc.</td>\n",
       "      <td>2019-01-01 00:10:16</td>\n",
       "      <td>2019-01-01 00:16:32</td>\n",
       "      <td>N</td>\n",
       "      <td>Standard rate</td>\n",
       "      <td>Brooklyn,Fort Greene</td>\n",
       "      <td>Brooklyn,Clinton Hill</td>\n",
       "      <td>2.0</td>\n",
       "      <td>0.86</td>\n",
       "      <td>6.0</td>\n",
       "      <td>0.5</td>\n",
       "      <td>0.5</td>\n",
       "      <td>0.00</td>\n",
       "      <td>0.0</td>\n",
       "      <td>NaN</td>\n",
       "      <td>0.3</td>\n",
       "      <td>7.30</td>\n",
       "      <td>Cash</td>\n",
       "      <td>Street-hail</td>\n",
       "      <td>NaN</td>\n",
       "    </tr>\n",
       "    <tr>\n",
       "      <th>2</th>\n",
       "      <td>VeriFone Inc.</td>\n",
       "      <td>2019-01-01 00:27:11</td>\n",
       "      <td>2019-01-01 00:31:38</td>\n",
       "      <td>N</td>\n",
       "      <td>Standard rate</td>\n",
       "      <td>Brooklyn,Clinton Hill</td>\n",
       "      <td>Brooklyn,Prospect Heights</td>\n",
       "      <td>2.0</td>\n",
       "      <td>0.66</td>\n",
       "      <td>4.5</td>\n",
       "      <td>0.5</td>\n",
       "      <td>0.5</td>\n",
       "      <td>0.00</td>\n",
       "      <td>0.0</td>\n",
       "      <td>NaN</td>\n",
       "      <td>0.3</td>\n",
       "      <td>5.80</td>\n",
       "      <td>Credit card</td>\n",
       "      <td>Street-hail</td>\n",
       "      <td>NaN</td>\n",
       "    </tr>\n",
       "    <tr>\n",
       "      <th>3</th>\n",
       "      <td>VeriFone Inc.</td>\n",
       "      <td>2019-01-01 00:46:20</td>\n",
       "      <td>2019-01-01 01:04:54</td>\n",
       "      <td>N</td>\n",
       "      <td>Standard rate</td>\n",
       "      <td>Brooklyn,Prospect Heights</td>\n",
       "      <td>Brooklyn,Bedford</td>\n",
       "      <td>2.0</td>\n",
       "      <td>2.68</td>\n",
       "      <td>13.5</td>\n",
       "      <td>0.5</td>\n",
       "      <td>0.5</td>\n",
       "      <td>2.96</td>\n",
       "      <td>0.0</td>\n",
       "      <td>NaN</td>\n",
       "      <td>0.3</td>\n",
       "      <td>19.71</td>\n",
       "      <td>Credit card</td>\n",
       "      <td>Street-hail</td>\n",
       "      <td>NaN</td>\n",
       "    </tr>\n",
       "    <tr>\n",
       "      <th>4</th>\n",
       "      <td>VeriFone Inc.</td>\n",
       "      <td>2019-01-01 00:19:06</td>\n",
       "      <td>2019-01-01 00:39:43</td>\n",
       "      <td>N</td>\n",
       "      <td>Standard rate</td>\n",
       "      <td>Queens,Elmhurst</td>\n",
       "      <td>Queens,Woodhaven</td>\n",
       "      <td>1.0</td>\n",
       "      <td>4.53</td>\n",
       "      <td>18.0</td>\n",
       "      <td>0.5</td>\n",
       "      <td>0.5</td>\n",
       "      <td>0.00</td>\n",
       "      <td>0.0</td>\n",
       "      <td>NaN</td>\n",
       "      <td>0.3</td>\n",
       "      <td>19.30</td>\n",
       "      <td>Cash</td>\n",
       "      <td>Street-hail</td>\n",
       "      <td>NaN</td>\n",
       "    </tr>\n",
       "  </tbody>\n",
       "</table>\n",
       "</div>"
      ],
      "text/plain": [
       "          vendor lpep_pickup_datetime lpep_dropoff_datetime  \\\n",
       "0  VeriFone Inc.  2018-12-21 15:17:29   2018-12-21 15:18:57   \n",
       "1  VeriFone Inc.  2019-01-01 00:10:16   2019-01-01 00:16:32   \n",
       "2  VeriFone Inc.  2019-01-01 00:27:11   2019-01-01 00:31:38   \n",
       "3  VeriFone Inc.  2019-01-01 00:46:20   2019-01-01 01:04:54   \n",
       "4  VeriFone Inc.  2019-01-01 00:19:06   2019-01-01 00:39:43   \n",
       "\n",
       "  store_and_fwd_flag      rate_type                pu_location  \\\n",
       "0                  N  Standard rate                 Unknown,NV   \n",
       "1                  N  Standard rate       Brooklyn,Fort Greene   \n",
       "2                  N  Standard rate      Brooklyn,Clinton Hill   \n",
       "3                  N  Standard rate  Brooklyn,Prospect Heights   \n",
       "4                  N  Standard rate            Queens,Elmhurst   \n",
       "\n",
       "                 do_location  passenger_count  trip_distance  fare_amount  \\\n",
       "0                 Unknown,NV              5.0           0.00          3.0   \n",
       "1      Brooklyn,Clinton Hill              2.0           0.86          6.0   \n",
       "2  Brooklyn,Prospect Heights              2.0           0.66          4.5   \n",
       "3           Brooklyn,Bedford              2.0           2.68         13.5   \n",
       "4           Queens,Woodhaven              1.0           4.53         18.0   \n",
       "\n",
       "   extra  mta_tax  tip_amount  tolls_amount  ehail_fee  improvement_surcharge  \\\n",
       "0    0.5      0.5        0.00           0.0        NaN                    0.3   \n",
       "1    0.5      0.5        0.00           0.0        NaN                    0.3   \n",
       "2    0.5      0.5        0.00           0.0        NaN                    0.3   \n",
       "3    0.5      0.5        2.96           0.0        NaN                    0.3   \n",
       "4    0.5      0.5        0.00           0.0        NaN                    0.3   \n",
       "\n",
       "   total_amount payment_type    trip_type  congestion_surcharge  \n",
       "0          4.30         Cash  Street-hail                   NaN  \n",
       "1          7.30         Cash  Street-hail                   NaN  \n",
       "2          5.80  Credit card  Street-hail                   NaN  \n",
       "3         19.71  Credit card  Street-hail                   NaN  \n",
       "4         19.30         Cash  Street-hail                   NaN  "
      ]
     },
     "execution_count": 51,
     "metadata": {},
     "output_type": "execute_result"
    }
   ],
   "source": [
    "data.head()"
   ]
  },
  {
   "cell_type": "code",
   "execution_count": 65,
   "metadata": {},
   "outputs": [
    {
     "name": "stdout",
     "output_type": "stream",
     "text": [
      "Earliest Pickup Datetime: 2009-01-01 00:05:59\n",
      "Latest Pickup Datetime: 2019-02-01 21:51:23\n"
     ]
    }
   ],
   "source": [
    "# Convert the column to datetime format for better analysis\n",
    "data['lpep_pickup_datetime'] = pd.to_datetime(data['lpep_pickup_datetime'])\n",
    "\n",
    "# Display the range and distribution of pickup datetimes\n",
    "print(\"Earliest Pickup Datetime:\", data['lpep_pickup_datetime'].min())\n",
    "print(\"Latest Pickup Datetime:\", data['lpep_pickup_datetime'].max())\n"
   ]
  },
  {
   "cell_type": "code",
   "execution_count": 246,
   "metadata": {},
   "outputs": [
    {
     "name": "stdout",
     "output_type": "stream",
     "text": [
      "Count of date values outside 2019: 47\n"
     ]
    }
   ],
   "source": [
    "# Convert the 'lpep_pickup_datetime' to datetime format for filtering\n",
    "data['lpep_pickup_datetime'] = pd.to_datetime(data['lpep_pickup_datetime'])\n",
    "\n",
    "# Filter to find date values outside 2019\n",
    "values_outside_2019 = data[~data['lpep_pickup_datetime'].dt.year.isin([2019])]\n",
    "\n",
    "# Count the occurrences of values outside 2019\n",
    "count_outside_2019 = len(values_outside_2019)\n",
    "\n",
    "print(\"Count of date values outside 2019:\", count_outside_2019)\n",
    "\n",
    "\n",
    "\n"
   ]
  },
  {
   "cell_type": "code",
   "execution_count": 247,
   "metadata": {},
   "outputs": [],
   "source": [
    "# Convert the 'lpep_pickup_datetime' to datetime format for filtering\n",
    "data['lpep_pickup_datetime'] = pd.to_datetime(data['lpep_pickup_datetime'])\n",
    "\n",
    "# Filter to remove date values outside 2019\n",
    "data = data[data['lpep_pickup_datetime'].dt.year.isin([2019])]"
   ]
  },
  {
   "cell_type": "code",
   "execution_count": 248,
   "metadata": {},
   "outputs": [
    {
     "name": "stdout",
     "output_type": "stream",
     "text": [
      "Count of date values outside 2019: 0\n"
     ]
    }
   ],
   "source": [
    "# Convert the 'lpep_pickup_datetime' to datetime format for filtering\n",
    "data['lpep_pickup_datetime'] = pd.to_datetime(data['lpep_pickup_datetime'])\n",
    "\n",
    "# Filter to find date values outside 2019\n",
    "values_outside_2019 = data[~data['lpep_pickup_datetime'].dt.year.isin([2019])]\n",
    "\n",
    "# Count the occurrences of values outside 2019\n",
    "count_outside_2019 = len(values_outside_2019)\n",
    "\n",
    "print(\"Count of date values outside 2019:\", count_outside_2019)\n",
    "\n"
   ]
  },
  {
   "cell_type": "markdown",
   "metadata": {},
   "source": [
    "latest pickup time is 2/1/2019 that's why congestive surcharge is missing. There is no any irregularities that we could find"
   ]
  },
  {
   "cell_type": "code",
   "execution_count": 66,
   "metadata": {},
   "outputs": [
    {
     "name": "stdout",
     "output_type": "stream",
     "text": [
      "Missing Pickup Datetime Entries: 0\n"
     ]
    }
   ],
   "source": [
    "# Check for missing values in the 'ipep pickup datetime' column\n",
    "missing_pickup_datetime = data['lpep_pickup_datetime'].isnull().sum()\n",
    "print(\"Missing Pickup Datetime Entries:\", missing_pickup_datetime)"
   ]
  },
  {
   "cell_type": "markdown",
   "metadata": {},
   "source": [
    "No missing values so no problem here"
   ]
  },
  {
   "cell_type": "code",
   "execution_count": 67,
   "metadata": {},
   "outputs": [
    {
     "name": "stdout",
     "output_type": "stream",
     "text": [
      "Earliest Dropoff Datetime: 2009-01-01 00:06:03\n",
      "Latest Dropoff Datetime: 2019-02-01 23:10:47\n"
     ]
    }
   ],
   "source": [
    "# Display the range and distribution of dropoff datetimes\n",
    "print(\"Earliest Dropoff Datetime:\", data['lpep_dropoff_datetime'].min())\n",
    "print(\"Latest Dropoff Datetime:\", data['lpep_dropoff_datetime'].max())\n"
   ]
  },
  {
   "cell_type": "code",
   "execution_count": 68,
   "metadata": {},
   "outputs": [
    {
     "name": "stdout",
     "output_type": "stream",
     "text": [
      "Missing Dropoff Datetime Entries: 0\n"
     ]
    }
   ],
   "source": [
    "missing_dropoff_datetime = data['lpep_dropoff_datetime'].isnull().sum()\n",
    "print(\"Missing Dropoff Datetime Entries:\", missing_dropoff_datetime)"
   ]
  },
  {
   "cell_type": "markdown",
   "metadata": {},
   "source": [
    "No missing values and no irregularities here"
   ]
  },
  {
   "cell_type": "code",
   "execution_count": 71,
   "metadata": {},
   "outputs": [
    {
     "name": "stdout",
     "output_type": "stream",
     "text": [
      "Unique Vendors: ['VeriFone Inc.' 'Creative Mobile Technologies, LLC' 'Unknown']\n",
      "Vendor Counts:\n",
      " vendor\n",
      "VeriFone Inc.                        578430\n",
      "Creative Mobile Technologies, LLC     93684\n",
      "Unknown                                   2\n",
      "Name: count, dtype: int64\n"
     ]
    }
   ],
   "source": [
    "# Display unique values in the 'vendor' column\n",
    "unique_vendors = data['vendor'].unique()\n",
    "print(\"Unique Vendors:\", unique_vendors)\n",
    "\n",
    "# Count occurrences of each unique vendor\n",
    "vendor_counts = data['vendor'].value_counts()\n",
    "print(\"Vendor Counts:\\n\", vendor_counts)\n"
   ]
  },
  {
   "cell_type": "markdown",
   "metadata": {},
   "source": [
    "only 2 unknown values everything else is safe and sound, since they are super low compared to the total data set and we they are MCAR, we can just drop them"
   ]
  },
  {
   "cell_type": "code",
   "execution_count": 73,
   "metadata": {},
   "outputs": [
    {
     "name": "stdout",
     "output_type": "stream",
     "text": [
      "Vendor Counts:\n",
      " vendor\n",
      "VeriFone Inc.                        578430\n",
      "Creative Mobile Technologies, LLC     93684\n",
      "Name: count, dtype: int64\n"
     ]
    }
   ],
   "source": [
    "# Drop rows with 'Unknown' in the 'vendor' column\n",
    "data = data[data['vendor'] != 'Unknown']\n",
    "\n",
    "# Count occurrences of each unique vendor\n",
    "vendor_counts = data['vendor'].value_counts()\n",
    "print(\"Vendor Counts:\\n\", vendor_counts)\n",
    "\n"
   ]
  },
  {
   "cell_type": "markdown",
   "metadata": {},
   "source": [
    "from the discussion done in the first section, store and fwd flag had some, but not many, nan values. since it's a flag, it's suitable to replace the nan values with the mode"
   ]
  },
  {
   "cell_type": "code",
   "execution_count": 80,
   "metadata": {},
   "outputs": [
    {
     "name": "stderr",
     "output_type": "stream",
     "text": [
      "C:\\Users\\anaya\\AppData\\Local\\Temp\\ipykernel_30748\\967218395.py:3: SettingWithCopyWarning: \n",
      "A value is trying to be set on a copy of a slice from a DataFrame\n",
      "\n",
      "See the caveats in the documentation: https://pandas.pydata.org/pandas-docs/stable/user_guide/indexing.html#returning-a-view-versus-a-copy\n",
      "  data['store_and_fwd_flag'].fillna(most_frequent_category, inplace=True)\n"
     ]
    }
   ],
   "source": [
    "# Replace NaN values with the most frequent category in 'store and fwd flag'\n",
    "most_frequent_category = data['store_and_fwd_flag'].mode()[0]\n",
    "data['store_and_fwd_flag'].fillna(most_frequent_category, inplace=True)\n"
   ]
  },
  {
   "cell_type": "code",
   "execution_count": 83,
   "metadata": {},
   "outputs": [
    {
     "data": {
      "image/png": "[encoded data removed]",
      "text/plain": [
       "<Figure size 800x600 with 1 Axes>"
      ]
     },
     "metadata": {},
     "output_type": "display_data"
    },
    {
     "name": "stdout",
     "output_type": "stream",
     "text": [
      "Store Counts:\n",
      " store_and_fwd_flag\n",
      "N    670866\n",
      "Y      1248\n",
      "Name: count, dtype: int64\n"
     ]
    }
   ],
   "source": [
    "value_counts = data['store_and_fwd_flag'].value_counts(dropna=False)\n",
    "\n",
    "# Plotting the count of 'store and fwd flag' values using Pandas\n",
    "plt.figure(figsize=(8, 6))\n",
    "value_counts.plot(kind='bar', color='skyblue')\n",
    "plt.title('Count of Store and Forward Flags')\n",
    "plt.xlabel('Flag')\n",
    "plt.ylabel('Count')\n",
    "plt.show()\n",
    "\n",
    "\n",
    "store_counts = data['store_and_fwd_flag'].value_counts()\n",
    "print(\"Store Counts:\\n\", store_counts)"
   ]
  },
  {
   "cell_type": "markdown",
   "metadata": {},
   "source": [
    "we know that there are unkown values in the rate types as that of the previous discussion presented in the first section, now let's count them and handle them"
   ]
  },
  {
   "cell_type": "code",
   "execution_count": 85,
   "metadata": {},
   "outputs": [
    {
     "name": "stdout",
     "output_type": "stream",
     "text": [
      "Count of 'Unknown' Rate Types: 41577\n"
     ]
    }
   ],
   "source": [
    "# Count occurrences of 'Unknown' in the 'RateCode' column\n",
    "unknown_rates_count = data[data['rate_type'] == 'Unknown'].shape[0]\n",
    "print(\"Count of 'Unknown' Rate Types:\", unknown_rates_count)\n"
   ]
  },
  {
   "cell_type": "markdown",
   "metadata": {},
   "source": [
    "so unkown is about 6% of the total Rate types"
   ]
  },
  {
   "cell_type": "code",
   "execution_count": 87,
   "metadata": {},
   "outputs": [
    {
     "name": "stderr",
     "output_type": "stream",
     "text": [
      "C:\\Users\\anaya\\AppData\\Local\\Temp\\ipykernel_30748\\4135872925.py:5: SettingWithCopyWarning: \n",
      "A value is trying to be set on a copy of a slice from a DataFrame.\n",
      "Try using .loc[row_indexer,col_indexer] = value instead\n",
      "\n",
      "See the caveats in the documentation: https://pandas.pydata.org/pandas-docs/stable/user_guide/indexing.html#returning-a-view-versus-a-copy\n",
      "  data['rate_type'] = data['rate_type'].replace('Unknown', most_frequent_rate)\n"
     ]
    }
   ],
   "source": [
    "# Identify the most frequent rate type\n",
    "most_frequent_rate = data['rate_type'].mode()[0]\n",
    "\n",
    "# Replace 'Unknown' entries with the most frequent rate type\n",
    "data['rate_type'] = data['rate_type'].replace('Unknown', most_frequent_rate)\n",
    "\n",
    "\n"
   ]
  },
  {
   "cell_type": "code",
   "execution_count": 89,
   "metadata": {},
   "outputs": [
    {
     "name": "stdout",
     "output_type": "stream",
     "text": [
      "Count of 'Unknown' Rate Types: 0\n"
     ]
    }
   ],
   "source": [
    "# Count occurrences of 'Unknown' in the 'RateCode' column\n",
    "unknown_rates_count = data[data['rate_type'] == 'Unknown'].shape[0]\n",
    "print(\"Count of 'Unknown' Rate Types:\", unknown_rates_count)\n"
   ]
  },
  {
   "cell_type": "code",
   "execution_count": 91,
   "metadata": {},
   "outputs": [
    {
     "name": "stdout",
     "output_type": "stream",
     "text": [
      "object\n",
      "0                   Unknown,NV\n",
      "1         Brooklyn,Fort Greene\n",
      "2        Brooklyn,Clinton Hill\n",
      "3    Brooklyn,Prospect Heights\n",
      "4              Queens,Elmhurst\n",
      "Name: pu_location, dtype: object\n"
     ]
    }
   ],
   "source": [
    "# Display the data type and sample values of the 'PU Location' column\n",
    "print(data['pu_location'].dtype)\n",
    "print(data['pu_location'].head())\n"
   ]
  },
  {
   "cell_type": "code",
   "execution_count": 94,
   "metadata": {},
   "outputs": [
    {
     "name": "stdout",
     "output_type": "stream",
     "text": [
      "Count of entries with 'Unknown' in PU Location: 1329\n",
      "Count of 'Unknown' entries on their own in PU Location: 0\n"
     ]
    }
   ],
   "source": [
    "# Count entries with 'Unknown' in 'PU Location'\n",
    "unknown_count = data[data['pu_location'].str.contains('Unknown')].shape[0]\n",
    "\n",
    "unknown_alone_count = data[data['pu_location'] == 'Unknown'].shape[0]\n",
    "\n",
    "\n",
    "# Display count of 'Unknown' and other variations in 'PU Location'\n",
    "print(\"Count of entries with 'Unknown' in PU Location:\", unknown_count)\n",
    "\n",
    "\n",
    "print(\"Count of 'Unknown' entries on their own in PU Location:\", unknown_alone_count)\n",
    "\n"
   ]
  },
  {
   "cell_type": "markdown",
   "metadata": {},
   "source": [
    "This means that every Unkown value in the PU location column is part of a not complete address not a full unkown value The presence of 'Unknown' as part of another value in the 'PU Location' column suggests a form of Missing Not At Random (MNAR) situation.\n",
    "\n",
    "MNAR refers to missing data that is not random and is related to unobserved data. In this case, the presence of 'Unknown' in the 'PU Location' data could be due to unrecorded or unavailable information about the specific pickup locations. The 'Unknown' string might represent locations that were not captured or documented, leading to missing data that is correlated with the reason for being unrecorded."
   ]
  },
  {
   "cell_type": "code",
   "execution_count": 95,
   "metadata": {},
   "outputs": [
    {
     "name": "stdout",
     "output_type": "stream",
     "text": [
      "Count of entries with 'Unknown' in DO Location: 1884\n",
      "Count of 'Unknown' entries on their own in DO Location: 0\n"
     ]
    }
   ],
   "source": [
    "# Count entries with 'Unknown' in 'DO Location'\n",
    "unknown_count = data[data['do_location'].str.contains('Unknown')].shape[0]\n",
    "\n",
    "unknown_alone_count = data[data['do_location'] == 'Unknown'].shape[0]\n",
    "\n",
    "\n",
    "# Display count of 'Unknown' and other variations in 'PU Location'\n",
    "print(\"Count of entries with 'Unknown' in DO Location:\", unknown_count)\n",
    "\n",
    "\n",
    "print(\"Count of 'Unknown' entries on their own in DO Location:\", unknown_alone_count)\n"
   ]
  },
  {
   "cell_type": "markdown",
   "metadata": {},
   "source": [
    "exactly the same case as PU Location"
   ]
  },
  {
   "cell_type": "markdown",
   "metadata": {},
   "source": [
    "we checked the consistency of the number of passenger column in the previous section, and we found out that it has outliers that we will handle on an upcoming section"
   ]
  },
  {
   "cell_type": "code",
   "execution_count": 97,
   "metadata": {},
   "outputs": [
    {
     "name": "stdout",
     "output_type": "stream",
     "text": [
      "Inconsistent (negative) Trip Distances: 0\n"
     ]
    }
   ],
   "source": [
    "# Checking for inconsistencies or unrealistic values in the 'Trip Distance' column\n",
    "inconsistent_trip_distance = data[(data['trip_distance'] < 0)].shape[0]\n",
    "print(\"Inconsistent (negative) Trip Distances:\", inconsistent_trip_distance)\n"
   ]
  },
  {
   "cell_type": "markdown",
   "metadata": {},
   "source": [
    "no inconsistent data"
   ]
  },
  {
   "cell_type": "code",
   "execution_count": 99,
   "metadata": {},
   "outputs": [
    {
     "name": "stdout",
     "output_type": "stream",
     "text": [
      "Count of zero values in Trip Distance: 11095\n",
      "Missing values in Trip Distance: 0\n"
     ]
    }
   ],
   "source": [
    "# Count occurrences of zero values in the 'Trip Distance' column\n",
    "zero_trip_distance = data[data['trip_distance'] == 0].shape[0]\n",
    "\n",
    "# Count missing values in the 'Trip Distance' column\n",
    "missing_trip_distance = data['trip_distance'].isnull().sum()\n",
    "\n",
    "print(\"Count of zero values in Trip Distance:\", zero_trip_distance)\n",
    "print(\"Missing values in Trip Distance:\", missing_trip_distance)"
   ]
  },
  {
   "cell_type": "code",
   "execution_count": 100,
   "metadata": {},
   "outputs": [
    {
     "name": "stdout",
     "output_type": "stream",
     "text": [
      "Count of zero distance trips with the same start and end location: 8594\n"
     ]
    }
   ],
   "source": [
    "# Filter entries with zero trip distance\n",
    "zero_distance_entries = data[data['trip_distance'] == 0]\n",
    "\n",
    "# Check if starting and ending points are the same for entries with zero trip distance\n",
    "same_start_end_location = zero_distance_entries[zero_distance_entries['pu_location'] == zero_distance_entries['do_location']]\n",
    "print(\"Count of zero distance trips with the same start and end location:\", same_start_end_location.shape[0])\n"
   ]
  },
  {
   "cell_type": "code",
   "execution_count": 101,
   "metadata": {},
   "outputs": [
    {
     "name": "stdout",
     "output_type": "stream",
     "text": [
      "[0.]\n"
     ]
    }
   ],
   "source": [
    "# Filter entries with both the same start and end location and zero trip distance\n",
    "same_start_end_zero_distance = zero_distance_entries[zero_distance_entries['pu_location'] == zero_distance_entries['do_location']]\n",
    "\n",
    "# Display trip distances for these entries\n",
    "print(same_start_end_zero_distance['trip_distance'].unique())\n"
   ]
  },
  {
   "cell_type": "code",
   "execution_count": 102,
   "metadata": {},
   "outputs": [
    {
     "name": "stdout",
     "output_type": "stream",
     "text": [
      "[ 4.3000e+00  6.0000e+01  4.5000e+01  1.2000e+01  3.8000e+00 -3.8000e+00\n",
      "  5.5000e+01  2.5050e+02  1.8000e+01  4.7800e+01 -6.3000e+00  6.3000e+00\n",
      "  2.2000e+01  4.0000e+01  2.0000e+01  1.8800e+01  1.0000e+01  2.5000e+01\n",
      "  9.8000e+00  3.0000e+01  9.0000e+00  2.4000e+01  2.7000e+01  9.2000e+00\n",
      "  1.5000e+01  5.1000e+00  6.5000e+01  4.9400e+00  3.8800e+01  1.9000e+01\n",
      "  5.0000e+01  9.6600e+01  4.2000e+01  1.6900e+01  7.2000e+00  1.2960e+01\n",
      "  0.0000e+00  7.2000e+01  2.2050e+01  4.5000e-01  6.3800e+01  1.4400e+01\n",
      "  1.5600e+02  1.5800e+01  7.1890e+01  1.5600e+01  3.0660e+01  2.6400e+01\n",
      "  6.6000e+01  1.5080e+02  2.6000e+01  3.3000e+00  1.7000e+01  5.2000e+01\n",
      "  3.0450e+01  2.0550e+01  2.0300e+01  1.1000e+01  2.1110e+01  1.5500e+01\n",
      "  6.0010e+01  4.8000e+01  5.3800e+00  3.0300e+01  8.0000e+00  4.0330e+01\n",
      "  3.9600e+00  2.2870e+01 -3.3000e+00  1.5550e+01  2.1000e+01  5.3000e+00\n",
      "  1.3300e+01  2.2750e+01  5.9600e+00  2.3000e+01  1.4000e+01  1.1060e+01\n",
      "  5.0000e-01  2.0800e+01  4.4500e+00  1.0800e+01  5.8000e+00  8.7500e+00\n",
      "  4.8000e+00  3.7800e+01  5.2800e+01  5.7500e+00  3.9300e+01  8.8700e+00\n",
      "  2.6110e+01  2.5000e+00  3.4380e+01  6.0000e+00  6.8000e+00  3.4300e+01\n",
      "  4.9000e+01  4.9200e+01  4.5600e+00  2.9800e+01  2.1800e+01 -1.0300e+01\n",
      "  1.0300e+01  7.0000e+01  1.8380e+01  1.2500e+01  8.8000e+00  1.2300e+01\n",
      " -9.8000e+00  5.7600e+00  9.9800e+00  1.8160e+01  7.8000e+00  9.1000e+00\n",
      "  3.3100e+00  2.4300e+01  8.3100e+00  6.0700e+00  5.9260e+01  2.7500e+01\n",
      "  5.0000e+00  5.9100e+00  7.3000e+00  1.9490e+01  8.4000e+00  1.4300e+01\n",
      "  8.3000e+00  9.9240e+01  3.6300e+00  9.0600e+00  3.6400e+01 -8.8000e+00\n",
      "  4.7230e+01  6.6200e+00  1.1300e+01 -4.3000e+00  5.7300e+01  5.5900e+00\n",
      "  1.6800e+01  1.0080e+01  9.6000e+00  5.0000e-02  1.1500e+02  1.0000e+00\n",
      "  2.2100e+01  2.6640e+01  6.9000e+01  3.0000e+02  3.6000e+01  3.5000e+00\n",
      "  9.7500e+00  3.0080e+01  9.0700e+00  2.6000e+02  1.8000e+02  1.6000e+01\n",
      "  1.0100e+01  1.7400e+01  3.8200e+00  2.8500e+01  1.5540e+01  8.4600e+00\n",
      "  1.0000e-02  2.0590e+01  8.4000e+01  1.2500e+02  3.3400e+00  1.3100e+01\n",
      "  4.8400e+01  3.1000e+01  4.5000e+00  1.7510e+01  1.9550e+01  3.0000e+00\n",
      "  1.0560e+01  4.1200e+00  1.7090e+01  3.9500e+00  2.2310e+01  1.6160e+01\n",
      "  8.9100e+00  4.9120e+01  4.6000e+00  3.3200e+00  5.2300e+01  2.2630e+01\n",
      "  2.1520e+01  1.3000e+01  7.0000e+00  9.3000e+00  2.1600e+01  5.4600e+01\n",
      "  2.0500e+01 -7.2000e+00  3.0810e+01 -4.8000e+00  6.2800e+01  6.3360e+01\n",
      "  3.3970e+01  2.6840e+01  5.1600e+00  3.3500e+00  2.8340e+01  2.0340e+01\n",
      "  2.9970e+01  1.9500e+01  7.9560e+01  3.5840e+01  1.9010e+01  1.4500e+02\n",
      "  2.5360e+01  1.5520e+01  5.3230e+01  2.7010e+01  2.1300e+01  7.0100e+00\n",
      "  3.3000e+01  3.5000e+01  1.1800e+01  1.8010e+01  5.2290e+01  5.3800e+01\n",
      "  4.3750e+01  4.6980e+01  4.5290e+01  5.4000e+01  1.6250e+01 -1.5000e+01\n",
      "  8.0000e-02  2.1380e+01  1.0010e+01  2.1310e+01  3.4040e+01 -3.9600e+00\n",
      "  5.0370e+01  1.0400e+01  4.1000e+00  2.4090e+01  6.3500e+00  2.8000e+01\n",
      "  4.4710e+01  9.9600e+00  7.0000e-02  1.5300e+01  1.1100e+01  4.1000e+01\n",
      "  4.0400e+01  3.5800e+01  1.3800e+01  4.7500e+00  1.0110e+01  1.8750e+01\n",
      "  1.4800e+01  5.0890e+01  4.7000e+01 -5.2800e+01  2.4940e+01  3.9010e+01\n",
      "  5.7600e+01  7.8800e+00  4.2900e+00  1.8200e+01  7.0500e+00 -4.5000e+01\n",
      "  4.0480e+01  6.7000e+01  4.1640e+01  2.8290e+01  1.2360e+01  3.0740e+01\n",
      "  4.0050e+01  2.0940e+01  5.7700e+00  8.1600e+00  7.7100e+00  1.5910e+01\n",
      "  1.6880e+01  3.1840e+01  7.1100e+00  5.8900e+00 -5.3820e+01  5.3820e+01\n",
      "  2.7980e+01  6.1630e+01  4.3500e+00  1.3030e+01  1.9280e+01  1.8300e+01\n",
      "  3.1460e+01  2.6760e+01  1.2800e+01  6.5100e+00  2.7600e+01  1.6300e+01\n",
      "  2.9050e+01  2.5010e+01  2.4800e+01  1.8960e+01  6.2500e+00  1.6730e+01\n",
      "  2.7500e+00 -1.0000e+00  3.0140e+01  2.6990e+01  2.3390e+01  1.6960e+01\n",
      "  3.6260e+01  1.7300e+01  8.0100e+00  4.6000e+01  2.4550e+01  6.9600e+00\n",
      " -5.7300e+01  6.2300e+01  1.0000e+02  5.2500e+01  1.6480e+01  3.1000e-01\n",
      "  5.6000e+01  1.9800e+01  3.4940e+01  2.5310e+01  3.8800e+00  2.8570e+01\n",
      "  2.3220e+01  2.3450e+01  2.1580e+01  1.4120e+01 -2.0300e+01  4.1130e+01\n",
      "  1.8700e+01  1.9100e+01  8.0800e+00  3.3250e+01  4.0680e+01 -5.3000e+00\n",
      "  4.6370e+01  3.6640e+01  1.6890e+01  2.4720e+01  2.7050e+01  1.7120e+01\n",
      "  2.1450e+01  8.9500e+00  4.3770e+01  1.7320e+01  6.5760e+01  1.7550e+01\n",
      "  2.7490e+01  7.7980e+01  4.3100e+00  4.8200e+00  7.7500e+00  2.3100e+01\n",
      "  8.1000e+00  2.2800e+01 -1.5800e+01  1.5080e+01  8.7600e+00  2.8800e+01\n",
      "  1.9300e+01  1.0460e+01  2.3800e+01  1.4300e+02  1.7690e+01  2.6260e+01\n",
      "  1.0880e+01  2.2540e+01  4.3400e+00  1.3200e+01  2.1500e+01  1.9980e+01\n",
      "  3.6760e+01  3.9640e+01  5.7860e+01  4.4730e+01  5.5960e+01  9.1200e+00\n",
      "  4.6920e+01  1.8470e+01  2.3850e+01  2.3980e+01  2.9220e+01  7.2500e+00\n",
      "  3.8110e+01  1.8500e+01  6.3600e+00  5.6250e+01  8.5000e+00  7.6800e+00\n",
      "  3.8000e+01 -2.5000e+01  1.7500e+01  2.0400e+01  1.8360e+01  4.3080e+01\n",
      " -9.0600e+00  1.1668e+02  7.5000e+00  1.7800e+01  1.5000e-01  7.5000e+01\n",
      "  4.3740e+01  2.3000e+02  3.5290e+01  1.2000e-01  4.5500e+01  1.6250e+02\n",
      "  2.7200e+01  2.6600e+00 -3.3000e+01  1.8120e+01  4.5600e+01  3.1250e+01\n",
      "  3.1560e+01  2.3840e+01  2.1850e+01 -5.7600e+00  1.8820e+01  1.6620e+01\n",
      "  4.5890e+01  2.5050e+01  2.4020e+01  5.5500e+00  1.0550e+01  3.4150e+01\n",
      "  6.8900e+00  6.6000e+00  4.5300e+01  8.6800e+00  6.5310e+01  4.0100e+01\n",
      "  1.1700e+01  3.8150e+01  1.0500e+01  3.9780e+01 -4.1390e+01  4.1390e+01\n",
      "  2.3150e+01  5.6790e+01  3.8240e+01  3.4520e+01  1.1160e+01  3.3900e+00\n",
      "  8.1800e+00  2.2390e+01  6.8500e+00  2.9990e+01  3.4670e+01  1.0908e+02\n",
      "  5.0850e+01  1.7840e+01  3.3950e+01  2.1570e+01 -3.6040e+01  3.6040e+01\n",
      "  2.3430e+01  3.2430e+01  4.0200e+01  8.0480e+01  2.6790e+01  2.4580e+01\n",
      " -2.0520e+01  2.0520e+01  2.5900e+01  1.6660e+01  2.5840e+01  7.6480e+01\n",
      " -1.3000e+01  3.3330e+01 -1.2000e+01  3.3430e+01  1.6590e+01  4.1310e+01\n",
      "  3.0180e+01  2.1190e+01  8.0500e+00  8.7500e+01  2.7360e+01  1.2110e+01\n",
      "  6.0200e+00  2.3940e+01  3.3600e+01  2.4000e+00 -3.5000e+00  2.1460e+01\n",
      "  3.6330e+01 -3.0000e+00  4.2590e+01  1.8550e+01  3.5130e+01  3.6680e+01\n",
      "  2.0230e+01  2.4810e+01 -2.3870e+01  2.3870e+01  1.9440e+01 -4.5600e+00\n",
      "  2.2140e+01  7.3300e+00  8.0000e+01 -3.2000e+01  3.2000e+01  2.6080e+01\n",
      "  5.3000e+01  2.2300e+01  1.0790e+01  4.3800e+01  7.5400e+00  1.9200e+01\n",
      "  9.6000e+01  2.4460e+01 -1.3300e+01  1.6760e+01  1.5770e+01  9.0000e+01\n",
      "  5.2870e+01  1.8050e+01 -3.0000e+01  1.8940e+01  1.0320e+02  3.2490e+01\n",
      " -5.0000e-02  2.2020e+01 -7.0000e+00  1.3560e+01  7.3200e+00  3.3750e+01\n",
      "  8.0900e+00  6.0770e+01  1.4760e+01  7.0800e+00 -9.4000e+01  9.4000e+01\n",
      "  7.5600e+00  2.6630e+01  4.3900e+01  5.0640e+01  3.0900e+01  2.4050e+01\n",
      "  1.6100e+01  3.6790e+01  6.8830e+01  4.8700e+01  1.5100e+01  1.2000e+02\n",
      "  2.2010e+01  3.8400e+01  6.0960e+01  3.6000e+00  1.6530e+01 -4.0000e+01\n",
      "  2.3000e+00  3.0380e+01  8.1100e+00  4.5990e+01  5.1100e+00  1.7160e+01\n",
      " -1.2000e+02  7.5500e+01  3.8580e+01  2.0770e+01  3.3600e+00  2.8770e+01\n",
      "  3.5320e+01  2.4060e+01  1.4000e+00  3.6690e+01  4.9300e+01  1.1750e+01\n",
      "  3.0860e+01  4.7220e+01 -8.7400e+01  8.7400e+01  6.8750e+01  1.5850e+01\n",
      "  1.9560e+01  1.0001e+02  8.8400e+00 -6.0000e+00  3.2500e+01  2.9900e+01\n",
      "  4.8430e+01  1.9990e+01  3.0670e+01  2.7300e+01  5.7000e+01 -3.9540e+01\n",
      "  3.9540e+01  6.8700e+00  2.0910e+01  3.0200e+01  1.3880e+01  1.1600e+02\n",
      "  1.2302e+02  1.9730e+01  1.3860e+01  3.5450e+01  1.7170e+01  6.6310e+01\n",
      " -6.0700e+00  2.9370e+01  1.0180e+01  4.0000e+02 -1.0000e-02  1.9230e+01\n",
      "  4.9000e+00  4.4990e+01 -4.9670e+01  4.9670e+01  3.5960e+01  2.2840e+01\n",
      "  3.3150e+01  1.3500e+01  1.9660e+01  1.7890e+01  1.8180e+01 -4.3530e+01\n",
      "  4.3530e+01  2.3140e+01  1.9890e+01  6.5000e+00  5.1790e+01  2.0780e+01\n",
      "  3.7830e+01  4.1350e+01  3.2640e+01  2.8690e+01 -1.7360e+01  1.7360e+01\n",
      "  1.2070e+01  3.4320e+01  1.7870e+01  4.0460e+01 -7.2500e+00  5.6680e+01\n",
      "  3.7470e+01  1.6910e+01  3.4110e+01  3.2400e+01  4.7700e+01  2.0570e+01\n",
      "  1.9750e+01  2.4790e+01  3.5300e+01  4.0000e+00  9.9000e+01  1.7200e+01\n",
      " -4.2000e+01  6.9700e+00 -1.0000e+01  2.2500e+01  3.2540e+01  1.9600e+01\n",
      "  4.7020e+01  2.5600e+01  1.7350e+01  3.8500e+01  1.6240e+01  1.9850e+01\n",
      "  2.2560e+01 -6.5310e+01  1.7000e+00  2.0400e+00  4.8900e+00  2.3500e+01\n",
      " -4.3900e+00  4.3900e+00  1.0250e+01  3.8350e+01  2.5330e+01 -4.5800e+01\n",
      "  4.5800e+01  7.0010e+01  6.2400e+00  1.9680e+01  1.2010e+01  2.2200e+01\n",
      " -5.8000e+00  2.9310e+01  4.1590e+01  4.7590e+01  4.5640e+01  2.0020e+01\n",
      "  2.1710e+01  2.4100e+01  3.9310e+01  7.0700e+00  4.8020e+01  6.9300e+00\n",
      "  1.2880e+01  6.5200e+01  1.2120e+01  1.5010e+01  3.3800e+01  2.5040e+01\n",
      "  6.9500e+00  4.0070e+01  1.0800e+02  3.4000e+01  7.8660e+01  3.2970e+01\n",
      "  1.6140e+01  1.5370e+01  4.3200e+00  2.0010e+01  2.7800e+01  1.1000e+02\n",
      "  1.5360e+01 -4.2900e+00  2.8320e+01  1.0600e+01  3.2140e+01  1.1110e+01\n",
      "  8.5000e+01  1.3550e+01  6.4000e+01  1.9710e+01  9.8800e+00  3.0820e+01\n",
      "  1.1840e+01  1.5950e+01  7.8000e+01  3.7090e+01  2.5200e+01  3.2670e+01\n",
      "  4.7990e+01 -4.0800e+01  4.0800e+01  9.3600e+00  3.9820e+01 -1.1000e+01\n",
      "  1.7050e+01 -4.1250e+01  4.1250e+01  1.9190e+01 -1.5500e+01  8.8800e+00\n",
      "  3.2500e+00  5.6350e+01  2.0960e+01 -5.1620e+01  5.1620e+01  1.5960e+01\n",
      "  3.5030e+01  3.5010e+01  3.3640e+01  4.8420e+01  1.6460e+01 -5.1600e+00\n",
      "  2.4960e+01  5.5000e+00  7.7000e+00  1.9020e+01  2.6350e+01  4.0010e+01\n",
      "  1.6420e+01  1.2430e+01  4.7540e+01 -5.0000e+01  2.6020e+01  1.0510e+01\n",
      "  1.6430e+01  2.7440e+01  1.3070e+01  2.7100e+01  1.6680e+01  1.3130e+01\n",
      " -2.4000e-01  2.4000e-01  4.3200e+01  3.7000e+01  1.9000e+00  3.8500e+00\n",
      " -2.0000e+00  2.0000e+00  1.1000e+00  2.6800e+01  2.2110e+01  1.1150e+01\n",
      "  1.0380e+01  4.0390e+01  5.8500e+01  1.6000e+02  9.3600e+01  3.6840e+01\n",
      "  6.2670e+01  2.7880e+01  2.2710e+01  2.0040e+01  2.0220e+01  1.7230e+01\n",
      "  8.5800e+00  3.1080e+01  4.5960e+01  1.1310e+01  5.0550e+01  1.3420e+01\n",
      "  7.0250e+01  2.7680e+01  1.0470e+01  1.0050e+01  1.6180e+01  3.8410e+01\n",
      "  2.4350e+01  2.6880e+01  4.4360e+01  3.3770e+01  1.7190e+01  2.1120e+01\n",
      "  3.1750e+01  1.5380e+01  8.3800e+00 -6.8000e+00  4.6090e+01  1.5611e+02\n",
      "  1.6500e+01  7.3390e+01  4.3310e+01  4.3000e+01  4.6500e+01  8.1000e+01\n",
      "  2.5500e+01  6.2700e+01  5.1900e+01  2.9000e+01  6.8100e+01  3.9500e+01\n",
      "  7.3500e+01  6.5400e+01  8.3500e+01  7.0800e+01  7.8500e+01  7.6000e+01\n",
      "  9.3500e+01  8.8500e+01  8.6000e+01]\n"
     ]
    }
   ],
   "source": [
    "# Filter entries with both the same start and end location and zero trip distance\n",
    "same_start_end_zero_distance = zero_distance_entries[zero_distance_entries['pu_location'] == zero_distance_entries['do_location']]\n",
    "\n",
    "# Display trip distances for these entries\n",
    "print(same_start_end_zero_distance['total_amount'].unique())\n"
   ]
  },
  {
   "cell_type": "code",
   "execution_count": 103,
   "metadata": {},
   "outputs": [
    {
     "name": "stdout",
     "output_type": "stream",
     "text": [
      "['Cash' 'Credit card' 'No charge' nan 'Dispute' 'Uknown' 'Unknown']\n"
     ]
    }
   ],
   "source": [
    "# Filter entries with both the same start and end location and zero trip distance\n",
    "same_start_end_zero_distance = zero_distance_entries[zero_distance_entries['pu_location'] == zero_distance_entries['do_location']]\n",
    "\n",
    "# Display trip distances for these entries\n",
    "print(same_start_end_zero_distance['payment_type'].unique())"
   ]
  },
  {
   "cell_type": "markdown",
   "metadata": {},
   "source": [
    "so after finding out that there are trip distances that are zero and the majority of them has the starting point and ending point the same. not only that, but many other column values for these rows are missing or inconsistent, it's found that it's acceptable to remove all the rows with starting point and ending point the same"
   ]
  },
  {
   "cell_type": "code",
   "execution_count": 104,
   "metadata": {},
   "outputs": [],
   "source": [
    "# Filter rows where pickup and dropoff locations are not the same\n",
    "different_start_end = data[data['pu_location'] != data['do_location']]\n",
    "\n",
    "# Update the dataset to retain only the rows where pickup and dropoff locations are different\n",
    "data = different_start_end.copy()\n"
   ]
  },
  {
   "cell_type": "code",
   "execution_count": 105,
   "metadata": {},
   "outputs": [
    {
     "name": "stdout",
     "output_type": "stream",
     "text": [
      "Count of zero distance trips with the same start and end location: 0\n"
     ]
    }
   ],
   "source": [
    "# Filter entries with zero trip distance\n",
    "zero_distance_entries = data[data['trip_distance'] == 0]\n",
    "\n",
    "# Check if starting and ending points are the same for entries with zero trip distance\n",
    "same_start_end_location = zero_distance_entries[zero_distance_entries['pu_location'] == zero_distance_entries['do_location']]\n",
    "print(\"Count of zero distance trips with the same start and end location:\", same_start_end_location.shape[0])\n"
   ]
  },
  {
   "cell_type": "markdown",
   "metadata": {},
   "source": [
    "the values removed can be classified as MNAR"
   ]
  },
  {
   "cell_type": "markdown",
   "metadata": {},
   "source": [
    "now let's replace the other missing values with the median"
   ]
  },
  {
   "cell_type": "code",
   "execution_count": 106,
   "metadata": {},
   "outputs": [],
   "source": [
    "# Calculate the median of non-zero trip distances\n",
    "median_trip_distance = data[data['trip_distance'] != 0]['trip_distance'].median()\n",
    "\n",
    "# Replace the zero values in 'Trip Distance' with the calculated median\n",
    "data.loc[data['trip_distance'] == 0, 'trip_distance'] = median_trip_distance\n"
   ]
  },
  {
   "cell_type": "code",
   "execution_count": 107,
   "metadata": {},
   "outputs": [
    {
     "name": "stdout",
     "output_type": "stream",
     "text": [
      "Count of zero values in Trip Distance: 0\n",
      "Missing values in Trip Distance: 0\n"
     ]
    }
   ],
   "source": [
    "# Count occurrences of zero values in the 'Trip Distance' column\n",
    "zero_trip_distance = data[data['trip_distance'] == 0].shape[0]\n",
    "\n",
    "# Count missing values in the 'Trip Distance' column\n",
    "missing_trip_distance = data['trip_distance'].isnull().sum()\n",
    "\n",
    "print(\"Count of zero values in Trip Distance:\", zero_trip_distance)\n",
    "print(\"Missing values in Trip Distance:\", missing_trip_distance)"
   ]
  },
  {
   "cell_type": "code",
   "execution_count": 111,
   "metadata": {},
   "outputs": [
    {
     "name": "stdout",
     "output_type": "stream",
     "text": [
      "Missing values in Fare Amount: 0\n",
      "Inconsistent or negative Fare Amount entries: 727\n",
      "Zero values in Fare Amount: 703\n"
     ]
    }
   ],
   "source": [
    "# Check for missing values in 'Fare Amount' column\n",
    "missing_fare_amount = data['fare_amount'].isnull().sum()\n",
    "\n",
    "# Check for inconsistencies or negative values in 'Fare Amount'\n",
    "negative_fare_amount = data[data['fare_amount'] < 0].shape[0]\n",
    "\n",
    "# Check for zero values in 'Fare Amount'\n",
    "zero_fare_amount = data[data['fare_amount'] == 0].shape[0]\n",
    "\n",
    "print(\"Missing values in Fare Amount:\", missing_fare_amount)\n",
    "print(\"Inconsistent or negative Fare Amount entries:\", negative_fare_amount)\n",
    "print(\"Zero values in Fare Amount:\", zero_fare_amount)\n",
    "\n"
   ]
  },
  {
   "cell_type": "code",
   "execution_count": 205,
   "metadata": {},
   "outputs": [
    {
     "name": "stdout",
     "output_type": "stream",
     "text": [
      "Payment Types for missing Fare Amount:\n",
      "payment_type\n",
      "Cash           451\n",
      "Credit card    128\n",
      "Dispute         17\n",
      "No charge       10\n",
      "Name: count, dtype: int64\n"
     ]
    }
   ],
   "source": [
    "# Select rows with missing values in 'Fare Amount' (zeros or NaN)\n",
    "missing_fare = data[data['fare_amount'] == 0]\n",
    "\n",
    "# Check the payment type for these missing fare entries\n",
    "payment_types_missing_fare = missing_fare['payment_type'].value_counts()\n",
    "\n",
    "\n",
    "\n",
    "# Calculate the median of fare_amount\n",
    "fare_amount_median = data['fare_amount'].median()\n",
    "\n",
    "# Replace negative values with the median\n",
    "data.loc[data['fare_amount'] < 0, 'fare_amount'] = fare_amount_median\n",
    "\n",
    "\n",
    "print(\"Payment Types for missing Fare Amount:\")\n",
    "print(payment_types_missing_fare)\n"
   ]
  },
  {
   "cell_type": "markdown",
   "metadata": {},
   "source": [
    "most of the missing values are paid by cash, so they are considered as MNAR"
   ]
  },
  {
   "cell_type": "code",
   "execution_count": 114,
   "metadata": {},
   "outputs": [],
   "source": [
    "# Calculate the mean of non-missing and non-zero fare amounts\n",
    "fare_mean = data[(data['fare_amount'].notnull()) & (data['fare_amount'] != 0)]['fare_amount'].mean()\n",
    "\n",
    "# Replace missing and zero fare amounts with the calculated mean\n",
    "data['fare_amount'].fillna(fare_mean, inplace=True)\n"
   ]
  },
  {
   "cell_type": "code",
   "execution_count": 118,
   "metadata": {},
   "outputs": [
    {
     "name": "stdout",
     "output_type": "stream",
     "text": [
      "Zero or less values in 'Extra' column: 338\n",
      "Missing values in 'Extra' column: 319107\n"
     ]
    }
   ],
   "source": [
    "# Count zero and missing values in 'Extra' column\n",
    "zero_extra = data[data['extra'] <= 0].shape[0]\n",
    "missing_extra = data['extra'].isnull().sum()\n",
    "\n",
    "print(f\"Zero or less values in 'Extra' column: {zero_extra}\")\n",
    "print(f\"Missing values in 'Extra' column: {missing_extra}\")\n"
   ]
  },
  {
   "cell_type": "code",
   "execution_count": 117,
   "metadata": {},
   "outputs": [
    {
     "name": "stdout",
     "output_type": "stream",
     "text": [
      "[ 0.5    nan -0.5   1.    4.5  -1.    1.8   2.75  5.5   8.25]\n"
     ]
    }
   ],
   "source": [
    "unique_extra_values = data['extra'].unique()\n",
    "print(unique_extra_values)\n"
   ]
  },
  {
   "cell_type": "code",
   "execution_count": null,
   "metadata": {},
   "outputs": [],
   "source": [
    "since there are no 0 values for extra column, most probably the peson who entered the data didn't add the zeros so it became a nan, so now let's replace the negative values with the median and the missing values with zeroes"
   ]
  },
  {
   "cell_type": "code",
   "execution_count": 120,
   "metadata": {},
   "outputs": [],
   "source": [
    "# Replace negative values with the median of non-negative values\n",
    "median_extra = data[data['extra'] >= 0]['extra'].median()\n",
    "data['extra'] = data['extra'].apply(lambda x: median_extra if x < 0 else x)\n",
    "\n",
    "# Replace missing values with zeroes\n",
    "data['extra'].fillna(0, inplace=True)\n"
   ]
  },
  {
   "cell_type": "code",
   "execution_count": 121,
   "metadata": {},
   "outputs": [
    {
     "name": "stdout",
     "output_type": "stream",
     "text": [
      "[0.5  0.   1.   4.5  1.8  2.75 5.5  8.25]\n"
     ]
    }
   ],
   "source": [
    "unique_extra_values = data['extra'].unique()\n",
    "print(unique_extra_values)"
   ]
  },
  {
   "cell_type": "code",
   "execution_count": 122,
   "metadata": {},
   "outputs": [
    {
     "name": "stdout",
     "output_type": "stream",
     "text": [
      "[ 0.5  0.  -0.5  3.8]\n",
      "Zero values in 'MTA_tax' column: 6654\n",
      "Missing values in 'MTA_tax' column: 0\n",
      "Negative values in 'MTA_tax' column: 713\n"
     ]
    }
   ],
   "source": [
    "# Check unique values in 'MTA_tax' column\n",
    "unique_mta_tax = data['mta_tax'].unique()\n",
    "print(unique_mta_tax)\n",
    "\n",
    "# Count zero and missing values in 'MTA_tax' column\n",
    "zero_mta_tax = data[data['mta_tax'] == 0].shape[0]\n",
    "missing_mta_tax = data['mta_tax'].isnull().sum()\n",
    "negative_mta_tax = data[data['mta_tax'] < 0].shape[0]\n",
    "\n",
    "print(f\"Zero values in 'MTA_tax' column: {zero_mta_tax}\")\n",
    "print(f\"Missing values in 'MTA_tax' column: {missing_mta_tax}\")\n",
    "print(f\"Negative values in 'MTA_tax' column: {negative_mta_tax}\")\n"
   ]
  },
  {
   "cell_type": "markdown",
   "metadata": {},
   "source": [
    "0 values for MTA is normal but what is not normal is the negative ones, let's replace the negative values with the median"
   ]
  },
  {
   "cell_type": "code",
   "execution_count": 123,
   "metadata": {},
   "outputs": [],
   "source": [
    "# Calculate the median of non-negative values in 'MTA_tax' column\n",
    "median_mta_tax = data[data['mta_tax'] >= 0]['mta_tax'].median()\n",
    "\n",
    "# Replace negative values with the median\n",
    "data['mta_tax'] = data['mta_tax'].apply(lambda x: median_mta_tax if x < 0 else x)\n"
   ]
  },
  {
   "cell_type": "code",
   "execution_count": 131,
   "metadata": {},
   "outputs": [
    {
     "name": "stdout",
     "output_type": "stream",
     "text": [
      "[0.5 0.  3.8]\n",
      "Zero values in 'MTA_tax' column: 6654\n",
      "Missing values in 'MTA_tax' column: 0\n",
      "Negative values in 'MTA_tax' column: 0\n"
     ]
    }
   ],
   "source": [
    "# Check unique values in 'MTA_tax' column\n",
    "unique_mta_tax = data['mta_tax'].unique()\n",
    "print(unique_mta_tax)\n",
    "\n",
    "# Count zero and missing values in 'MTA_tax' column\n",
    "zero_mta_tax = data[data['mta_tax'] == 0].shape[0]\n",
    "missing_mta_tax = data['mta_tax'].isnull().sum()\n",
    "negative_mta_tax = data[data['mta_tax'] < 0].shape[0]\n",
    "\n",
    "print(f\"Zero values in 'MTA_tax' column: {zero_mta_tax}\")\n",
    "print(f\"Missing values in 'MTA_tax' column: {missing_mta_tax}\")\n",
    "print(f\"Negative values in 'MTA_tax' column: {negative_mta_tax}\")\n"
   ]
  },
  {
   "cell_type": "code",
   "execution_count": 133,
   "metadata": {},
   "outputs": [
    {
     "name": "stdout",
     "output_type": "stream",
     "text": [
      "[ 0.    2.96  8.   ... 12.89 10.13 15.95]\n",
      "Zero values in 'tip_amount' column: 392401\n",
      "Missing values in 'tip_amount' column: 0\n",
      "Negative values in 'tip_amount' column: 0\n"
     ]
    }
   ],
   "source": [
    "# Check unique values in 'tip_amount' column\n",
    "unique_tip_amount = data['tip_amount'].unique()\n",
    "print(unique_tip_amount)\n",
    "\n",
    "# Count zero and missing values in 'tip_amount' column\n",
    "zero_tip_amount = data[data['tip_amount'] == 0].shape[0]\n",
    "missing_tip_amount = data['tip_amount'].isnull().sum()\n",
    "negative_tip_amount = data[data['tip_amount'] < 0].shape[0]\n",
    "\n",
    "print(f\"Zero values in 'tip_amount' column: {zero_tip_amount}\")\n",
    "print(f\"Missing values in 'tip_amount' column: {missing_tip_amount}\")\n",
    "print(f\"Negative values in 'tip_amount' column: {negative_tip_amount}\")\n"
   ]
  },
  {
   "cell_type": "markdown",
   "metadata": {},
   "source": [
    "negative values are not normal, let's replace them with the mean"
   ]
  },
  {
   "cell_type": "code",
   "execution_count": 134,
   "metadata": {},
   "outputs": [
    {
     "name": "stdout",
     "output_type": "stream",
     "text": [
      "[ 0.    2.96  8.   ... 12.89 10.13 15.95]\n",
      "Zero values in 'tip_amount' column: 392401\n",
      "Missing values in 'tip_amount' column: 0\n",
      "Negative values in 'tip_amount' column: 0\n"
     ]
    }
   ],
   "source": [
    "# Calculate the mean of non-negative values in 'tip_amount' column\n",
    "mean_tip_amount = data[data['tip_amount'] >= 0]['tip_amount'].mean()\n",
    "\n",
    "# Replace negative values with the mean\n",
    "data['tip_amount'] = data['tip_amount'].apply(lambda x: mean_tip_amount if x < 0 else x)\n",
    "\n",
    "# Check unique values in 'tip_amount' column\n",
    "unique_tip_amount = data['tip_amount'].unique()\n",
    "print(unique_tip_amount)\n",
    "\n",
    "# Count zero and missing values in 'MTA_tax' column\n",
    "zero_tip_amount = data[data['tip_amount'] == 0].shape[0]\n",
    "missing_tip_amount = data['tip_amount'].isnull().sum()\n",
    "negative_tip_amount = data[data['tip_amount'] < 0].shape[0]\n",
    "\n",
    "print(f\"Zero values in 'tip_amount' column: {zero_tip_amount}\")\n",
    "print(f\"Missing values in 'tip_amount' column: {missing_tip_amount}\")\n",
    "print(f\"Negative values in 'tip_amount' column: {negative_tip_amount}\")\n"
   ]
  },
  {
   "cell_type": "code",
   "execution_count": 135,
   "metadata": {},
   "outputs": [
    {
     "name": "stdout",
     "output_type": "stream",
     "text": [
      "[0.000e+00 5.760e+00 7.920e+00 2.640e+00 2.160e+00 1.152e+01 1.950e+00\n",
      " 1.266e+01 2.500e+01 8.500e+00 1.050e+01 1.626e+01 1.950e+01 1.250e+01\n",
      " 2.100e+01 5.000e+00 5.780e+00 5.500e+00 1.728e+01 5.750e+00 4.320e+00\n",
      " 4.000e+00 2.150e+00 5.540e+00 1.826e+01 5.280e+00 1.000e+01 3.000e+00\n",
      " 8.400e+00 5.770e+00 4.500e+00 1.126e+01 1.576e+01 1.416e+01 2.304e+01\n",
      " 3.000e-02 8.760e+00 1.076e+01 9.000e-02 1.176e+01 1.800e+01 1.500e+01\n",
      " 5.740e+00 2.000e+00 2.300e+01 2.530e+00 6.750e+00 1.154e+01 1.108e+01\n",
      " 2.800e+01 1.992e+01 1.100e+01 2.402e+01 1.160e+01 5.470e+00 1.008e+01\n",
      " 3.500e+00 6.500e+00 1.368e+01 1.151e+01 1.276e+01 8.000e+00 2.750e+00\n",
      " 2.000e+01 1.000e+00 2.202e+01 1.523e+01 4.160e+00 2.090e+01 4.010e+00\n",
      " 8.300e+00 1.900e+01 4.370e+00 4.000e-02 1.241e+01 3.750e+00 3.440e+00\n",
      " 2.740e+00 3.910e+00 1.750e+00 1.700e+01 2.730e+00 6.800e+01 1.150e+00\n",
      " 1.300e+00 5.670e+00 2.264e+01 3.010e+00 3.120e+00 5.730e+00 1.030e+00\n",
      " 1.750e+01 1.426e+01 2.400e+01 4.800e+00 3.710e+00 1.730e+00 1.740e+00\n",
      " 3.110e+00 4.330e+00 6.770e+00 6.000e+00 1.330e+00 6.376e+01 4.110e+00\n",
      " 9.576e+01 1.466e+01]\n",
      "Zero values in 'tolls_amount' column: 547295\n",
      "Missing values in 'tolls_amount' column: 0\n",
      "Negative values in 'tolls_amount' column: 0\n"
     ]
    }
   ],
   "source": [
    "# Unique values in 'tolls_amount' column\n",
    "unique_tolls_amount = data['tolls_amount'].unique()\n",
    "print(unique_tolls_amount)\n",
    "\n",
    "# Count zero and negative values in 'tolls_amount' column\n",
    "zero_tolls_amount = data[data['tolls_amount'] == 0].shape[0]\n",
    "missing_tolls_amount = data['tolls_amount'].isnull().sum()\n",
    "negative_tolls_amount = data[data['tolls_amount'] < 0].shape[0]\n",
    "\n",
    "print(f\"Zero values in 'tolls_amount' column: {zero_tolls_amount}\")\n",
    "print(f\"Missing values in 'tolls_amount' column: {missing_tolls_amount}\")\n",
    "print(f\"Negative values in 'tolls_amount' column: {negative_tolls_amount}\")\n"
   ]
  },
  {
   "cell_type": "markdown",
   "metadata": {},
   "source": [
    "everything seems good here"
   ]
  },
  {
   "cell_type": "code",
   "execution_count": 136,
   "metadata": {},
   "outputs": [
    {
     "name": "stdout",
     "output_type": "stream",
     "text": [
      "[ nan 0.   1.95]\n",
      "Zero values in 'ehail_fee' column: 300\n",
      "Missing values in 'ehail_fee' column: 581320\n",
      "Negative values in 'ehail_fee' column: 0\n"
     ]
    }
   ],
   "source": [
    "# Unique values in 'ehail_fee' column\n",
    "unique_ehail_fee = data['ehail_fee'].unique()\n",
    "print(unique_ehail_fee)\n",
    "\n",
    "# Count zero and negative values in 'ehail_fee' column\n",
    "zero_ehail_fee = data[data['ehail_fee'] == 0].shape[0]\n",
    "missing_ehail_fee = data['ehail_fee'].isnull().sum()\n",
    "negative_ehail_fee = data[data['ehail_fee'] < 0].shape[0]\n",
    "\n",
    "print(f\"Zero values in 'ehail_fee' column: {zero_ehail_fee}\")\n",
    "print(f\"Missing values in 'ehail_fee' column: {missing_ehail_fee}\")\n",
    "print(f\"Negative values in 'ehail_fee' column: {negative_ehail_fee}\")\n"
   ]
  },
  {
   "cell_type": "markdown",
   "metadata": {},
   "source": [
    "86% of the values are missing, let's just drop this column"
   ]
  },
  {
   "cell_type": "code",
   "execution_count": 137,
   "metadata": {},
   "outputs": [],
   "source": [
    "data.drop('ehail_fee', axis=1, inplace=True)"
   ]
  },
  {
   "cell_type": "code",
   "execution_count": 138,
   "metadata": {},
   "outputs": [
    {
     "name": "stdout",
     "output_type": "stream",
     "text": [
      "[ 0.3  0.  -0.3]\n",
      "Zero values in 'improvement_surcharge' column: 87905\n",
      "Missing values in 'improvement_surcharge' column: 0\n",
      "Negative values in 'improvement_surcharge' column: 713\n"
     ]
    }
   ],
   "source": [
    "# Unique values in 'improvement_surcharge' column\n",
    "unique_improvement_surcharge = data['improvement_surcharge'].unique()\n",
    "print(unique_improvement_surcharge)\n",
    "\n",
    "# Count zero and negative values in 'improvement_surcharge' column\n",
    "zero_improvement_surcharge = data[data['improvement_surcharge'] == 0].shape[0]\n",
    "missing_improvement_surcharge = data['improvement_surcharge'].isnull().sum()\n",
    "negative_improvement_surcharge = data[data['improvement_surcharge'] < 0].shape[0]\n",
    "\n",
    "print(f\"Zero values in 'improvement_surcharge' column: {zero_improvement_surcharge}\")\n",
    "print(f\"Missing values in 'improvement_surcharge' column: {missing_improvement_surcharge}\")\n",
    "print(f\"Negative values in 'improvement_surcharge' column: {negative_improvement_surcharge}\")\n"
   ]
  },
  {
   "cell_type": "markdown",
   "metadata": {},
   "source": [
    "let's replace the negative values with the mode because it's some kind of categorical column"
   ]
  },
  {
   "cell_type": "code",
   "execution_count": 139,
   "metadata": {},
   "outputs": [],
   "source": [
    "# Find the mode of the 'improvement_surcharge' column\n",
    "mode_improvement_surcharge = data['improvement_surcharge'].mode()[0]\n",
    "\n",
    "# Replace negative values with the mode\n",
    "data.loc[data['improvement_surcharge'] < 0, 'improvement_surcharge'] = mode_improvement_surcharge\n"
   ]
  },
  {
   "cell_type": "code",
   "execution_count": 140,
   "metadata": {},
   "outputs": [
    {
     "name": "stdout",
     "output_type": "stream",
     "text": [
      "[0.3 0. ]\n",
      "Zero values in 'improvement_surcharge' column: 87905\n",
      "Missing values in 'improvement_surcharge' column: 0\n",
      "Negative values in 'improvement_surcharge' column: 0\n"
     ]
    }
   ],
   "source": [
    "# Unique values in 'improvement_surcharge' column\n",
    "unique_improvement_surcharge = data['improvement_surcharge'].unique()\n",
    "print(unique_improvement_surcharge)\n",
    "\n",
    "# Count zero and negative values in 'improvement_surcharge' column\n",
    "zero_improvement_surcharge = data[data['improvement_surcharge'] == 0].shape[0]\n",
    "missing_improvement_surcharge = data['improvement_surcharge'].isnull().sum()\n",
    "negative_improvement_surcharge = data[data['improvement_surcharge'] < 0].shape[0]\n",
    "\n",
    "print(f\"Zero values in 'improvement_surcharge' column: {zero_improvement_surcharge}\")\n",
    "print(f\"Missing values in 'improvement_surcharge' column: {missing_improvement_surcharge}\")\n",
    "print(f\"Negative values in 'improvement_surcharge' column: {negative_improvement_surcharge}\")\n"
   ]
  },
  {
   "cell_type": "code",
   "execution_count": 141,
   "metadata": {},
   "outputs": [
    {
     "name": "stdout",
     "output_type": "stream",
     "text": [
      "[  7.3    5.8   19.71 ... 109.5  112.25 120.5 ]\n",
      "Zero values in 'total_amount' column: 681\n",
      "Missing values in 'total_amount' column: 0\n",
      "Negative values in 'total_amount' column: 727\n"
     ]
    }
   ],
   "source": [
    "# Unique values in 'total_amount' column\n",
    "unique_total_amount = data['total_amount'].unique()\n",
    "print(unique_total_amount)\n",
    "\n",
    "# Count zero and negative values in 'total_amount' column\n",
    "zero_total_amount = data[data['total_amount'] == 0].shape[0]\n",
    "missing_total_amount = data['total_amount'].isnull().sum()\n",
    "negative_total_amount = data[data['total_amount'] < 0].shape[0]\n",
    "\n",
    "print(f\"Zero values in 'total_amount' column: {zero_total_amount}\")\n",
    "print(f\"Missing values in 'total_amount' column: {missing_total_amount}\")\n",
    "print(f\"Negative values in 'total_amount' column: {negative_total_amount}\")\n"
   ]
  },
  {
   "cell_type": "markdown",
   "metadata": {},
   "source": [
    "let's replace the negative values with the median"
   ]
  },
  {
   "cell_type": "code",
   "execution_count": 142,
   "metadata": {},
   "outputs": [],
   "source": [
    "# Find the median of the 'total_amount' column\n",
    "median_total_amount = data['total_amount'].median()\n",
    "\n",
    "# Replace negative values with the median\n",
    "data.loc[data['total_amount'] < 0, 'total_amount'] = median_total_amount\n"
   ]
  },
  {
   "cell_type": "code",
   "execution_count": 143,
   "metadata": {},
   "outputs": [
    {
     "name": "stdout",
     "output_type": "stream",
     "text": [
      "[  7.3    5.8   19.71 ... 109.5  112.25 120.5 ]\n",
      "Zero values in 'total_amount' column: 681\n",
      "Missing values in 'total_amount' column: 0\n",
      "Negative values in 'total_amount' column: 0\n"
     ]
    }
   ],
   "source": [
    "# Unique values in 'total_amount' column\n",
    "unique_total_amount = data['total_amount'].unique()\n",
    "print(unique_total_amount)\n",
    "\n",
    "# Count zero and negative values in 'total_amount' column\n",
    "zero_total_amount = data[data['total_amount'] == 0].shape[0]\n",
    "missing_total_amount = data['total_amount'].isnull().sum()\n",
    "negative_total_amount = data[data['total_amount'] < 0].shape[0]\n",
    "\n",
    "print(f\"Zero values in 'total_amount' column: {zero_total_amount}\")\n",
    "print(f\"Missing values in 'total_amount' column: {missing_total_amount}\")\n",
    "print(f\"Negative values in 'total_amount' column: {negative_total_amount}\")\n"
   ]
  },
  {
   "cell_type": "code",
   "execution_count": 145,
   "metadata": {},
   "outputs": [
    {
     "name": "stdout",
     "output_type": "stream",
     "text": [
      "payment_type\n",
      "Credit card    338699\n",
      "Cash           186287\n",
      "Unknown         40953\n",
      "No charge        1183\n",
      "Dispute           610\n",
      "Uknown             16\n",
      "Name: count, dtype: int64\n"
     ]
    }
   ],
   "source": [
    "# Unique values and their counts in 'payment_type' column\n",
    "payment_type_counts = data['payment_type'].value_counts()\n",
    "print(payment_type_counts)\n"
   ]
  },
  {
   "cell_type": "markdown",
   "metadata": {},
   "source": [
    "let's replace unkown and 'uknown' with the mode"
   ]
  },
  {
   "cell_type": "code",
   "execution_count": 146,
   "metadata": {},
   "outputs": [],
   "source": [
    "# Replace 'Unknown' and 'Uknown' with the mode in 'payment_type' column\n",
    "mode_payment_type = data['payment_type'].mode()[0]\n",
    "data['payment_type'].replace(['Unknown', 'Uknown'], mode_payment_type, inplace=True)\n"
   ]
  },
  {
   "cell_type": "code",
   "execution_count": 147,
   "metadata": {},
   "outputs": [
    {
     "name": "stdout",
     "output_type": "stream",
     "text": [
      "payment_type\n",
      "Credit card    379668\n",
      "Cash           186287\n",
      "No charge        1183\n",
      "Dispute           610\n",
      "Name: count, dtype: int64\n"
     ]
    }
   ],
   "source": [
    "# Unique values and their counts in 'payment_type' column\n",
    "payment_type_counts = data['payment_type'].value_counts()\n",
    "print(payment_type_counts)\n"
   ]
  },
  {
   "cell_type": "code",
   "execution_count": 148,
   "metadata": {},
   "outputs": [
    {
     "name": "stdout",
     "output_type": "stream",
     "text": [
      "trip_type\n",
      "Street-hail    493014\n",
      "Dispatch        47353\n",
      "Unknown         41257\n",
      "Name: count, dtype: int64\n"
     ]
    }
   ],
   "source": [
    "# Unique values and their counts in 'trip_type' column\n",
    "trip_type_counts = data['trip_type'].value_counts()\n",
    "print(trip_type_counts)\n"
   ]
  },
  {
   "cell_type": "code",
   "execution_count": 149,
   "metadata": {},
   "outputs": [],
   "source": [
    "# Replace 'Unknown' with the mode in 'trip_type' column\n",
    "mode_trip_type = data['trip_type'].mode()[0]\n",
    "data['trip_type'].replace('Unknown', mode_trip_type, inplace=True)\n"
   ]
  },
  {
   "cell_type": "code",
   "execution_count": 150,
   "metadata": {},
   "outputs": [
    {
     "name": "stdout",
     "output_type": "stream",
     "text": [
      "trip_type\n",
      "Street-hail    534271\n",
      "Dispatch        47353\n",
      "Name: count, dtype: int64\n"
     ]
    }
   ],
   "source": [
    "# Unique values and their counts in 'trip_type' column\n",
    "trip_type_counts = data['trip_type'].value_counts()\n",
    "print(trip_type_counts)\n"
   ]
  },
  {
   "cell_type": "markdown",
   "metadata": {},
   "source": [
    "from our discussion about congestion surcharge in the first section, we can just conclude that the column should be dropped"
   ]
  },
  {
   "cell_type": "code",
   "execution_count": 152,
   "metadata": {},
   "outputs": [],
   "source": [
    "# Drop the 'congestion surcharge' column\n",
    "data.drop('congestion_surcharge', axis=1, inplace=True)\n"
   ]
  },
  {
   "cell_type": "code",
   "execution_count": 153,
   "metadata": {},
   "outputs": [
    {
     "data": {
      "text/html": [
       "<div>\n",
       "<style scoped>\n",
       "    .dataframe tbody tr th:only-of-type {\n",
       "        vertical-align: middle;\n",
       "    }\n",
       "\n",
       "    .dataframe tbody tr th {\n",
       "        vertical-align: top;\n",
       "    }\n",
       "\n",
       "    .dataframe thead th {\n",
       "        text-align: right;\n",
       "    }\n",
       "</style>\n",
       "<table border=\"1\" class=\"dataframe\">\n",
       "  <thead>\n",
       "    <tr style=\"text-align: right;\">\n",
       "      <th></th>\n",
       "      <th>vendor</th>\n",
       "      <th>lpep_pickup_datetime</th>\n",
       "      <th>lpep_dropoff_datetime</th>\n",
       "      <th>store_and_fwd_flag</th>\n",
       "      <th>rate_type</th>\n",
       "      <th>pu_location</th>\n",
       "      <th>do_location</th>\n",
       "      <th>passenger_count</th>\n",
       "      <th>trip_distance</th>\n",
       "      <th>fare_amount</th>\n",
       "      <th>extra</th>\n",
       "      <th>mta_tax</th>\n",
       "      <th>tip_amount</th>\n",
       "      <th>tolls_amount</th>\n",
       "      <th>improvement_surcharge</th>\n",
       "      <th>total_amount</th>\n",
       "      <th>payment_type</th>\n",
       "      <th>trip_type</th>\n",
       "    </tr>\n",
       "  </thead>\n",
       "  <tbody>\n",
       "    <tr>\n",
       "      <th>1</th>\n",
       "      <td>VeriFone Inc.</td>\n",
       "      <td>2019-01-01 00:10:16</td>\n",
       "      <td>2019-01-01 00:16:32</td>\n",
       "      <td>N</td>\n",
       "      <td>Standard rate</td>\n",
       "      <td>Brooklyn,Fort Greene</td>\n",
       "      <td>Brooklyn,Clinton Hill</td>\n",
       "      <td>2.0</td>\n",
       "      <td>0.86</td>\n",
       "      <td>6.0</td>\n",
       "      <td>0.5</td>\n",
       "      <td>0.5</td>\n",
       "      <td>0.00</td>\n",
       "      <td>0.0</td>\n",
       "      <td>0.3</td>\n",
       "      <td>7.30</td>\n",
       "      <td>Cash</td>\n",
       "      <td>Street-hail</td>\n",
       "    </tr>\n",
       "    <tr>\n",
       "      <th>2</th>\n",
       "      <td>VeriFone Inc.</td>\n",
       "      <td>2019-01-01 00:27:11</td>\n",
       "      <td>2019-01-01 00:31:38</td>\n",
       "      <td>N</td>\n",
       "      <td>Standard rate</td>\n",
       "      <td>Brooklyn,Clinton Hill</td>\n",
       "      <td>Brooklyn,Prospect Heights</td>\n",
       "      <td>2.0</td>\n",
       "      <td>0.66</td>\n",
       "      <td>4.5</td>\n",
       "      <td>0.5</td>\n",
       "      <td>0.5</td>\n",
       "      <td>0.00</td>\n",
       "      <td>0.0</td>\n",
       "      <td>0.3</td>\n",
       "      <td>5.80</td>\n",
       "      <td>Credit card</td>\n",
       "      <td>Street-hail</td>\n",
       "    </tr>\n",
       "    <tr>\n",
       "      <th>3</th>\n",
       "      <td>VeriFone Inc.</td>\n",
       "      <td>2019-01-01 00:46:20</td>\n",
       "      <td>2019-01-01 01:04:54</td>\n",
       "      <td>N</td>\n",
       "      <td>Standard rate</td>\n",
       "      <td>Brooklyn,Prospect Heights</td>\n",
       "      <td>Brooklyn,Bedford</td>\n",
       "      <td>2.0</td>\n",
       "      <td>2.68</td>\n",
       "      <td>13.5</td>\n",
       "      <td>0.5</td>\n",
       "      <td>0.5</td>\n",
       "      <td>2.96</td>\n",
       "      <td>0.0</td>\n",
       "      <td>0.3</td>\n",
       "      <td>19.71</td>\n",
       "      <td>Credit card</td>\n",
       "      <td>Street-hail</td>\n",
       "    </tr>\n",
       "    <tr>\n",
       "      <th>4</th>\n",
       "      <td>VeriFone Inc.</td>\n",
       "      <td>2019-01-01 00:19:06</td>\n",
       "      <td>2019-01-01 00:39:43</td>\n",
       "      <td>N</td>\n",
       "      <td>Standard rate</td>\n",
       "      <td>Queens,Elmhurst</td>\n",
       "      <td>Queens,Woodhaven</td>\n",
       "      <td>1.0</td>\n",
       "      <td>4.53</td>\n",
       "      <td>18.0</td>\n",
       "      <td>0.5</td>\n",
       "      <td>0.5</td>\n",
       "      <td>0.00</td>\n",
       "      <td>0.0</td>\n",
       "      <td>0.3</td>\n",
       "      <td>19.30</td>\n",
       "      <td>Cash</td>\n",
       "      <td>Street-hail</td>\n",
       "    </tr>\n",
       "    <tr>\n",
       "      <th>5</th>\n",
       "      <td>VeriFone Inc.</td>\n",
       "      <td>2019-01-01 00:12:35</td>\n",
       "      <td>2019-01-01 00:19:09</td>\n",
       "      <td>N</td>\n",
       "      <td>Standard rate</td>\n",
       "      <td>Brooklyn,Clinton Hill</td>\n",
       "      <td>Brooklyn,Bedford</td>\n",
       "      <td>1.0</td>\n",
       "      <td>1.05</td>\n",
       "      <td>6.5</td>\n",
       "      <td>0.5</td>\n",
       "      <td>0.5</td>\n",
       "      <td>0.00</td>\n",
       "      <td>0.0</td>\n",
       "      <td>0.3</td>\n",
       "      <td>7.80</td>\n",
       "      <td>Credit card</td>\n",
       "      <td>Street-hail</td>\n",
       "    </tr>\n",
       "  </tbody>\n",
       "</table>\n",
       "</div>"
      ],
      "text/plain": [
       "          vendor lpep_pickup_datetime lpep_dropoff_datetime  \\\n",
       "1  VeriFone Inc.  2019-01-01 00:10:16   2019-01-01 00:16:32   \n",
       "2  VeriFone Inc.  2019-01-01 00:27:11   2019-01-01 00:31:38   \n",
       "3  VeriFone Inc.  2019-01-01 00:46:20   2019-01-01 01:04:54   \n",
       "4  VeriFone Inc.  2019-01-01 00:19:06   2019-01-01 00:39:43   \n",
       "5  VeriFone Inc.  2019-01-01 00:12:35   2019-01-01 00:19:09   \n",
       "\n",
       "  store_and_fwd_flag      rate_type                pu_location  \\\n",
       "1                  N  Standard rate       Brooklyn,Fort Greene   \n",
       "2                  N  Standard rate      Brooklyn,Clinton Hill   \n",
       "3                  N  Standard rate  Brooklyn,Prospect Heights   \n",
       "4                  N  Standard rate            Queens,Elmhurst   \n",
       "5                  N  Standard rate      Brooklyn,Clinton Hill   \n",
       "\n",
       "                 do_location  passenger_count  trip_distance  fare_amount  \\\n",
       "1      Brooklyn,Clinton Hill              2.0           0.86          6.0   \n",
       "2  Brooklyn,Prospect Heights              2.0           0.66          4.5   \n",
       "3           Brooklyn,Bedford              2.0           2.68         13.5   \n",
       "4           Queens,Woodhaven              1.0           4.53         18.0   \n",
       "5           Brooklyn,Bedford              1.0           1.05          6.5   \n",
       "\n",
       "   extra  mta_tax  tip_amount  tolls_amount  improvement_surcharge  \\\n",
       "1    0.5      0.5        0.00           0.0                    0.3   \n",
       "2    0.5      0.5        0.00           0.0                    0.3   \n",
       "3    0.5      0.5        2.96           0.0                    0.3   \n",
       "4    0.5      0.5        0.00           0.0                    0.3   \n",
       "5    0.5      0.5        0.00           0.0                    0.3   \n",
       "\n",
       "   total_amount payment_type    trip_type  \n",
       "1          7.30         Cash  Street-hail  \n",
       "2          5.80  Credit card  Street-hail  \n",
       "3         19.71  Credit card  Street-hail  \n",
       "4         19.30         Cash  Street-hail  \n",
       "5          7.80  Credit card  Street-hail  "
      ]
     },
     "execution_count": 153,
     "metadata": {},
     "output_type": "execute_result"
    }
   ],
   "source": [
    "data.head()"
   ]
  },
  {
   "cell_type": "markdown",
   "metadata": {},
   "source": [
    "## Observing and Handling outliers"
   ]
  },
  {
   "cell_type": "code",
   "execution_count": 174,
   "metadata": {},
   "outputs": [
    {
     "data": {
      "image/png": "[encoded data removed]",
      "text/plain": [
       "<Figure size 800x600 with 1 Axes>"
      ]
     },
     "metadata": {},
     "output_type": "display_data"
    }
   ],
   "source": [
    "import seaborn as sns\n",
    "import matplotlib.pyplot as plt\n",
    "\n",
    "# Create a count of passenger_count values\n",
    "passenger_count_counts = data['passenger_count'].value_counts()\n",
    "\n",
    "plt.figure(figsize=(8, 6))\n",
    "sns.barplot(x=passenger_count_counts.index, y=passenger_count_counts.values)\n",
    "plt.title('Count of Passenger Count')\n",
    "plt.xlabel('Passenger Count')\n",
    "plt.ylabel('Frequency')\n",
    "plt.show()\n"
   ]
  },
  {
   "cell_type": "markdown",
   "metadata": {},
   "source": [
    "it's obvious that 444 is an outlier, let's replace it with the mode"
   ]
  },
  {
   "cell_type": "code",
   "execution_count": 175,
   "metadata": {},
   "outputs": [],
   "source": [
    "# Find the mode of the 'passenger_count' column\n",
    "mode_passenger_count = data['passenger_count'].mode()[0]\n",
    "\n",
    "# Replace rows with '444' in 'passenger_count' with the mode\n",
    "data.loc[data['passenger_count'] == 444, 'passenger_count'] = mode_passenger_count\n"
   ]
  },
  {
   "cell_type": "code",
   "execution_count": 176,
   "metadata": {},
   "outputs": [
    {
     "data": {
      "image/png": "[encoded data removed]",
      "text/plain": [
       "<Figure size 800x600 with 1 Axes>"
      ]
     },
     "metadata": {},
     "output_type": "display_data"
    }
   ],
   "source": [
    "import seaborn as sns\n",
    "import matplotlib.pyplot as plt\n",
    "\n",
    "# Create a count of passenger_count values\n",
    "passenger_count_counts = data['passenger_count'].value_counts()\n",
    "\n",
    "plt.figure(figsize=(8, 6))\n",
    "sns.barplot(x=passenger_count_counts.index, y=passenger_count_counts.values)\n",
    "plt.title('Count of Passenger Count')\n",
    "plt.xlabel('Passenger Count')\n",
    "plt.ylabel('Frequency')\n",
    "plt.show()\n"
   ]
  },
  {
   "cell_type": "markdown",
   "metadata": {},
   "source": [
    "perfect."
   ]
  },
  {
   "cell_type": "markdown",
   "metadata": {},
   "source": [
    "we skipped the first 8 columns because they are categorical values and we elimnated the inconsistent values already or they are not but we checked the extreme values already in the previous section "
   ]
  },
  {
   "cell_type": "code",
   "execution_count": 193,
   "metadata": {},
   "outputs": [],
   "source": [
    "from scipy.stats import shapiro\n",
    "\n",
    "def is_normal(column_data):\n",
    "    # Shapiro-Wilk test\n",
    "    _, p_value = shapiro(column_data)\n",
    "    \n",
    "    # Set a significance level (0.05 is commonly used)\n",
    "    alpha = 0.05\n",
    "    \n",
    "    # Output True if p-value is higher than alpha (not rejecting null hypothesis of normality)\n",
    "    return p_value > alpha\n",
    "\n"
   ]
  },
  {
   "cell_type": "code",
   "execution_count": 195,
   "metadata": {},
   "outputs": [
    {
     "name": "stdout",
     "output_type": "stream",
     "text": [
      "Is 'trip_distance' normally distributed: False\n"
     ]
    },
    {
     "name": "stderr",
     "output_type": "stream",
     "text": [
      "C:\\Users\\anaya\\anaconda3\\Lib\\site-packages\\scipy\\stats\\_morestats.py:1882: UserWarning: p-value may not be accurate for N > 5000.\n",
      "  warnings.warn(\"p-value may not be accurate for N > 5000.\")\n"
     ]
    }
   ],
   "source": [
    "\n",
    "result = is_normal(data['trip_distance'])\n",
    "print(\"Is 'trip_distance' normally distributed:\", result)"
   ]
  },
  {
   "cell_type": "markdown",
   "metadata": {},
   "source": [
    "it's not normally distributed so we will use the IQR method"
   ]
  },
  {
   "cell_type": "code",
   "execution_count": 196,
   "metadata": {},
   "outputs": [],
   "source": [
    "def handle_outliers_iqr(column_data):\n",
    "    Q1 = column_data.quantile(0.25)\n",
    "    Q3 = column_data.quantile(0.75)\n",
    "    IQR = Q3 - Q1\n",
    "\n",
    "    lower_bound = Q1 - 1.5 * IQR\n",
    "    upper_bound = Q3 + 1.5 * IQR\n",
    "\n",
    "    # Clipping outliers\n",
    "    column_data = column_data.clip(lower=lower_bound, upper=upper_bound)\n",
    "    return column_data\n"
   ]
  },
  {
   "cell_type": "code",
   "execution_count": 197,
   "metadata": {},
   "outputs": [],
   "source": [
    "data['trip_distance'] = handle_outliers_iqr(data['trip_distance'])"
   ]
  },
  {
   "cell_type": "code",
   "execution_count": 198,
   "metadata": {},
   "outputs": [
    {
     "data": {
      "text/html": [
       "<div>\n",
       "<style scoped>\n",
       "    .dataframe tbody tr th:only-of-type {\n",
       "        vertical-align: middle;\n",
       "    }\n",
       "\n",
       "    .dataframe tbody tr th {\n",
       "        vertical-align: top;\n",
       "    }\n",
       "\n",
       "    .dataframe thead th {\n",
       "        text-align: right;\n",
       "    }\n",
       "</style>\n",
       "<table border=\"1\" class=\"dataframe\">\n",
       "  <thead>\n",
       "    <tr style=\"text-align: right;\">\n",
       "      <th></th>\n",
       "      <th>lpep_pickup_datetime</th>\n",
       "      <th>passenger_count</th>\n",
       "      <th>trip_distance</th>\n",
       "      <th>fare_amount</th>\n",
       "      <th>extra</th>\n",
       "      <th>mta_tax</th>\n",
       "      <th>tip_amount</th>\n",
       "      <th>tolls_amount</th>\n",
       "      <th>improvement_surcharge</th>\n",
       "      <th>total_amount</th>\n",
       "    </tr>\n",
       "  </thead>\n",
       "  <tbody>\n",
       "    <tr>\n",
       "      <th>count</th>\n",
       "      <td>581624</td>\n",
       "      <td>581624.000000</td>\n",
       "      <td>581624.000000</td>\n",
       "      <td>581624.000000</td>\n",
       "      <td>581624.000000</td>\n",
       "      <td>581624.000000</td>\n",
       "      <td>581624.000000</td>\n",
       "      <td>581624.000000</td>\n",
       "      <td>581624.000000</td>\n",
       "      <td>581624.000000</td>\n",
       "    </tr>\n",
       "    <tr>\n",
       "      <th>mean</th>\n",
       "      <td>2019-01-16 16:51:55.183897344</td>\n",
       "      <td>1.293721</td>\n",
       "      <td>3.865899</td>\n",
       "      <td>17.056626</td>\n",
       "      <td>0.479617</td>\n",
       "      <td>0.494285</td>\n",
       "      <td>0.858617</td>\n",
       "      <td>0.338081</td>\n",
       "      <td>0.254659</td>\n",
       "      <td>19.526311</td>\n",
       "    </tr>\n",
       "    <tr>\n",
       "      <th>min</th>\n",
       "      <td>2009-01-01 00:06:03</td>\n",
       "      <td>1.000000</td>\n",
       "      <td>0.010000</td>\n",
       "      <td>-68.590000</td>\n",
       "      <td>0.000000</td>\n",
       "      <td>0.000000</td>\n",
       "      <td>0.000000</td>\n",
       "      <td>0.000000</td>\n",
       "      <td>0.000000</td>\n",
       "      <td>0.000000</td>\n",
       "    </tr>\n",
       "    <tr>\n",
       "      <th>25%</th>\n",
       "      <td>2019-01-09 09:33:23.750000128</td>\n",
       "      <td>1.000000</td>\n",
       "      <td>1.400000</td>\n",
       "      <td>7.500000</td>\n",
       "      <td>0.000000</td>\n",
       "      <td>0.500000</td>\n",
       "      <td>0.000000</td>\n",
       "      <td>0.000000</td>\n",
       "      <td>0.300000</td>\n",
       "      <td>9.360000</td>\n",
       "    </tr>\n",
       "    <tr>\n",
       "      <th>50%</th>\n",
       "      <td>2019-01-16 16:50:18.500000</td>\n",
       "      <td>1.000000</td>\n",
       "      <td>2.590000</td>\n",
       "      <td>12.000000</td>\n",
       "      <td>0.000000</td>\n",
       "      <td>0.500000</td>\n",
       "      <td>0.000000</td>\n",
       "      <td>0.000000</td>\n",
       "      <td>0.300000</td>\n",
       "      <td>14.140000</td>\n",
       "    </tr>\n",
       "    <tr>\n",
       "      <th>75%</th>\n",
       "      <td>2019-01-24 16:47:07.750000128</td>\n",
       "      <td>1.000000</td>\n",
       "      <td>5.370000</td>\n",
       "      <td>21.340000</td>\n",
       "      <td>0.500000</td>\n",
       "      <td>0.500000</td>\n",
       "      <td>1.470000</td>\n",
       "      <td>0.000000</td>\n",
       "      <td>0.300000</td>\n",
       "      <td>23.800000</td>\n",
       "    </tr>\n",
       "    <tr>\n",
       "      <th>max</th>\n",
       "      <td>2019-02-01 21:51:23</td>\n",
       "      <td>9.000000</td>\n",
       "      <td>11.325000</td>\n",
       "      <td>392.500000</td>\n",
       "      <td>8.250000</td>\n",
       "      <td>3.800000</td>\n",
       "      <td>100.000000</td>\n",
       "      <td>95.760000</td>\n",
       "      <td>0.300000</td>\n",
       "      <td>393.800000</td>\n",
       "    </tr>\n",
       "    <tr>\n",
       "      <th>std</th>\n",
       "      <td>NaN</td>\n",
       "      <td>0.951630</td>\n",
       "      <td>3.272636</td>\n",
       "      <td>14.145225</td>\n",
       "      <td>0.791142</td>\n",
       "      <td>0.053349</td>\n",
       "      <td>1.676462</td>\n",
       "      <td>1.431611</td>\n",
       "      <td>0.107455</td>\n",
       "      <td>15.188555</td>\n",
       "    </tr>\n",
       "  </tbody>\n",
       "</table>\n",
       "</div>"
      ],
      "text/plain": [
       "                lpep_pickup_datetime  passenger_count  trip_distance  \\\n",
       "count                         581624    581624.000000  581624.000000   \n",
       "mean   2019-01-16 16:51:55.183897344         1.293721       3.865899   \n",
       "min              2009-01-01 00:06:03         1.000000       0.010000   \n",
       "25%    2019-01-09 09:33:23.750000128         1.000000       1.400000   \n",
       "50%       2019-01-16 16:50:18.500000         1.000000       2.590000   \n",
       "75%    2019-01-24 16:47:07.750000128         1.000000       5.370000   \n",
       "max              2019-02-01 21:51:23         9.000000      11.325000   \n",
       "std                              NaN         0.951630       3.272636   \n",
       "\n",
       "         fare_amount          extra        mta_tax     tip_amount  \\\n",
       "count  581624.000000  581624.000000  581624.000000  581624.000000   \n",
       "mean       17.056626       0.479617       0.494285       0.858617   \n",
       "min       -68.590000       0.000000       0.000000       0.000000   \n",
       "25%         7.500000       0.000000       0.500000       0.000000   \n",
       "50%        12.000000       0.000000       0.500000       0.000000   \n",
       "75%        21.340000       0.500000       0.500000       1.470000   \n",
       "max       392.500000       8.250000       3.800000     100.000000   \n",
       "std        14.145225       0.791142       0.053349       1.676462   \n",
       "\n",
       "        tolls_amount  improvement_surcharge   total_amount  \n",
       "count  581624.000000          581624.000000  581624.000000  \n",
       "mean        0.338081               0.254659      19.526311  \n",
       "min         0.000000               0.000000       0.000000  \n",
       "25%         0.000000               0.300000       9.360000  \n",
       "50%         0.000000               0.300000      14.140000  \n",
       "75%         0.000000               0.300000      23.800000  \n",
       "max        95.760000               0.300000     393.800000  \n",
       "std         1.431611               0.107455      15.188555  "
      ]
     },
     "execution_count": 198,
     "metadata": {},
     "output_type": "execute_result"
    }
   ],
   "source": [
    "data.describe()"
   ]
  },
  {
   "cell_type": "markdown",
   "metadata": {},
   "source": [
    "notice that now the trip distance does not have outliers!"
   ]
  },
  {
   "cell_type": "markdown",
   "metadata": {},
   "source": [
    "from data.describe() we can see that only fare_amount, tip_amount,tolls amount and total amount are the columns that have outliers, let's handle them"
   ]
  },
  {
   "cell_type": "code",
   "execution_count": 200,
   "metadata": {},
   "outputs": [
    {
     "name": "stdout",
     "output_type": "stream",
     "text": [
      "Is 'fare_amount' normally distributed: False\n"
     ]
    }
   ],
   "source": [
    "result = is_normal(data['fare_amount'])\n",
    "print(\"Is 'fare_amount' normally distributed:\", result)"
   ]
  },
  {
   "cell_type": "markdown",
   "metadata": {},
   "source": [
    "Not normally distributed so we will need to use the IQR method"
   ]
  },
  {
   "cell_type": "code",
   "execution_count": 201,
   "metadata": {},
   "outputs": [],
   "source": [
    "data['fare_amount'] = handle_outliers_iqr(data['fare_amount'])"
   ]
  },
  {
   "cell_type": "code",
   "execution_count": 206,
   "metadata": {},
   "outputs": [
    {
     "data": {
      "text/html": [
       "<div>\n",
       "<style scoped>\n",
       "    .dataframe tbody tr th:only-of-type {\n",
       "        vertical-align: middle;\n",
       "    }\n",
       "\n",
       "    .dataframe tbody tr th {\n",
       "        vertical-align: top;\n",
       "    }\n",
       "\n",
       "    .dataframe thead th {\n",
       "        text-align: right;\n",
       "    }\n",
       "</style>\n",
       "<table border=\"1\" class=\"dataframe\">\n",
       "  <thead>\n",
       "    <tr style=\"text-align: right;\">\n",
       "      <th></th>\n",
       "      <th>lpep_pickup_datetime</th>\n",
       "      <th>passenger_count</th>\n",
       "      <th>trip_distance</th>\n",
       "      <th>fare_amount</th>\n",
       "      <th>extra</th>\n",
       "      <th>mta_tax</th>\n",
       "      <th>tip_amount</th>\n",
       "      <th>tolls_amount</th>\n",
       "      <th>improvement_surcharge</th>\n",
       "      <th>total_amount</th>\n",
       "    </tr>\n",
       "  </thead>\n",
       "  <tbody>\n",
       "    <tr>\n",
       "      <th>count</th>\n",
       "      <td>581624</td>\n",
       "      <td>581624.000000</td>\n",
       "      <td>581624.000000</td>\n",
       "      <td>581624.000000</td>\n",
       "      <td>581624.000000</td>\n",
       "      <td>581624.000000</td>\n",
       "      <td>581624.000000</td>\n",
       "      <td>581624.000000</td>\n",
       "      <td>581624.000000</td>\n",
       "      <td>581624.000000</td>\n",
       "    </tr>\n",
       "    <tr>\n",
       "      <th>mean</th>\n",
       "      <td>2019-01-16 16:51:55.183897344</td>\n",
       "      <td>1.293721</td>\n",
       "      <td>3.865899</td>\n",
       "      <td>16.100015</td>\n",
       "      <td>0.479617</td>\n",
       "      <td>0.494285</td>\n",
       "      <td>0.858617</td>\n",
       "      <td>0.338081</td>\n",
       "      <td>0.254659</td>\n",
       "      <td>19.526311</td>\n",
       "    </tr>\n",
       "    <tr>\n",
       "      <th>min</th>\n",
       "      <td>2009-01-01 00:06:03</td>\n",
       "      <td>1.000000</td>\n",
       "      <td>0.010000</td>\n",
       "      <td>0.000000</td>\n",
       "      <td>0.000000</td>\n",
       "      <td>0.000000</td>\n",
       "      <td>0.000000</td>\n",
       "      <td>0.000000</td>\n",
       "      <td>0.000000</td>\n",
       "      <td>0.000000</td>\n",
       "    </tr>\n",
       "    <tr>\n",
       "      <th>25%</th>\n",
       "      <td>2019-01-09 09:33:23.750000128</td>\n",
       "      <td>1.000000</td>\n",
       "      <td>1.400000</td>\n",
       "      <td>7.500000</td>\n",
       "      <td>0.000000</td>\n",
       "      <td>0.500000</td>\n",
       "      <td>0.000000</td>\n",
       "      <td>0.000000</td>\n",
       "      <td>0.300000</td>\n",
       "      <td>9.360000</td>\n",
       "    </tr>\n",
       "    <tr>\n",
       "      <th>50%</th>\n",
       "      <td>2019-01-16 16:50:18.500000</td>\n",
       "      <td>1.000000</td>\n",
       "      <td>2.590000</td>\n",
       "      <td>12.000000</td>\n",
       "      <td>0.000000</td>\n",
       "      <td>0.500000</td>\n",
       "      <td>0.000000</td>\n",
       "      <td>0.000000</td>\n",
       "      <td>0.300000</td>\n",
       "      <td>14.140000</td>\n",
       "    </tr>\n",
       "    <tr>\n",
       "      <th>75%</th>\n",
       "      <td>2019-01-24 16:47:07.750000128</td>\n",
       "      <td>1.000000</td>\n",
       "      <td>5.370000</td>\n",
       "      <td>21.340000</td>\n",
       "      <td>0.500000</td>\n",
       "      <td>0.500000</td>\n",
       "      <td>1.470000</td>\n",
       "      <td>0.000000</td>\n",
       "      <td>0.300000</td>\n",
       "      <td>23.800000</td>\n",
       "    </tr>\n",
       "    <tr>\n",
       "      <th>max</th>\n",
       "      <td>2019-02-01 21:51:23</td>\n",
       "      <td>9.000000</td>\n",
       "      <td>11.325000</td>\n",
       "      <td>42.100000</td>\n",
       "      <td>8.250000</td>\n",
       "      <td>3.800000</td>\n",
       "      <td>100.000000</td>\n",
       "      <td>95.760000</td>\n",
       "      <td>0.300000</td>\n",
       "      <td>393.800000</td>\n",
       "    </tr>\n",
       "    <tr>\n",
       "      <th>std</th>\n",
       "      <td>NaN</td>\n",
       "      <td>0.951630</td>\n",
       "      <td>3.272636</td>\n",
       "      <td>11.240633</td>\n",
       "      <td>0.791142</td>\n",
       "      <td>0.053349</td>\n",
       "      <td>1.676462</td>\n",
       "      <td>1.431611</td>\n",
       "      <td>0.107455</td>\n",
       "      <td>15.188555</td>\n",
       "    </tr>\n",
       "  </tbody>\n",
       "</table>\n",
       "</div>"
      ],
      "text/plain": [
       "                lpep_pickup_datetime  passenger_count  trip_distance  \\\n",
       "count                         581624    581624.000000  581624.000000   \n",
       "mean   2019-01-16 16:51:55.183897344         1.293721       3.865899   \n",
       "min              2009-01-01 00:06:03         1.000000       0.010000   \n",
       "25%    2019-01-09 09:33:23.750000128         1.000000       1.400000   \n",
       "50%       2019-01-16 16:50:18.500000         1.000000       2.590000   \n",
       "75%    2019-01-24 16:47:07.750000128         1.000000       5.370000   \n",
       "max              2019-02-01 21:51:23         9.000000      11.325000   \n",
       "std                              NaN         0.951630       3.272636   \n",
       "\n",
       "         fare_amount          extra        mta_tax     tip_amount  \\\n",
       "count  581624.000000  581624.000000  581624.000000  581624.000000   \n",
       "mean       16.100015       0.479617       0.494285       0.858617   \n",
       "min         0.000000       0.000000       0.000000       0.000000   \n",
       "25%         7.500000       0.000000       0.500000       0.000000   \n",
       "50%        12.000000       0.000000       0.500000       0.000000   \n",
       "75%        21.340000       0.500000       0.500000       1.470000   \n",
       "max        42.100000       8.250000       3.800000     100.000000   \n",
       "std        11.240633       0.791142       0.053349       1.676462   \n",
       "\n",
       "        tolls_amount  improvement_surcharge   total_amount  \n",
       "count  581624.000000          581624.000000  581624.000000  \n",
       "mean        0.338081               0.254659      19.526311  \n",
       "min         0.000000               0.000000       0.000000  \n",
       "25%         0.000000               0.300000       9.360000  \n",
       "50%         0.000000               0.300000      14.140000  \n",
       "75%         0.000000               0.300000      23.800000  \n",
       "max        95.760000               0.300000     393.800000  \n",
       "std         1.431611               0.107455      15.188555  "
      ]
     },
     "execution_count": 206,
     "metadata": {},
     "output_type": "execute_result"
    }
   ],
   "source": [
    "data.describe()"
   ]
  },
  {
   "cell_type": "markdown",
   "metadata": {},
   "source": [
    "fixed, now let's check tip_amount"
   ]
  },
  {
   "cell_type": "code",
   "execution_count": 207,
   "metadata": {},
   "outputs": [
    {
     "name": "stdout",
     "output_type": "stream",
     "text": [
      "Is 'tip_amount' normally distributed: False\n"
     ]
    },
    {
     "name": "stderr",
     "output_type": "stream",
     "text": [
      "C:\\Users\\anaya\\anaconda3\\Lib\\site-packages\\scipy\\stats\\_morestats.py:1882: UserWarning: p-value may not be accurate for N > 5000.\n",
      "  warnings.warn(\"p-value may not be accurate for N > 5000.\")\n"
     ]
    }
   ],
   "source": [
    "result = is_normal(data['tip_amount'])\n",
    "print(\"Is 'tip_amount' normally distributed:\", result)"
   ]
  },
  {
   "cell_type": "markdown",
   "metadata": {},
   "source": [
    "again, not normally distributed, let's use IQR"
   ]
  },
  {
   "cell_type": "code",
   "execution_count": 208,
   "metadata": {},
   "outputs": [],
   "source": [
    "data['tip_amount'] = handle_outliers_iqr(data['tip_amount'])"
   ]
  },
  {
   "cell_type": "code",
   "execution_count": 210,
   "metadata": {},
   "outputs": [
    {
     "data": {
      "text/html": [
       "<div>\n",
       "<style scoped>\n",
       "    .dataframe tbody tr th:only-of-type {\n",
       "        vertical-align: middle;\n",
       "    }\n",
       "\n",
       "    .dataframe tbody tr th {\n",
       "        vertical-align: top;\n",
       "    }\n",
       "\n",
       "    .dataframe thead th {\n",
       "        text-align: right;\n",
       "    }\n",
       "</style>\n",
       "<table border=\"1\" class=\"dataframe\">\n",
       "  <thead>\n",
       "    <tr style=\"text-align: right;\">\n",
       "      <th></th>\n",
       "      <th>lpep_pickup_datetime</th>\n",
       "      <th>passenger_count</th>\n",
       "      <th>trip_distance</th>\n",
       "      <th>fare_amount</th>\n",
       "      <th>extra</th>\n",
       "      <th>mta_tax</th>\n",
       "      <th>tip_amount</th>\n",
       "      <th>tolls_amount</th>\n",
       "      <th>improvement_surcharge</th>\n",
       "      <th>total_amount</th>\n",
       "    </tr>\n",
       "  </thead>\n",
       "  <tbody>\n",
       "    <tr>\n",
       "      <th>count</th>\n",
       "      <td>581624</td>\n",
       "      <td>581624.000000</td>\n",
       "      <td>581624.000000</td>\n",
       "      <td>581624.000000</td>\n",
       "      <td>581624.000000</td>\n",
       "      <td>581624.000000</td>\n",
       "      <td>581624.000000</td>\n",
       "      <td>581624.000000</td>\n",
       "      <td>581624.000000</td>\n",
       "      <td>581624.000000</td>\n",
       "    </tr>\n",
       "    <tr>\n",
       "      <th>mean</th>\n",
       "      <td>2019-01-16 16:51:55.183897344</td>\n",
       "      <td>1.293721</td>\n",
       "      <td>3.865899</td>\n",
       "      <td>16.100015</td>\n",
       "      <td>0.479617</td>\n",
       "      <td>0.494285</td>\n",
       "      <td>0.742819</td>\n",
       "      <td>0.338081</td>\n",
       "      <td>0.254659</td>\n",
       "      <td>19.526311</td>\n",
       "    </tr>\n",
       "    <tr>\n",
       "      <th>min</th>\n",
       "      <td>2009-01-01 00:06:03</td>\n",
       "      <td>1.000000</td>\n",
       "      <td>0.010000</td>\n",
       "      <td>0.000000</td>\n",
       "      <td>0.000000</td>\n",
       "      <td>0.000000</td>\n",
       "      <td>0.000000</td>\n",
       "      <td>0.000000</td>\n",
       "      <td>0.000000</td>\n",
       "      <td>0.000000</td>\n",
       "    </tr>\n",
       "    <tr>\n",
       "      <th>25%</th>\n",
       "      <td>2019-01-09 09:33:23.750000128</td>\n",
       "      <td>1.000000</td>\n",
       "      <td>1.400000</td>\n",
       "      <td>7.500000</td>\n",
       "      <td>0.000000</td>\n",
       "      <td>0.500000</td>\n",
       "      <td>0.000000</td>\n",
       "      <td>0.000000</td>\n",
       "      <td>0.300000</td>\n",
       "      <td>9.360000</td>\n",
       "    </tr>\n",
       "    <tr>\n",
       "      <th>50%</th>\n",
       "      <td>2019-01-16 16:50:18.500000</td>\n",
       "      <td>1.000000</td>\n",
       "      <td>2.590000</td>\n",
       "      <td>12.000000</td>\n",
       "      <td>0.000000</td>\n",
       "      <td>0.500000</td>\n",
       "      <td>0.000000</td>\n",
       "      <td>0.000000</td>\n",
       "      <td>0.300000</td>\n",
       "      <td>14.140000</td>\n",
       "    </tr>\n",
       "    <tr>\n",
       "      <th>75%</th>\n",
       "      <td>2019-01-24 16:47:07.750000128</td>\n",
       "      <td>1.000000</td>\n",
       "      <td>5.370000</td>\n",
       "      <td>21.340000</td>\n",
       "      <td>0.500000</td>\n",
       "      <td>0.500000</td>\n",
       "      <td>1.470000</td>\n",
       "      <td>0.000000</td>\n",
       "      <td>0.300000</td>\n",
       "      <td>23.800000</td>\n",
       "    </tr>\n",
       "    <tr>\n",
       "      <th>max</th>\n",
       "      <td>2019-02-01 21:51:23</td>\n",
       "      <td>9.000000</td>\n",
       "      <td>11.325000</td>\n",
       "      <td>42.100000</td>\n",
       "      <td>8.250000</td>\n",
       "      <td>3.800000</td>\n",
       "      <td>3.675000</td>\n",
       "      <td>95.760000</td>\n",
       "      <td>0.300000</td>\n",
       "      <td>393.800000</td>\n",
       "    </tr>\n",
       "    <tr>\n",
       "      <th>std</th>\n",
       "      <td>NaN</td>\n",
       "      <td>0.951630</td>\n",
       "      <td>3.272636</td>\n",
       "      <td>11.240633</td>\n",
       "      <td>0.791142</td>\n",
       "      <td>0.053349</td>\n",
       "      <td>1.197226</td>\n",
       "      <td>1.431611</td>\n",
       "      <td>0.107455</td>\n",
       "      <td>15.188555</td>\n",
       "    </tr>\n",
       "  </tbody>\n",
       "</table>\n",
       "</div>"
      ],
      "text/plain": [
       "                lpep_pickup_datetime  passenger_count  trip_distance  \\\n",
       "count                         581624    581624.000000  581624.000000   \n",
       "mean   2019-01-16 16:51:55.183897344         1.293721       3.865899   \n",
       "min              2009-01-01 00:06:03         1.000000       0.010000   \n",
       "25%    2019-01-09 09:33:23.750000128         1.000000       1.400000   \n",
       "50%       2019-01-16 16:50:18.500000         1.000000       2.590000   \n",
       "75%    2019-01-24 16:47:07.750000128         1.000000       5.370000   \n",
       "max              2019-02-01 21:51:23         9.000000      11.325000   \n",
       "std                              NaN         0.951630       3.272636   \n",
       "\n",
       "         fare_amount          extra        mta_tax     tip_amount  \\\n",
       "count  581624.000000  581624.000000  581624.000000  581624.000000   \n",
       "mean       16.100015       0.479617       0.494285       0.742819   \n",
       "min         0.000000       0.000000       0.000000       0.000000   \n",
       "25%         7.500000       0.000000       0.500000       0.000000   \n",
       "50%        12.000000       0.000000       0.500000       0.000000   \n",
       "75%        21.340000       0.500000       0.500000       1.470000   \n",
       "max        42.100000       8.250000       3.800000       3.675000   \n",
       "std        11.240633       0.791142       0.053349       1.197226   \n",
       "\n",
       "        tolls_amount  improvement_surcharge   total_amount  \n",
       "count  581624.000000          581624.000000  581624.000000  \n",
       "mean        0.338081               0.254659      19.526311  \n",
       "min         0.000000               0.000000       0.000000  \n",
       "25%         0.000000               0.300000       9.360000  \n",
       "50%         0.000000               0.300000      14.140000  \n",
       "75%         0.000000               0.300000      23.800000  \n",
       "max        95.760000               0.300000     393.800000  \n",
       "std         1.431611               0.107455      15.188555  "
      ]
     },
     "execution_count": 210,
     "metadata": {},
     "output_type": "execute_result"
    }
   ],
   "source": [
    "data.describe()"
   ]
  },
  {
   "cell_type": "markdown",
   "metadata": {},
   "source": [
    "Fixed. now let's handle tolls_amount and total_amount's outliers both at the same time."
   ]
  },
  {
   "cell_type": "code",
   "execution_count": 211,
   "metadata": {},
   "outputs": [
    {
     "name": "stdout",
     "output_type": "stream",
     "text": [
      "Is 'tolls_amount' normally distributed: False\n",
      "Is 'total_amount' normally distributed: False\n"
     ]
    },
    {
     "name": "stderr",
     "output_type": "stream",
     "text": [
      "C:\\Users\\anaya\\anaconda3\\Lib\\site-packages\\scipy\\stats\\_morestats.py:1882: UserWarning: p-value may not be accurate for N > 5000.\n",
      "  warnings.warn(\"p-value may not be accurate for N > 5000.\")\n"
     ]
    }
   ],
   "source": [
    "result = is_normal(data['tolls_amount'])\n",
    "print(\"Is 'tolls_amount' normally distributed:\", result)\n",
    "\n",
    "result = is_normal(data['total_amount'])\n",
    "print(\"Is 'total_amount' normally distributed:\", result)"
   ]
  },
  {
   "cell_type": "markdown",
   "metadata": {},
   "source": [
    "let's use IQR for both and see the result."
   ]
  },
  {
   "cell_type": "code",
   "execution_count": 216,
   "metadata": {},
   "outputs": [],
   "source": [
    "data['tolls_amount'] = handle_outliers_iqr(data['tolls_amount'])\n",
    "\n",
    "data['total_amount'] = handle_outliers_iqr(data['total_amount'])"
   ]
  },
  {
   "cell_type": "code",
   "execution_count": 215,
   "metadata": {},
   "outputs": [
    {
     "data": {
      "text/html": [
       "<div>\n",
       "<style scoped>\n",
       "    .dataframe tbody tr th:only-of-type {\n",
       "        vertical-align: middle;\n",
       "    }\n",
       "\n",
       "    .dataframe tbody tr th {\n",
       "        vertical-align: top;\n",
       "    }\n",
       "\n",
       "    .dataframe thead th {\n",
       "        text-align: right;\n",
       "    }\n",
       "</style>\n",
       "<table border=\"1\" class=\"dataframe\">\n",
       "  <thead>\n",
       "    <tr style=\"text-align: right;\">\n",
       "      <th></th>\n",
       "      <th>lpep_pickup_datetime</th>\n",
       "      <th>passenger_count</th>\n",
       "      <th>trip_distance</th>\n",
       "      <th>fare_amount</th>\n",
       "      <th>extra</th>\n",
       "      <th>mta_tax</th>\n",
       "      <th>tip_amount</th>\n",
       "      <th>tolls_amount</th>\n",
       "      <th>improvement_surcharge</th>\n",
       "      <th>total_amount</th>\n",
       "    </tr>\n",
       "  </thead>\n",
       "  <tbody>\n",
       "    <tr>\n",
       "      <th>count</th>\n",
       "      <td>581624</td>\n",
       "      <td>581624.000000</td>\n",
       "      <td>581624.000000</td>\n",
       "      <td>581624.000000</td>\n",
       "      <td>581624.000000</td>\n",
       "      <td>581624.000000</td>\n",
       "      <td>581624.000000</td>\n",
       "      <td>581624.0</td>\n",
       "      <td>581624.000000</td>\n",
       "      <td>581624.000000</td>\n",
       "    </tr>\n",
       "    <tr>\n",
       "      <th>mean</th>\n",
       "      <td>2019-01-16 16:51:55.183897344</td>\n",
       "      <td>1.293721</td>\n",
       "      <td>3.865899</td>\n",
       "      <td>16.100015</td>\n",
       "      <td>0.479617</td>\n",
       "      <td>0.494285</td>\n",
       "      <td>0.742819</td>\n",
       "      <td>0.0</td>\n",
       "      <td>0.254659</td>\n",
       "      <td>18.393165</td>\n",
       "    </tr>\n",
       "    <tr>\n",
       "      <th>min</th>\n",
       "      <td>2009-01-01 00:06:03</td>\n",
       "      <td>1.000000</td>\n",
       "      <td>0.010000</td>\n",
       "      <td>0.000000</td>\n",
       "      <td>0.000000</td>\n",
       "      <td>0.000000</td>\n",
       "      <td>0.000000</td>\n",
       "      <td>0.0</td>\n",
       "      <td>0.000000</td>\n",
       "      <td>0.000000</td>\n",
       "    </tr>\n",
       "    <tr>\n",
       "      <th>25%</th>\n",
       "      <td>2019-01-09 09:33:23.750000128</td>\n",
       "      <td>1.000000</td>\n",
       "      <td>1.400000</td>\n",
       "      <td>7.500000</td>\n",
       "      <td>0.000000</td>\n",
       "      <td>0.500000</td>\n",
       "      <td>0.000000</td>\n",
       "      <td>0.0</td>\n",
       "      <td>0.300000</td>\n",
       "      <td>9.360000</td>\n",
       "    </tr>\n",
       "    <tr>\n",
       "      <th>50%</th>\n",
       "      <td>2019-01-16 16:50:18.500000</td>\n",
       "      <td>1.000000</td>\n",
       "      <td>2.590000</td>\n",
       "      <td>12.000000</td>\n",
       "      <td>0.000000</td>\n",
       "      <td>0.500000</td>\n",
       "      <td>0.000000</td>\n",
       "      <td>0.0</td>\n",
       "      <td>0.300000</td>\n",
       "      <td>14.140000</td>\n",
       "    </tr>\n",
       "    <tr>\n",
       "      <th>75%</th>\n",
       "      <td>2019-01-24 16:47:07.750000128</td>\n",
       "      <td>1.000000</td>\n",
       "      <td>5.370000</td>\n",
       "      <td>21.340000</td>\n",
       "      <td>0.500000</td>\n",
       "      <td>0.500000</td>\n",
       "      <td>1.470000</td>\n",
       "      <td>0.0</td>\n",
       "      <td>0.300000</td>\n",
       "      <td>23.800000</td>\n",
       "    </tr>\n",
       "    <tr>\n",
       "      <th>max</th>\n",
       "      <td>2019-02-01 21:51:23</td>\n",
       "      <td>9.000000</td>\n",
       "      <td>11.325000</td>\n",
       "      <td>42.100000</td>\n",
       "      <td>8.250000</td>\n",
       "      <td>3.800000</td>\n",
       "      <td>3.675000</td>\n",
       "      <td>0.0</td>\n",
       "      <td>0.300000</td>\n",
       "      <td>45.460000</td>\n",
       "    </tr>\n",
       "    <tr>\n",
       "      <th>std</th>\n",
       "      <td>NaN</td>\n",
       "      <td>0.951630</td>\n",
       "      <td>3.272636</td>\n",
       "      <td>11.240633</td>\n",
       "      <td>0.791142</td>\n",
       "      <td>0.053349</td>\n",
       "      <td>1.197226</td>\n",
       "      <td>0.0</td>\n",
       "      <td>0.107455</td>\n",
       "      <td>11.876224</td>\n",
       "    </tr>\n",
       "  </tbody>\n",
       "</table>\n",
       "</div>"
      ],
      "text/plain": [
       "                lpep_pickup_datetime  passenger_count  trip_distance  \\\n",
       "count                         581624    581624.000000  581624.000000   \n",
       "mean   2019-01-16 16:51:55.183897344         1.293721       3.865899   \n",
       "min              2009-01-01 00:06:03         1.000000       0.010000   \n",
       "25%    2019-01-09 09:33:23.750000128         1.000000       1.400000   \n",
       "50%       2019-01-16 16:50:18.500000         1.000000       2.590000   \n",
       "75%    2019-01-24 16:47:07.750000128         1.000000       5.370000   \n",
       "max              2019-02-01 21:51:23         9.000000      11.325000   \n",
       "std                              NaN         0.951630       3.272636   \n",
       "\n",
       "         fare_amount          extra        mta_tax     tip_amount  \\\n",
       "count  581624.000000  581624.000000  581624.000000  581624.000000   \n",
       "mean       16.100015       0.479617       0.494285       0.742819   \n",
       "min         0.000000       0.000000       0.000000       0.000000   \n",
       "25%         7.500000       0.000000       0.500000       0.000000   \n",
       "50%        12.000000       0.000000       0.500000       0.000000   \n",
       "75%        21.340000       0.500000       0.500000       1.470000   \n",
       "max        42.100000       8.250000       3.800000       3.675000   \n",
       "std        11.240633       0.791142       0.053349       1.197226   \n",
       "\n",
       "       tolls_amount  improvement_surcharge   total_amount  \n",
       "count      581624.0          581624.000000  581624.000000  \n",
       "mean            0.0               0.254659      18.393165  \n",
       "min             0.0               0.000000       0.000000  \n",
       "25%             0.0               0.300000       9.360000  \n",
       "50%             0.0               0.300000      14.140000  \n",
       "75%             0.0               0.300000      23.800000  \n",
       "max             0.0               0.300000      45.460000  \n",
       "std             0.0               0.107455      11.876224  "
      ]
     },
     "execution_count": 215,
     "metadata": {},
     "output_type": "execute_result"
    }
   ],
   "source": [
    "data.describe()"
   ]
  },
  {
   "cell_type": "markdown",
   "metadata": {},
   "source": [
    "perfect. all outliers are now observed and handled"
   ]
  },
  {
   "cell_type": "markdown",
   "metadata": {},
   "source": [
    "# 4 - Data transformation and feature eng."
   ]
  },
  {
   "cell_type": "markdown",
   "metadata": {},
   "source": [
    "## 4.1 - Discretization"
   ]
  },
  {
   "cell_type": "code",
   "execution_count": 292,
   "metadata": {},
   "outputs": [
    {
     "name": "stdout",
     "output_type": "stream",
     "text": [
      "Unique Week Numbers: <IntegerArray>\n",
      "[1, 2, 3, 4, 5]\n",
      "Length: 5, dtype: UInt32\n"
     ]
    }
   ],
   "source": [
    "import pandas as pd\n",
    "\n",
    "# Convert 'lpep_pickup_datetime' to datetime type\n",
    "data['lpep_pickup_datetime'] = pd.to_datetime(data['lpep_pickup_datetime'])\n",
    "\n",
    "# Calculate the Week number and create 'Week range'\n",
    "data['week_number'] = data['lpep_pickup_datetime'].dt.isocalendar().week\n",
    "data['week_range_beginning'] = data['lpep_pickup_datetime'] - pd.to_timedelta(data['lpep_pickup_datetime'].dt.dayofweek, unit='D')\n",
    "\n",
    "# Display the unique week numbers\n",
    "unique_weeks = data['week_number'].unique()\n",
    "print(\"Unique Week Numbers:\", unique_weeks)\n"
   ]
  },
  {
   "cell_type": "code",
   "execution_count": 293,
   "metadata": {},
   "outputs": [
    {
     "data": {
      "text/html": [
       "<div>\n",
       "<style scoped>\n",
       "    .dataframe tbody tr th:only-of-type {\n",
       "        vertical-align: middle;\n",
       "    }\n",
       "\n",
       "    .dataframe tbody tr th {\n",
       "        vertical-align: top;\n",
       "    }\n",
       "\n",
       "    .dataframe thead th {\n",
       "        text-align: right;\n",
       "    }\n",
       "</style>\n",
       "<table border=\"1\" class=\"dataframe\">\n",
       "  <thead>\n",
       "    <tr style=\"text-align: right;\">\n",
       "      <th></th>\n",
       "      <th>vendor</th>\n",
       "      <th>lpep_pickup_datetime</th>\n",
       "      <th>lpep_dropoff_datetime</th>\n",
       "      <th>store_and_fwd_flag</th>\n",
       "      <th>rate_type</th>\n",
       "      <th>pu_location</th>\n",
       "      <th>do_location</th>\n",
       "      <th>passenger_count</th>\n",
       "      <th>trip_distance</th>\n",
       "      <th>fare_amount</th>\n",
       "      <th>extra</th>\n",
       "      <th>mta_tax</th>\n",
       "      <th>tip_amount</th>\n",
       "      <th>tolls_amount</th>\n",
       "      <th>improvement_surcharge</th>\n",
       "      <th>total_amount</th>\n",
       "      <th>payment_type</th>\n",
       "      <th>trip_type</th>\n",
       "      <th>week_number</th>\n",
       "      <th>week_range_beginning</th>\n",
       "    </tr>\n",
       "  </thead>\n",
       "  <tbody>\n",
       "    <tr>\n",
       "      <th>1</th>\n",
       "      <td>VeriFone Inc.</td>\n",
       "      <td>2019-01-01 00:10:16</td>\n",
       "      <td>2019-01-01 00:16:32</td>\n",
       "      <td>N</td>\n",
       "      <td>Standard rate</td>\n",
       "      <td>Brooklyn,Fort Greene</td>\n",
       "      <td>Brooklyn,Clinton Hill</td>\n",
       "      <td>2.0</td>\n",
       "      <td>0.86</td>\n",
       "      <td>6.0</td>\n",
       "      <td>0.5</td>\n",
       "      <td>0.5</td>\n",
       "      <td>0.000</td>\n",
       "      <td>0.0</td>\n",
       "      <td>0.3</td>\n",
       "      <td>7.30</td>\n",
       "      <td>Cash</td>\n",
       "      <td>Street-hail</td>\n",
       "      <td>1</td>\n",
       "      <td>2018-12-31 00:10:16</td>\n",
       "    </tr>\n",
       "    <tr>\n",
       "      <th>2</th>\n",
       "      <td>VeriFone Inc.</td>\n",
       "      <td>2019-01-01 00:27:11</td>\n",
       "      <td>2019-01-01 00:31:38</td>\n",
       "      <td>N</td>\n",
       "      <td>Standard rate</td>\n",
       "      <td>Brooklyn,Clinton Hill</td>\n",
       "      <td>Brooklyn,Prospect Heights</td>\n",
       "      <td>2.0</td>\n",
       "      <td>0.66</td>\n",
       "      <td>4.5</td>\n",
       "      <td>0.5</td>\n",
       "      <td>0.5</td>\n",
       "      <td>0.000</td>\n",
       "      <td>0.0</td>\n",
       "      <td>0.3</td>\n",
       "      <td>5.80</td>\n",
       "      <td>Credit card</td>\n",
       "      <td>Street-hail</td>\n",
       "      <td>1</td>\n",
       "      <td>2018-12-31 00:27:11</td>\n",
       "    </tr>\n",
       "    <tr>\n",
       "      <th>3</th>\n",
       "      <td>VeriFone Inc.</td>\n",
       "      <td>2019-01-01 00:46:20</td>\n",
       "      <td>2019-01-01 01:04:54</td>\n",
       "      <td>N</td>\n",
       "      <td>Standard rate</td>\n",
       "      <td>Brooklyn,Prospect Heights</td>\n",
       "      <td>Brooklyn,Bedford</td>\n",
       "      <td>2.0</td>\n",
       "      <td>2.68</td>\n",
       "      <td>13.5</td>\n",
       "      <td>0.5</td>\n",
       "      <td>0.5</td>\n",
       "      <td>2.960</td>\n",
       "      <td>0.0</td>\n",
       "      <td>0.3</td>\n",
       "      <td>19.71</td>\n",
       "      <td>Credit card</td>\n",
       "      <td>Street-hail</td>\n",
       "      <td>1</td>\n",
       "      <td>2018-12-31 00:46:20</td>\n",
       "    </tr>\n",
       "    <tr>\n",
       "      <th>4</th>\n",
       "      <td>VeriFone Inc.</td>\n",
       "      <td>2019-01-01 00:19:06</td>\n",
       "      <td>2019-01-01 00:39:43</td>\n",
       "      <td>N</td>\n",
       "      <td>Standard rate</td>\n",
       "      <td>Queens,Elmhurst</td>\n",
       "      <td>Queens,Woodhaven</td>\n",
       "      <td>1.0</td>\n",
       "      <td>4.53</td>\n",
       "      <td>18.0</td>\n",
       "      <td>0.5</td>\n",
       "      <td>0.5</td>\n",
       "      <td>0.000</td>\n",
       "      <td>0.0</td>\n",
       "      <td>0.3</td>\n",
       "      <td>19.30</td>\n",
       "      <td>Cash</td>\n",
       "      <td>Street-hail</td>\n",
       "      <td>1</td>\n",
       "      <td>2018-12-31 00:19:06</td>\n",
       "    </tr>\n",
       "    <tr>\n",
       "      <th>5</th>\n",
       "      <td>VeriFone Inc.</td>\n",
       "      <td>2019-01-01 00:12:35</td>\n",
       "      <td>2019-01-01 00:19:09</td>\n",
       "      <td>N</td>\n",
       "      <td>Standard rate</td>\n",
       "      <td>Brooklyn,Clinton Hill</td>\n",
       "      <td>Brooklyn,Bedford</td>\n",
       "      <td>1.0</td>\n",
       "      <td>1.05</td>\n",
       "      <td>6.5</td>\n",
       "      <td>0.5</td>\n",
       "      <td>0.5</td>\n",
       "      <td>0.000</td>\n",
       "      <td>0.0</td>\n",
       "      <td>0.3</td>\n",
       "      <td>7.80</td>\n",
       "      <td>Credit card</td>\n",
       "      <td>Street-hail</td>\n",
       "      <td>1</td>\n",
       "      <td>2018-12-31 00:12:35</td>\n",
       "    </tr>\n",
       "    <tr>\n",
       "      <th>...</th>\n",
       "      <td>...</td>\n",
       "      <td>...</td>\n",
       "      <td>...</td>\n",
       "      <td>...</td>\n",
       "      <td>...</td>\n",
       "      <td>...</td>\n",
       "      <td>...</td>\n",
       "      <td>...</td>\n",
       "      <td>...</td>\n",
       "      <td>...</td>\n",
       "      <td>...</td>\n",
       "      <td>...</td>\n",
       "      <td>...</td>\n",
       "      <td>...</td>\n",
       "      <td>...</td>\n",
       "      <td>...</td>\n",
       "      <td>...</td>\n",
       "      <td>...</td>\n",
       "      <td>...</td>\n",
       "      <td>...</td>\n",
       "    </tr>\n",
       "    <tr>\n",
       "      <th>672110</th>\n",
       "      <td>VeriFone Inc.</td>\n",
       "      <td>2019-01-29 18:41:25</td>\n",
       "      <td>2019-01-29 18:57:50</td>\n",
       "      <td>N</td>\n",
       "      <td>Standard rate</td>\n",
       "      <td>Brooklyn,DUMBO/Vinegar Hill</td>\n",
       "      <td>Brooklyn,Prospect Heights</td>\n",
       "      <td>5.0</td>\n",
       "      <td>2.40</td>\n",
       "      <td>12.0</td>\n",
       "      <td>1.0</td>\n",
       "      <td>0.5</td>\n",
       "      <td>3.675</td>\n",
       "      <td>0.0</td>\n",
       "      <td>0.3</td>\n",
       "      <td>17.80</td>\n",
       "      <td>Credit card</td>\n",
       "      <td>Street-hail</td>\n",
       "      <td>5</td>\n",
       "      <td>2019-01-28 18:41:25</td>\n",
       "    </tr>\n",
       "    <tr>\n",
       "      <th>672112</th>\n",
       "      <td>VeriFone Inc.</td>\n",
       "      <td>2019-01-17 17:49:05</td>\n",
       "      <td>2019-01-17 17:53:54</td>\n",
       "      <td>N</td>\n",
       "      <td>Standard rate</td>\n",
       "      <td>Manhattan,Central Harlem</td>\n",
       "      <td>Manhattan,East Harlem North</td>\n",
       "      <td>1.0</td>\n",
       "      <td>1.09</td>\n",
       "      <td>5.5</td>\n",
       "      <td>1.0</td>\n",
       "      <td>0.5</td>\n",
       "      <td>0.000</td>\n",
       "      <td>0.0</td>\n",
       "      <td>0.3</td>\n",
       "      <td>7.30</td>\n",
       "      <td>Cash</td>\n",
       "      <td>Street-hail</td>\n",
       "      <td>3</td>\n",
       "      <td>2019-01-14 17:49:05</td>\n",
       "    </tr>\n",
       "    <tr>\n",
       "      <th>672113</th>\n",
       "      <td>VeriFone Inc.</td>\n",
       "      <td>2019-01-16 19:48:42</td>\n",
       "      <td>2019-01-16 20:20:51</td>\n",
       "      <td>N</td>\n",
       "      <td>Standard rate</td>\n",
       "      <td>Brooklyn,Red Hook</td>\n",
       "      <td>Manhattan,West Village</td>\n",
       "      <td>1.0</td>\n",
       "      <td>6.87</td>\n",
       "      <td>27.0</td>\n",
       "      <td>1.0</td>\n",
       "      <td>0.5</td>\n",
       "      <td>0.000</td>\n",
       "      <td>0.0</td>\n",
       "      <td>0.3</td>\n",
       "      <td>34.56</td>\n",
       "      <td>Credit card</td>\n",
       "      <td>Street-hail</td>\n",
       "      <td>3</td>\n",
       "      <td>2019-01-14 19:48:42</td>\n",
       "    </tr>\n",
       "    <tr>\n",
       "      <th>672114</th>\n",
       "      <td>VeriFone Inc.</td>\n",
       "      <td>2019-01-12 07:33:53</td>\n",
       "      <td>2019-01-12 07:40:50</td>\n",
       "      <td>N</td>\n",
       "      <td>Standard rate</td>\n",
       "      <td>Queens,Kew Gardens</td>\n",
       "      <td>Queens,South Ozone Park</td>\n",
       "      <td>1.0</td>\n",
       "      <td>2.71</td>\n",
       "      <td>10.0</td>\n",
       "      <td>0.0</td>\n",
       "      <td>0.5</td>\n",
       "      <td>2.160</td>\n",
       "      <td>0.0</td>\n",
       "      <td>0.3</td>\n",
       "      <td>12.96</td>\n",
       "      <td>Credit card</td>\n",
       "      <td>Street-hail</td>\n",
       "      <td>2</td>\n",
       "      <td>2019-01-07 07:33:53</td>\n",
       "    </tr>\n",
       "    <tr>\n",
       "      <th>672115</th>\n",
       "      <td>VeriFone Inc.</td>\n",
       "      <td>2019-01-25 19:22:06</td>\n",
       "      <td>2019-01-25 19:30:59</td>\n",
       "      <td>N</td>\n",
       "      <td>Standard rate</td>\n",
       "      <td>Queens,Kew Gardens</td>\n",
       "      <td>Queens,Richmond Hill</td>\n",
       "      <td>1.0</td>\n",
       "      <td>1.53</td>\n",
       "      <td>8.0</td>\n",
       "      <td>1.0</td>\n",
       "      <td>0.5</td>\n",
       "      <td>2.940</td>\n",
       "      <td>0.0</td>\n",
       "      <td>0.3</td>\n",
       "      <td>12.74</td>\n",
       "      <td>Credit card</td>\n",
       "      <td>Street-hail</td>\n",
       "      <td>4</td>\n",
       "      <td>2019-01-21 19:22:06</td>\n",
       "    </tr>\n",
       "  </tbody>\n",
       "</table>\n",
       "<p>581577 rows × 20 columns</p>\n",
       "</div>"
      ],
      "text/plain": [
       "               vendor lpep_pickup_datetime lpep_dropoff_datetime  \\\n",
       "1       VeriFone Inc.  2019-01-01 00:10:16   2019-01-01 00:16:32   \n",
       "2       VeriFone Inc.  2019-01-01 00:27:11   2019-01-01 00:31:38   \n",
       "3       VeriFone Inc.  2019-01-01 00:46:20   2019-01-01 01:04:54   \n",
       "4       VeriFone Inc.  2019-01-01 00:19:06   2019-01-01 00:39:43   \n",
       "5       VeriFone Inc.  2019-01-01 00:12:35   2019-01-01 00:19:09   \n",
       "...               ...                  ...                   ...   \n",
       "672110  VeriFone Inc.  2019-01-29 18:41:25   2019-01-29 18:57:50   \n",
       "672112  VeriFone Inc.  2019-01-17 17:49:05   2019-01-17 17:53:54   \n",
       "672113  VeriFone Inc.  2019-01-16 19:48:42   2019-01-16 20:20:51   \n",
       "672114  VeriFone Inc.  2019-01-12 07:33:53   2019-01-12 07:40:50   \n",
       "672115  VeriFone Inc.  2019-01-25 19:22:06   2019-01-25 19:30:59   \n",
       "\n",
       "       store_and_fwd_flag      rate_type                  pu_location  \\\n",
       "1                       N  Standard rate         Brooklyn,Fort Greene   \n",
       "2                       N  Standard rate        Brooklyn,Clinton Hill   \n",
       "3                       N  Standard rate    Brooklyn,Prospect Heights   \n",
       "4                       N  Standard rate              Queens,Elmhurst   \n",
       "5                       N  Standard rate        Brooklyn,Clinton Hill   \n",
       "...                   ...            ...                          ...   \n",
       "672110                  N  Standard rate  Brooklyn,DUMBO/Vinegar Hill   \n",
       "672112                  N  Standard rate     Manhattan,Central Harlem   \n",
       "672113                  N  Standard rate            Brooklyn,Red Hook   \n",
       "672114                  N  Standard rate           Queens,Kew Gardens   \n",
       "672115                  N  Standard rate           Queens,Kew Gardens   \n",
       "\n",
       "                        do_location  passenger_count  trip_distance  \\\n",
       "1             Brooklyn,Clinton Hill              2.0           0.86   \n",
       "2         Brooklyn,Prospect Heights              2.0           0.66   \n",
       "3                  Brooklyn,Bedford              2.0           2.68   \n",
       "4                  Queens,Woodhaven              1.0           4.53   \n",
       "5                  Brooklyn,Bedford              1.0           1.05   \n",
       "...                             ...              ...            ...   \n",
       "672110    Brooklyn,Prospect Heights              5.0           2.40   \n",
       "672112  Manhattan,East Harlem North              1.0           1.09   \n",
       "672113       Manhattan,West Village              1.0           6.87   \n",
       "672114      Queens,South Ozone Park              1.0           2.71   \n",
       "672115         Queens,Richmond Hill              1.0           1.53   \n",
       "\n",
       "        fare_amount  extra  mta_tax  tip_amount  tolls_amount  \\\n",
       "1               6.0    0.5      0.5       0.000           0.0   \n",
       "2               4.5    0.5      0.5       0.000           0.0   \n",
       "3              13.5    0.5      0.5       2.960           0.0   \n",
       "4              18.0    0.5      0.5       0.000           0.0   \n",
       "5               6.5    0.5      0.5       0.000           0.0   \n",
       "...             ...    ...      ...         ...           ...   \n",
       "672110         12.0    1.0      0.5       3.675           0.0   \n",
       "672112          5.5    1.0      0.5       0.000           0.0   \n",
       "672113         27.0    1.0      0.5       0.000           0.0   \n",
       "672114         10.0    0.0      0.5       2.160           0.0   \n",
       "672115          8.0    1.0      0.5       2.940           0.0   \n",
       "\n",
       "        improvement_surcharge  total_amount payment_type    trip_type  \\\n",
       "1                         0.3          7.30         Cash  Street-hail   \n",
       "2                         0.3          5.80  Credit card  Street-hail   \n",
       "3                         0.3         19.71  Credit card  Street-hail   \n",
       "4                         0.3         19.30         Cash  Street-hail   \n",
       "5                         0.3          7.80  Credit card  Street-hail   \n",
       "...                       ...           ...          ...          ...   \n",
       "672110                    0.3         17.80  Credit card  Street-hail   \n",
       "672112                    0.3          7.30         Cash  Street-hail   \n",
       "672113                    0.3         34.56  Credit card  Street-hail   \n",
       "672114                    0.3         12.96  Credit card  Street-hail   \n",
       "672115                    0.3         12.74  Credit card  Street-hail   \n",
       "\n",
       "        week_number week_range_beginning  \n",
       "1                 1  2018-12-31 00:10:16  \n",
       "2                 1  2018-12-31 00:27:11  \n",
       "3                 1  2018-12-31 00:46:20  \n",
       "4                 1  2018-12-31 00:19:06  \n",
       "5                 1  2018-12-31 00:12:35  \n",
       "...             ...                  ...  \n",
       "672110            5  2019-01-28 18:41:25  \n",
       "672112            3  2019-01-14 17:49:05  \n",
       "672113            3  2019-01-14 19:48:42  \n",
       "672114            2  2019-01-07 07:33:53  \n",
       "672115            4  2019-01-21 19:22:06  \n",
       "\n",
       "[581577 rows x 20 columns]"
      ]
     },
     "execution_count": 293,
     "metadata": {},
     "output_type": "execute_result"
    }
   ],
   "source": [
    "data.head(600000)"
   ]
  },
  {
   "cell_type": "code",
   "execution_count": 276,
   "metadata": {},
   "outputs": [
    {
     "data": {
      "text/html": [
       "<div>\n",
       "<style scoped>\n",
       "    .dataframe tbody tr th:only-of-type {\n",
       "        vertical-align: middle;\n",
       "    }\n",
       "\n",
       "    .dataframe tbody tr th {\n",
       "        vertical-align: top;\n",
       "    }\n",
       "\n",
       "    .dataframe thead th {\n",
       "        text-align: right;\n",
       "    }\n",
       "</style>\n",
       "<table border=\"1\" class=\"dataframe\">\n",
       "  <thead>\n",
       "    <tr style=\"text-align: right;\">\n",
       "      <th></th>\n",
       "      <th>lpep_pickup_datetime</th>\n",
       "      <th>passenger_count</th>\n",
       "      <th>trip_distance</th>\n",
       "      <th>fare_amount</th>\n",
       "      <th>extra</th>\n",
       "      <th>mta_tax</th>\n",
       "      <th>tip_amount</th>\n",
       "      <th>tolls_amount</th>\n",
       "      <th>improvement_surcharge</th>\n",
       "      <th>total_amount</th>\n",
       "      <th>Week number</th>\n",
       "      <th>Start of Week</th>\n",
       "    </tr>\n",
       "  </thead>\n",
       "  <tbody>\n",
       "    <tr>\n",
       "      <th>count</th>\n",
       "      <td>581577</td>\n",
       "      <td>581577.000000</td>\n",
       "      <td>581577.000000</td>\n",
       "      <td>581577.000000</td>\n",
       "      <td>581577.000000</td>\n",
       "      <td>581577.000000</td>\n",
       "      <td>581577.000000</td>\n",
       "      <td>581577.0</td>\n",
       "      <td>581577.000000</td>\n",
       "      <td>581577.000000</td>\n",
       "      <td>581577.0</td>\n",
       "      <td>581577</td>\n",
       "    </tr>\n",
       "    <tr>\n",
       "      <th>mean</th>\n",
       "      <td>2019-01-16 19:33:09.203132160</td>\n",
       "      <td>1.293719</td>\n",
       "      <td>3.865969</td>\n",
       "      <td>16.100301</td>\n",
       "      <td>0.479627</td>\n",
       "      <td>0.494287</td>\n",
       "      <td>0.742846</td>\n",
       "      <td>0.0</td>\n",
       "      <td>0.254656</td>\n",
       "      <td>18.393493</td>\n",
       "      <td>2.903609</td>\n",
       "      <td>2019-01-13 21:50:19.514853120</td>\n",
       "    </tr>\n",
       "    <tr>\n",
       "      <th>min</th>\n",
       "      <td>2019-01-01 00:00:00</td>\n",
       "      <td>1.000000</td>\n",
       "      <td>0.010000</td>\n",
       "      <td>0.000000</td>\n",
       "      <td>0.000000</td>\n",
       "      <td>0.000000</td>\n",
       "      <td>0.000000</td>\n",
       "      <td>0.0</td>\n",
       "      <td>0.000000</td>\n",
       "      <td>0.000000</td>\n",
       "      <td>1.0</td>\n",
       "      <td>2018-12-31 00:00:00</td>\n",
       "    </tr>\n",
       "    <tr>\n",
       "      <th>25%</th>\n",
       "      <td>2019-01-09 09:35:00</td>\n",
       "      <td>1.000000</td>\n",
       "      <td>1.400000</td>\n",
       "      <td>7.500000</td>\n",
       "      <td>0.000000</td>\n",
       "      <td>0.500000</td>\n",
       "      <td>0.000000</td>\n",
       "      <td>0.0</td>\n",
       "      <td>0.300000</td>\n",
       "      <td>9.360000</td>\n",
       "      <td>2.0</td>\n",
       "      <td>2019-01-07 11:02:13</td>\n",
       "    </tr>\n",
       "    <tr>\n",
       "      <th>50%</th>\n",
       "      <td>2019-01-16 16:52:03</td>\n",
       "      <td>1.000000</td>\n",
       "      <td>2.590000</td>\n",
       "      <td>12.000000</td>\n",
       "      <td>0.000000</td>\n",
       "      <td>0.500000</td>\n",
       "      <td>0.000000</td>\n",
       "      <td>0.0</td>\n",
       "      <td>0.300000</td>\n",
       "      <td>14.140000</td>\n",
       "      <td>3.0</td>\n",
       "      <td>2019-01-14 12:36:54</td>\n",
       "    </tr>\n",
       "    <tr>\n",
       "      <th>75%</th>\n",
       "      <td>2019-01-24 16:47:42</td>\n",
       "      <td>1.000000</td>\n",
       "      <td>5.370000</td>\n",
       "      <td>21.350000</td>\n",
       "      <td>0.500000</td>\n",
       "      <td>0.500000</td>\n",
       "      <td>1.470000</td>\n",
       "      <td>0.0</td>\n",
       "      <td>0.300000</td>\n",
       "      <td>23.800000</td>\n",
       "      <td>4.0</td>\n",
       "      <td>2019-01-21 14:22:51</td>\n",
       "    </tr>\n",
       "    <tr>\n",
       "      <th>max</th>\n",
       "      <td>2019-02-01 21:51:23</td>\n",
       "      <td>9.000000</td>\n",
       "      <td>11.325000</td>\n",
       "      <td>42.100000</td>\n",
       "      <td>8.250000</td>\n",
       "      <td>3.800000</td>\n",
       "      <td>3.675000</td>\n",
       "      <td>0.0</td>\n",
       "      <td>0.300000</td>\n",
       "      <td>45.460000</td>\n",
       "      <td>5.0</td>\n",
       "      <td>2019-01-28 23:59:58</td>\n",
       "    </tr>\n",
       "    <tr>\n",
       "      <th>std</th>\n",
       "      <td>NaN</td>\n",
       "      <td>0.951626</td>\n",
       "      <td>3.272692</td>\n",
       "      <td>11.240720</td>\n",
       "      <td>0.791170</td>\n",
       "      <td>0.053344</td>\n",
       "      <td>1.197244</td>\n",
       "      <td>0.0</td>\n",
       "      <td>0.107457</td>\n",
       "      <td>11.876313</td>\n",
       "      <td>1.304497</td>\n",
       "      <td>NaN</td>\n",
       "    </tr>\n",
       "  </tbody>\n",
       "</table>\n",
       "</div>"
      ],
      "text/plain": [
       "                lpep_pickup_datetime  passenger_count  trip_distance  \\\n",
       "count                         581577    581577.000000  581577.000000   \n",
       "mean   2019-01-16 19:33:09.203132160         1.293719       3.865969   \n",
       "min              2019-01-01 00:00:00         1.000000       0.010000   \n",
       "25%              2019-01-09 09:35:00         1.000000       1.400000   \n",
       "50%              2019-01-16 16:52:03         1.000000       2.590000   \n",
       "75%              2019-01-24 16:47:42         1.000000       5.370000   \n",
       "max              2019-02-01 21:51:23         9.000000      11.325000   \n",
       "std                              NaN         0.951626       3.272692   \n",
       "\n",
       "         fare_amount          extra        mta_tax     tip_amount  \\\n",
       "count  581577.000000  581577.000000  581577.000000  581577.000000   \n",
       "mean       16.100301       0.479627       0.494287       0.742846   \n",
       "min         0.000000       0.000000       0.000000       0.000000   \n",
       "25%         7.500000       0.000000       0.500000       0.000000   \n",
       "50%        12.000000       0.000000       0.500000       0.000000   \n",
       "75%        21.350000       0.500000       0.500000       1.470000   \n",
       "max        42.100000       8.250000       3.800000       3.675000   \n",
       "std        11.240720       0.791170       0.053344       1.197244   \n",
       "\n",
       "       tolls_amount  improvement_surcharge   total_amount  Week number  \\\n",
       "count      581577.0          581577.000000  581577.000000     581577.0   \n",
       "mean            0.0               0.254656      18.393493     2.903609   \n",
       "min             0.0               0.000000       0.000000          1.0   \n",
       "25%             0.0               0.300000       9.360000          2.0   \n",
       "50%             0.0               0.300000      14.140000          3.0   \n",
       "75%             0.0               0.300000      23.800000          4.0   \n",
       "max             0.0               0.300000      45.460000          5.0   \n",
       "std             0.0               0.107457      11.876313     1.304497   \n",
       "\n",
       "                       Start of Week  \n",
       "count                         581577  \n",
       "mean   2019-01-13 21:50:19.514853120  \n",
       "min              2018-12-31 00:00:00  \n",
       "25%              2019-01-07 11:02:13  \n",
       "50%              2019-01-14 12:36:54  \n",
       "75%              2019-01-21 14:22:51  \n",
       "max              2019-01-28 23:59:58  \n",
       "std                              NaN  "
      ]
     },
     "execution_count": 276,
     "metadata": {},
     "output_type": "execute_result"
    }
   ],
   "source": [
    "data.describe()"
   ]
  },
  {
   "cell_type": "code",
   "execution_count": null,
   "metadata": {},
   "outputs": [],
   "source": []
  },
  {
   "cell_type": "markdown",
   "metadata": {},
   "source": [
    "## 4.11 - Findings and conclusions"
   ]
  },
  {
   "cell_type": "code",
   "execution_count": null,
   "metadata": {},
   "outputs": [],
   "source": []
  },
  {
   "cell_type": "code",
   "execution_count": null,
   "metadata": {},
   "outputs": [],
   "source": []
  },
  {
   "cell_type": "code",
   "execution_count": null,
   "metadata": {},
   "outputs": [],
   "source": []
  },
  {
   "cell_type": "markdown",
   "metadata": {},
   "source": [
    "## 4.2 - Encoding"
   ]
  },
  {
   "cell_type": "code",
   "execution_count": 298,
   "metadata": {},
   "outputs": [],
   "source": [
    "data = pd.get_dummies(data, columns=['vendor'])"
   ]
  },
  {
   "cell_type": "code",
   "execution_count": 299,
   "metadata": {},
   "outputs": [
    {
     "data": {
      "text/html": [
       "<div>\n",
       "<style scoped>\n",
       "    .dataframe tbody tr th:only-of-type {\n",
       "        vertical-align: middle;\n",
       "    }\n",
       "\n",
       "    .dataframe tbody tr th {\n",
       "        vertical-align: top;\n",
       "    }\n",
       "\n",
       "    .dataframe thead th {\n",
       "        text-align: right;\n",
       "    }\n",
       "</style>\n",
       "<table border=\"1\" class=\"dataframe\">\n",
       "  <thead>\n",
       "    <tr style=\"text-align: right;\">\n",
       "      <th></th>\n",
       "      <th>lpep_pickup_datetime</th>\n",
       "      <th>lpep_dropoff_datetime</th>\n",
       "      <th>store_and_fwd_flag</th>\n",
       "      <th>rate_type</th>\n",
       "      <th>pu_location</th>\n",
       "      <th>do_location</th>\n",
       "      <th>passenger_count</th>\n",
       "      <th>trip_distance</th>\n",
       "      <th>fare_amount</th>\n",
       "      <th>extra</th>\n",
       "      <th>...</th>\n",
       "      <th>tip_amount</th>\n",
       "      <th>tolls_amount</th>\n",
       "      <th>improvement_surcharge</th>\n",
       "      <th>total_amount</th>\n",
       "      <th>payment_type</th>\n",
       "      <th>trip_type</th>\n",
       "      <th>week_number</th>\n",
       "      <th>week_range_beginning</th>\n",
       "      <th>vendor_Creative Mobile Technologies, LLC</th>\n",
       "      <th>vendor_VeriFone Inc.</th>\n",
       "    </tr>\n",
       "  </thead>\n",
       "  <tbody>\n",
       "    <tr>\n",
       "      <th>1</th>\n",
       "      <td>2019-01-01 00:10:16</td>\n",
       "      <td>2019-01-01 00:16:32</td>\n",
       "      <td>N</td>\n",
       "      <td>Standard rate</td>\n",
       "      <td>Brooklyn,Fort Greene</td>\n",
       "      <td>Brooklyn,Clinton Hill</td>\n",
       "      <td>2.0</td>\n",
       "      <td>0.86</td>\n",
       "      <td>6.0</td>\n",
       "      <td>0.5</td>\n",
       "      <td>...</td>\n",
       "      <td>0.000</td>\n",
       "      <td>0.0</td>\n",
       "      <td>0.3</td>\n",
       "      <td>7.30</td>\n",
       "      <td>Cash</td>\n",
       "      <td>Street-hail</td>\n",
       "      <td>1</td>\n",
       "      <td>2018-12-31 00:10:16</td>\n",
       "      <td>False</td>\n",
       "      <td>True</td>\n",
       "    </tr>\n",
       "    <tr>\n",
       "      <th>2</th>\n",
       "      <td>2019-01-01 00:27:11</td>\n",
       "      <td>2019-01-01 00:31:38</td>\n",
       "      <td>N</td>\n",
       "      <td>Standard rate</td>\n",
       "      <td>Brooklyn,Clinton Hill</td>\n",
       "      <td>Brooklyn,Prospect Heights</td>\n",
       "      <td>2.0</td>\n",
       "      <td>0.66</td>\n",
       "      <td>4.5</td>\n",
       "      <td>0.5</td>\n",
       "      <td>...</td>\n",
       "      <td>0.000</td>\n",
       "      <td>0.0</td>\n",
       "      <td>0.3</td>\n",
       "      <td>5.80</td>\n",
       "      <td>Credit card</td>\n",
       "      <td>Street-hail</td>\n",
       "      <td>1</td>\n",
       "      <td>2018-12-31 00:27:11</td>\n",
       "      <td>False</td>\n",
       "      <td>True</td>\n",
       "    </tr>\n",
       "    <tr>\n",
       "      <th>3</th>\n",
       "      <td>2019-01-01 00:46:20</td>\n",
       "      <td>2019-01-01 01:04:54</td>\n",
       "      <td>N</td>\n",
       "      <td>Standard rate</td>\n",
       "      <td>Brooklyn,Prospect Heights</td>\n",
       "      <td>Brooklyn,Bedford</td>\n",
       "      <td>2.0</td>\n",
       "      <td>2.68</td>\n",
       "      <td>13.5</td>\n",
       "      <td>0.5</td>\n",
       "      <td>...</td>\n",
       "      <td>2.960</td>\n",
       "      <td>0.0</td>\n",
       "      <td>0.3</td>\n",
       "      <td>19.71</td>\n",
       "      <td>Credit card</td>\n",
       "      <td>Street-hail</td>\n",
       "      <td>1</td>\n",
       "      <td>2018-12-31 00:46:20</td>\n",
       "      <td>False</td>\n",
       "      <td>True</td>\n",
       "    </tr>\n",
       "    <tr>\n",
       "      <th>4</th>\n",
       "      <td>2019-01-01 00:19:06</td>\n",
       "      <td>2019-01-01 00:39:43</td>\n",
       "      <td>N</td>\n",
       "      <td>Standard rate</td>\n",
       "      <td>Queens,Elmhurst</td>\n",
       "      <td>Queens,Woodhaven</td>\n",
       "      <td>1.0</td>\n",
       "      <td>4.53</td>\n",
       "      <td>18.0</td>\n",
       "      <td>0.5</td>\n",
       "      <td>...</td>\n",
       "      <td>0.000</td>\n",
       "      <td>0.0</td>\n",
       "      <td>0.3</td>\n",
       "      <td>19.30</td>\n",
       "      <td>Cash</td>\n",
       "      <td>Street-hail</td>\n",
       "      <td>1</td>\n",
       "      <td>2018-12-31 00:19:06</td>\n",
       "      <td>False</td>\n",
       "      <td>True</td>\n",
       "    </tr>\n",
       "    <tr>\n",
       "      <th>5</th>\n",
       "      <td>2019-01-01 00:12:35</td>\n",
       "      <td>2019-01-01 00:19:09</td>\n",
       "      <td>N</td>\n",
       "      <td>Standard rate</td>\n",
       "      <td>Brooklyn,Clinton Hill</td>\n",
       "      <td>Brooklyn,Bedford</td>\n",
       "      <td>1.0</td>\n",
       "      <td>1.05</td>\n",
       "      <td>6.5</td>\n",
       "      <td>0.5</td>\n",
       "      <td>...</td>\n",
       "      <td>0.000</td>\n",
       "      <td>0.0</td>\n",
       "      <td>0.3</td>\n",
       "      <td>7.80</td>\n",
       "      <td>Credit card</td>\n",
       "      <td>Street-hail</td>\n",
       "      <td>1</td>\n",
       "      <td>2018-12-31 00:12:35</td>\n",
       "      <td>False</td>\n",
       "      <td>True</td>\n",
       "    </tr>\n",
       "    <tr>\n",
       "      <th>...</th>\n",
       "      <td>...</td>\n",
       "      <td>...</td>\n",
       "      <td>...</td>\n",
       "      <td>...</td>\n",
       "      <td>...</td>\n",
       "      <td>...</td>\n",
       "      <td>...</td>\n",
       "      <td>...</td>\n",
       "      <td>...</td>\n",
       "      <td>...</td>\n",
       "      <td>...</td>\n",
       "      <td>...</td>\n",
       "      <td>...</td>\n",
       "      <td>...</td>\n",
       "      <td>...</td>\n",
       "      <td>...</td>\n",
       "      <td>...</td>\n",
       "      <td>...</td>\n",
       "      <td>...</td>\n",
       "      <td>...</td>\n",
       "      <td>...</td>\n",
       "    </tr>\n",
       "    <tr>\n",
       "      <th>672110</th>\n",
       "      <td>2019-01-29 18:41:25</td>\n",
       "      <td>2019-01-29 18:57:50</td>\n",
       "      <td>N</td>\n",
       "      <td>Standard rate</td>\n",
       "      <td>Brooklyn,DUMBO/Vinegar Hill</td>\n",
       "      <td>Brooklyn,Prospect Heights</td>\n",
       "      <td>5.0</td>\n",
       "      <td>2.40</td>\n",
       "      <td>12.0</td>\n",
       "      <td>1.0</td>\n",
       "      <td>...</td>\n",
       "      <td>3.675</td>\n",
       "      <td>0.0</td>\n",
       "      <td>0.3</td>\n",
       "      <td>17.80</td>\n",
       "      <td>Credit card</td>\n",
       "      <td>Street-hail</td>\n",
       "      <td>5</td>\n",
       "      <td>2019-01-28 18:41:25</td>\n",
       "      <td>False</td>\n",
       "      <td>True</td>\n",
       "    </tr>\n",
       "    <tr>\n",
       "      <th>672112</th>\n",
       "      <td>2019-01-17 17:49:05</td>\n",
       "      <td>2019-01-17 17:53:54</td>\n",
       "      <td>N</td>\n",
       "      <td>Standard rate</td>\n",
       "      <td>Manhattan,Central Harlem</td>\n",
       "      <td>Manhattan,East Harlem North</td>\n",
       "      <td>1.0</td>\n",
       "      <td>1.09</td>\n",
       "      <td>5.5</td>\n",
       "      <td>1.0</td>\n",
       "      <td>...</td>\n",
       "      <td>0.000</td>\n",
       "      <td>0.0</td>\n",
       "      <td>0.3</td>\n",
       "      <td>7.30</td>\n",
       "      <td>Cash</td>\n",
       "      <td>Street-hail</td>\n",
       "      <td>3</td>\n",
       "      <td>2019-01-14 17:49:05</td>\n",
       "      <td>False</td>\n",
       "      <td>True</td>\n",
       "    </tr>\n",
       "    <tr>\n",
       "      <th>672113</th>\n",
       "      <td>2019-01-16 19:48:42</td>\n",
       "      <td>2019-01-16 20:20:51</td>\n",
       "      <td>N</td>\n",
       "      <td>Standard rate</td>\n",
       "      <td>Brooklyn,Red Hook</td>\n",
       "      <td>Manhattan,West Village</td>\n",
       "      <td>1.0</td>\n",
       "      <td>6.87</td>\n",
       "      <td>27.0</td>\n",
       "      <td>1.0</td>\n",
       "      <td>...</td>\n",
       "      <td>0.000</td>\n",
       "      <td>0.0</td>\n",
       "      <td>0.3</td>\n",
       "      <td>34.56</td>\n",
       "      <td>Credit card</td>\n",
       "      <td>Street-hail</td>\n",
       "      <td>3</td>\n",
       "      <td>2019-01-14 19:48:42</td>\n",
       "      <td>False</td>\n",
       "      <td>True</td>\n",
       "    </tr>\n",
       "    <tr>\n",
       "      <th>672114</th>\n",
       "      <td>2019-01-12 07:33:53</td>\n",
       "      <td>2019-01-12 07:40:50</td>\n",
       "      <td>N</td>\n",
       "      <td>Standard rate</td>\n",
       "      <td>Queens,Kew Gardens</td>\n",
       "      <td>Queens,South Ozone Park</td>\n",
       "      <td>1.0</td>\n",
       "      <td>2.71</td>\n",
       "      <td>10.0</td>\n",
       "      <td>0.0</td>\n",
       "      <td>...</td>\n",
       "      <td>2.160</td>\n",
       "      <td>0.0</td>\n",
       "      <td>0.3</td>\n",
       "      <td>12.96</td>\n",
       "      <td>Credit card</td>\n",
       "      <td>Street-hail</td>\n",
       "      <td>2</td>\n",
       "      <td>2019-01-07 07:33:53</td>\n",
       "      <td>False</td>\n",
       "      <td>True</td>\n",
       "    </tr>\n",
       "    <tr>\n",
       "      <th>672115</th>\n",
       "      <td>2019-01-25 19:22:06</td>\n",
       "      <td>2019-01-25 19:30:59</td>\n",
       "      <td>N</td>\n",
       "      <td>Standard rate</td>\n",
       "      <td>Queens,Kew Gardens</td>\n",
       "      <td>Queens,Richmond Hill</td>\n",
       "      <td>1.0</td>\n",
       "      <td>1.53</td>\n",
       "      <td>8.0</td>\n",
       "      <td>1.0</td>\n",
       "      <td>...</td>\n",
       "      <td>2.940</td>\n",
       "      <td>0.0</td>\n",
       "      <td>0.3</td>\n",
       "      <td>12.74</td>\n",
       "      <td>Credit card</td>\n",
       "      <td>Street-hail</td>\n",
       "      <td>4</td>\n",
       "      <td>2019-01-21 19:22:06</td>\n",
       "      <td>False</td>\n",
       "      <td>True</td>\n",
       "    </tr>\n",
       "  </tbody>\n",
       "</table>\n",
       "<p>581577 rows × 21 columns</p>\n",
       "</div>"
      ],
      "text/plain": [
       "       lpep_pickup_datetime lpep_dropoff_datetime store_and_fwd_flag  \\\n",
       "1       2019-01-01 00:10:16   2019-01-01 00:16:32                  N   \n",
       "2       2019-01-01 00:27:11   2019-01-01 00:31:38                  N   \n",
       "3       2019-01-01 00:46:20   2019-01-01 01:04:54                  N   \n",
       "4       2019-01-01 00:19:06   2019-01-01 00:39:43                  N   \n",
       "5       2019-01-01 00:12:35   2019-01-01 00:19:09                  N   \n",
       "...                     ...                   ...                ...   \n",
       "672110  2019-01-29 18:41:25   2019-01-29 18:57:50                  N   \n",
       "672112  2019-01-17 17:49:05   2019-01-17 17:53:54                  N   \n",
       "672113  2019-01-16 19:48:42   2019-01-16 20:20:51                  N   \n",
       "672114  2019-01-12 07:33:53   2019-01-12 07:40:50                  N   \n",
       "672115  2019-01-25 19:22:06   2019-01-25 19:30:59                  N   \n",
       "\n",
       "            rate_type                  pu_location  \\\n",
       "1       Standard rate         Brooklyn,Fort Greene   \n",
       "2       Standard rate        Brooklyn,Clinton Hill   \n",
       "3       Standard rate    Brooklyn,Prospect Heights   \n",
       "4       Standard rate              Queens,Elmhurst   \n",
       "5       Standard rate        Brooklyn,Clinton Hill   \n",
       "...               ...                          ...   \n",
       "672110  Standard rate  Brooklyn,DUMBO/Vinegar Hill   \n",
       "672112  Standard rate     Manhattan,Central Harlem   \n",
       "672113  Standard rate            Brooklyn,Red Hook   \n",
       "672114  Standard rate           Queens,Kew Gardens   \n",
       "672115  Standard rate           Queens,Kew Gardens   \n",
       "\n",
       "                        do_location  passenger_count  trip_distance  \\\n",
       "1             Brooklyn,Clinton Hill              2.0           0.86   \n",
       "2         Brooklyn,Prospect Heights              2.0           0.66   \n",
       "3                  Brooklyn,Bedford              2.0           2.68   \n",
       "4                  Queens,Woodhaven              1.0           4.53   \n",
       "5                  Brooklyn,Bedford              1.0           1.05   \n",
       "...                             ...              ...            ...   \n",
       "672110    Brooklyn,Prospect Heights              5.0           2.40   \n",
       "672112  Manhattan,East Harlem North              1.0           1.09   \n",
       "672113       Manhattan,West Village              1.0           6.87   \n",
       "672114      Queens,South Ozone Park              1.0           2.71   \n",
       "672115         Queens,Richmond Hill              1.0           1.53   \n",
       "\n",
       "        fare_amount  extra  ...  tip_amount  tolls_amount  \\\n",
       "1               6.0    0.5  ...       0.000           0.0   \n",
       "2               4.5    0.5  ...       0.000           0.0   \n",
       "3              13.5    0.5  ...       2.960           0.0   \n",
       "4              18.0    0.5  ...       0.000           0.0   \n",
       "5               6.5    0.5  ...       0.000           0.0   \n",
       "...             ...    ...  ...         ...           ...   \n",
       "672110         12.0    1.0  ...       3.675           0.0   \n",
       "672112          5.5    1.0  ...       0.000           0.0   \n",
       "672113         27.0    1.0  ...       0.000           0.0   \n",
       "672114         10.0    0.0  ...       2.160           0.0   \n",
       "672115          8.0    1.0  ...       2.940           0.0   \n",
       "\n",
       "        improvement_surcharge  total_amount  payment_type    trip_type  \\\n",
       "1                         0.3          7.30          Cash  Street-hail   \n",
       "2                         0.3          5.80   Credit card  Street-hail   \n",
       "3                         0.3         19.71   Credit card  Street-hail   \n",
       "4                         0.3         19.30          Cash  Street-hail   \n",
       "5                         0.3          7.80   Credit card  Street-hail   \n",
       "...                       ...           ...           ...          ...   \n",
       "672110                    0.3         17.80   Credit card  Street-hail   \n",
       "672112                    0.3          7.30          Cash  Street-hail   \n",
       "672113                    0.3         34.56   Credit card  Street-hail   \n",
       "672114                    0.3         12.96   Credit card  Street-hail   \n",
       "672115                    0.3         12.74   Credit card  Street-hail   \n",
       "\n",
       "       week_number  week_range_beginning  \\\n",
       "1                1   2018-12-31 00:10:16   \n",
       "2                1   2018-12-31 00:27:11   \n",
       "3                1   2018-12-31 00:46:20   \n",
       "4                1   2018-12-31 00:19:06   \n",
       "5                1   2018-12-31 00:12:35   \n",
       "...            ...                   ...   \n",
       "672110           5   2019-01-28 18:41:25   \n",
       "672112           3   2019-01-14 17:49:05   \n",
       "672113           3   2019-01-14 19:48:42   \n",
       "672114           2   2019-01-07 07:33:53   \n",
       "672115           4   2019-01-21 19:22:06   \n",
       "\n",
       "       vendor_Creative Mobile Technologies, LLC  vendor_VeriFone Inc.  \n",
       "1                                         False                  True  \n",
       "2                                         False                  True  \n",
       "3                                         False                  True  \n",
       "4                                         False                  True  \n",
       "5                                         False                  True  \n",
       "...                                         ...                   ...  \n",
       "672110                                    False                  True  \n",
       "672112                                    False                  True  \n",
       "672113                                    False                  True  \n",
       "672114                                    False                  True  \n",
       "672115                                    False                  True  \n",
       "\n",
       "[581577 rows x 21 columns]"
      ]
     },
     "execution_count": 299,
     "metadata": {},
     "output_type": "execute_result"
    }
   ],
   "source": [
    "data.head(600000)"
   ]
  },
  {
   "cell_type": "markdown",
   "metadata": {},
   "source": [
    "I have used hot eye encoding because after cleaning, we have only 2 values for vendor"
   ]
  },
  {
   "cell_type": "markdown",
   "metadata": {},
   "source": [
    "since the extra column has about 5 different variables, we can use label encoding to utilize it's ordinality "
   ]
  },
  {
   "cell_type": "code",
   "execution_count": 300,
   "metadata": {},
   "outputs": [],
   "source": [
    "from sklearn.preprocessing import LabelEncoder\n",
    "\n",
    "label_encoder = LabelEncoder()\n",
    "data['extra_label_encoded'] = label_encoder.fit_transform(data['extra'])\n"
   ]
  },
  {
   "cell_type": "code",
   "execution_count": 301,
   "metadata": {},
   "outputs": [
    {
     "data": {
      "text/html": [
       "<div>\n",
       "<style scoped>\n",
       "    .dataframe tbody tr th:only-of-type {\n",
       "        vertical-align: middle;\n",
       "    }\n",
       "\n",
       "    .dataframe tbody tr th {\n",
       "        vertical-align: top;\n",
       "    }\n",
       "\n",
       "    .dataframe thead th {\n",
       "        text-align: right;\n",
       "    }\n",
       "</style>\n",
       "<table border=\"1\" class=\"dataframe\">\n",
       "  <thead>\n",
       "    <tr style=\"text-align: right;\">\n",
       "      <th></th>\n",
       "      <th>lpep_pickup_datetime</th>\n",
       "      <th>lpep_dropoff_datetime</th>\n",
       "      <th>store_and_fwd_flag</th>\n",
       "      <th>rate_type</th>\n",
       "      <th>pu_location</th>\n",
       "      <th>do_location</th>\n",
       "      <th>passenger_count</th>\n",
       "      <th>trip_distance</th>\n",
       "      <th>fare_amount</th>\n",
       "      <th>extra</th>\n",
       "      <th>...</th>\n",
       "      <th>tolls_amount</th>\n",
       "      <th>improvement_surcharge</th>\n",
       "      <th>total_amount</th>\n",
       "      <th>payment_type</th>\n",
       "      <th>trip_type</th>\n",
       "      <th>week_number</th>\n",
       "      <th>week_range_beginning</th>\n",
       "      <th>vendor_Creative Mobile Technologies, LLC</th>\n",
       "      <th>vendor_VeriFone Inc.</th>\n",
       "      <th>extra_label_encoded</th>\n",
       "    </tr>\n",
       "  </thead>\n",
       "  <tbody>\n",
       "    <tr>\n",
       "      <th>1</th>\n",
       "      <td>2019-01-01 00:10:16</td>\n",
       "      <td>2019-01-01 00:16:32</td>\n",
       "      <td>N</td>\n",
       "      <td>Standard rate</td>\n",
       "      <td>Brooklyn,Fort Greene</td>\n",
       "      <td>Brooklyn,Clinton Hill</td>\n",
       "      <td>2.0</td>\n",
       "      <td>0.86</td>\n",
       "      <td>6.0</td>\n",
       "      <td>0.5</td>\n",
       "      <td>...</td>\n",
       "      <td>0.0</td>\n",
       "      <td>0.3</td>\n",
       "      <td>7.30</td>\n",
       "      <td>Cash</td>\n",
       "      <td>Street-hail</td>\n",
       "      <td>1</td>\n",
       "      <td>2018-12-31 00:10:16</td>\n",
       "      <td>False</td>\n",
       "      <td>True</td>\n",
       "      <td>1</td>\n",
       "    </tr>\n",
       "    <tr>\n",
       "      <th>2</th>\n",
       "      <td>2019-01-01 00:27:11</td>\n",
       "      <td>2019-01-01 00:31:38</td>\n",
       "      <td>N</td>\n",
       "      <td>Standard rate</td>\n",
       "      <td>Brooklyn,Clinton Hill</td>\n",
       "      <td>Brooklyn,Prospect Heights</td>\n",
       "      <td>2.0</td>\n",
       "      <td>0.66</td>\n",
       "      <td>4.5</td>\n",
       "      <td>0.5</td>\n",
       "      <td>...</td>\n",
       "      <td>0.0</td>\n",
       "      <td>0.3</td>\n",
       "      <td>5.80</td>\n",
       "      <td>Credit card</td>\n",
       "      <td>Street-hail</td>\n",
       "      <td>1</td>\n",
       "      <td>2018-12-31 00:27:11</td>\n",
       "      <td>False</td>\n",
       "      <td>True</td>\n",
       "      <td>1</td>\n",
       "    </tr>\n",
       "    <tr>\n",
       "      <th>3</th>\n",
       "      <td>2019-01-01 00:46:20</td>\n",
       "      <td>2019-01-01 01:04:54</td>\n",
       "      <td>N</td>\n",
       "      <td>Standard rate</td>\n",
       "      <td>Brooklyn,Prospect Heights</td>\n",
       "      <td>Brooklyn,Bedford</td>\n",
       "      <td>2.0</td>\n",
       "      <td>2.68</td>\n",
       "      <td>13.5</td>\n",
       "      <td>0.5</td>\n",
       "      <td>...</td>\n",
       "      <td>0.0</td>\n",
       "      <td>0.3</td>\n",
       "      <td>19.71</td>\n",
       "      <td>Credit card</td>\n",
       "      <td>Street-hail</td>\n",
       "      <td>1</td>\n",
       "      <td>2018-12-31 00:46:20</td>\n",
       "      <td>False</td>\n",
       "      <td>True</td>\n",
       "      <td>1</td>\n",
       "    </tr>\n",
       "    <tr>\n",
       "      <th>4</th>\n",
       "      <td>2019-01-01 00:19:06</td>\n",
       "      <td>2019-01-01 00:39:43</td>\n",
       "      <td>N</td>\n",
       "      <td>Standard rate</td>\n",
       "      <td>Queens,Elmhurst</td>\n",
       "      <td>Queens,Woodhaven</td>\n",
       "      <td>1.0</td>\n",
       "      <td>4.53</td>\n",
       "      <td>18.0</td>\n",
       "      <td>0.5</td>\n",
       "      <td>...</td>\n",
       "      <td>0.0</td>\n",
       "      <td>0.3</td>\n",
       "      <td>19.30</td>\n",
       "      <td>Cash</td>\n",
       "      <td>Street-hail</td>\n",
       "      <td>1</td>\n",
       "      <td>2018-12-31 00:19:06</td>\n",
       "      <td>False</td>\n",
       "      <td>True</td>\n",
       "      <td>1</td>\n",
       "    </tr>\n",
       "    <tr>\n",
       "      <th>5</th>\n",
       "      <td>2019-01-01 00:12:35</td>\n",
       "      <td>2019-01-01 00:19:09</td>\n",
       "      <td>N</td>\n",
       "      <td>Standard rate</td>\n",
       "      <td>Brooklyn,Clinton Hill</td>\n",
       "      <td>Brooklyn,Bedford</td>\n",
       "      <td>1.0</td>\n",
       "      <td>1.05</td>\n",
       "      <td>6.5</td>\n",
       "      <td>0.5</td>\n",
       "      <td>...</td>\n",
       "      <td>0.0</td>\n",
       "      <td>0.3</td>\n",
       "      <td>7.80</td>\n",
       "      <td>Credit card</td>\n",
       "      <td>Street-hail</td>\n",
       "      <td>1</td>\n",
       "      <td>2018-12-31 00:12:35</td>\n",
       "      <td>False</td>\n",
       "      <td>True</td>\n",
       "      <td>1</td>\n",
       "    </tr>\n",
       "    <tr>\n",
       "      <th>...</th>\n",
       "      <td>...</td>\n",
       "      <td>...</td>\n",
       "      <td>...</td>\n",
       "      <td>...</td>\n",
       "      <td>...</td>\n",
       "      <td>...</td>\n",
       "      <td>...</td>\n",
       "      <td>...</td>\n",
       "      <td>...</td>\n",
       "      <td>...</td>\n",
       "      <td>...</td>\n",
       "      <td>...</td>\n",
       "      <td>...</td>\n",
       "      <td>...</td>\n",
       "      <td>...</td>\n",
       "      <td>...</td>\n",
       "      <td>...</td>\n",
       "      <td>...</td>\n",
       "      <td>...</td>\n",
       "      <td>...</td>\n",
       "      <td>...</td>\n",
       "    </tr>\n",
       "    <tr>\n",
       "      <th>672110</th>\n",
       "      <td>2019-01-29 18:41:25</td>\n",
       "      <td>2019-01-29 18:57:50</td>\n",
       "      <td>N</td>\n",
       "      <td>Standard rate</td>\n",
       "      <td>Brooklyn,DUMBO/Vinegar Hill</td>\n",
       "      <td>Brooklyn,Prospect Heights</td>\n",
       "      <td>5.0</td>\n",
       "      <td>2.40</td>\n",
       "      <td>12.0</td>\n",
       "      <td>1.0</td>\n",
       "      <td>...</td>\n",
       "      <td>0.0</td>\n",
       "      <td>0.3</td>\n",
       "      <td>17.80</td>\n",
       "      <td>Credit card</td>\n",
       "      <td>Street-hail</td>\n",
       "      <td>5</td>\n",
       "      <td>2019-01-28 18:41:25</td>\n",
       "      <td>False</td>\n",
       "      <td>True</td>\n",
       "      <td>2</td>\n",
       "    </tr>\n",
       "    <tr>\n",
       "      <th>672112</th>\n",
       "      <td>2019-01-17 17:49:05</td>\n",
       "      <td>2019-01-17 17:53:54</td>\n",
       "      <td>N</td>\n",
       "      <td>Standard rate</td>\n",
       "      <td>Manhattan,Central Harlem</td>\n",
       "      <td>Manhattan,East Harlem North</td>\n",
       "      <td>1.0</td>\n",
       "      <td>1.09</td>\n",
       "      <td>5.5</td>\n",
       "      <td>1.0</td>\n",
       "      <td>...</td>\n",
       "      <td>0.0</td>\n",
       "      <td>0.3</td>\n",
       "      <td>7.30</td>\n",
       "      <td>Cash</td>\n",
       "      <td>Street-hail</td>\n",
       "      <td>3</td>\n",
       "      <td>2019-01-14 17:49:05</td>\n",
       "      <td>False</td>\n",
       "      <td>True</td>\n",
       "      <td>2</td>\n",
       "    </tr>\n",
       "    <tr>\n",
       "      <th>672113</th>\n",
       "      <td>2019-01-16 19:48:42</td>\n",
       "      <td>2019-01-16 20:20:51</td>\n",
       "      <td>N</td>\n",
       "      <td>Standard rate</td>\n",
       "      <td>Brooklyn,Red Hook</td>\n",
       "      <td>Manhattan,West Village</td>\n",
       "      <td>1.0</td>\n",
       "      <td>6.87</td>\n",
       "      <td>27.0</td>\n",
       "      <td>1.0</td>\n",
       "      <td>...</td>\n",
       "      <td>0.0</td>\n",
       "      <td>0.3</td>\n",
       "      <td>34.56</td>\n",
       "      <td>Credit card</td>\n",
       "      <td>Street-hail</td>\n",
       "      <td>3</td>\n",
       "      <td>2019-01-14 19:48:42</td>\n",
       "      <td>False</td>\n",
       "      <td>True</td>\n",
       "      <td>2</td>\n",
       "    </tr>\n",
       "    <tr>\n",
       "      <th>672114</th>\n",
       "      <td>2019-01-12 07:33:53</td>\n",
       "      <td>2019-01-12 07:40:50</td>\n",
       "      <td>N</td>\n",
       "      <td>Standard rate</td>\n",
       "      <td>Queens,Kew Gardens</td>\n",
       "      <td>Queens,South Ozone Park</td>\n",
       "      <td>1.0</td>\n",
       "      <td>2.71</td>\n",
       "      <td>10.0</td>\n",
       "      <td>0.0</td>\n",
       "      <td>...</td>\n",
       "      <td>0.0</td>\n",
       "      <td>0.3</td>\n",
       "      <td>12.96</td>\n",
       "      <td>Credit card</td>\n",
       "      <td>Street-hail</td>\n",
       "      <td>2</td>\n",
       "      <td>2019-01-07 07:33:53</td>\n",
       "      <td>False</td>\n",
       "      <td>True</td>\n",
       "      <td>0</td>\n",
       "    </tr>\n",
       "    <tr>\n",
       "      <th>672115</th>\n",
       "      <td>2019-01-25 19:22:06</td>\n",
       "      <td>2019-01-25 19:30:59</td>\n",
       "      <td>N</td>\n",
       "      <td>Standard rate</td>\n",
       "      <td>Queens,Kew Gardens</td>\n",
       "      <td>Queens,Richmond Hill</td>\n",
       "      <td>1.0</td>\n",
       "      <td>1.53</td>\n",
       "      <td>8.0</td>\n",
       "      <td>1.0</td>\n",
       "      <td>...</td>\n",
       "      <td>0.0</td>\n",
       "      <td>0.3</td>\n",
       "      <td>12.74</td>\n",
       "      <td>Credit card</td>\n",
       "      <td>Street-hail</td>\n",
       "      <td>4</td>\n",
       "      <td>2019-01-21 19:22:06</td>\n",
       "      <td>False</td>\n",
       "      <td>True</td>\n",
       "      <td>2</td>\n",
       "    </tr>\n",
       "  </tbody>\n",
       "</table>\n",
       "<p>581577 rows × 22 columns</p>\n",
       "</div>"
      ],
      "text/plain": [
       "       lpep_pickup_datetime lpep_dropoff_datetime store_and_fwd_flag  \\\n",
       "1       2019-01-01 00:10:16   2019-01-01 00:16:32                  N   \n",
       "2       2019-01-01 00:27:11   2019-01-01 00:31:38                  N   \n",
       "3       2019-01-01 00:46:20   2019-01-01 01:04:54                  N   \n",
       "4       2019-01-01 00:19:06   2019-01-01 00:39:43                  N   \n",
       "5       2019-01-01 00:12:35   2019-01-01 00:19:09                  N   \n",
       "...                     ...                   ...                ...   \n",
       "672110  2019-01-29 18:41:25   2019-01-29 18:57:50                  N   \n",
       "672112  2019-01-17 17:49:05   2019-01-17 17:53:54                  N   \n",
       "672113  2019-01-16 19:48:42   2019-01-16 20:20:51                  N   \n",
       "672114  2019-01-12 07:33:53   2019-01-12 07:40:50                  N   \n",
       "672115  2019-01-25 19:22:06   2019-01-25 19:30:59                  N   \n",
       "\n",
       "            rate_type                  pu_location  \\\n",
       "1       Standard rate         Brooklyn,Fort Greene   \n",
       "2       Standard rate        Brooklyn,Clinton Hill   \n",
       "3       Standard rate    Brooklyn,Prospect Heights   \n",
       "4       Standard rate              Queens,Elmhurst   \n",
       "5       Standard rate        Brooklyn,Clinton Hill   \n",
       "...               ...                          ...   \n",
       "672110  Standard rate  Brooklyn,DUMBO/Vinegar Hill   \n",
       "672112  Standard rate     Manhattan,Central Harlem   \n",
       "672113  Standard rate            Brooklyn,Red Hook   \n",
       "672114  Standard rate           Queens,Kew Gardens   \n",
       "672115  Standard rate           Queens,Kew Gardens   \n",
       "\n",
       "                        do_location  passenger_count  trip_distance  \\\n",
       "1             Brooklyn,Clinton Hill              2.0           0.86   \n",
       "2         Brooklyn,Prospect Heights              2.0           0.66   \n",
       "3                  Brooklyn,Bedford              2.0           2.68   \n",
       "4                  Queens,Woodhaven              1.0           4.53   \n",
       "5                  Brooklyn,Bedford              1.0           1.05   \n",
       "...                             ...              ...            ...   \n",
       "672110    Brooklyn,Prospect Heights              5.0           2.40   \n",
       "672112  Manhattan,East Harlem North              1.0           1.09   \n",
       "672113       Manhattan,West Village              1.0           6.87   \n",
       "672114      Queens,South Ozone Park              1.0           2.71   \n",
       "672115         Queens,Richmond Hill              1.0           1.53   \n",
       "\n",
       "        fare_amount  extra  ...  tolls_amount  improvement_surcharge  \\\n",
       "1               6.0    0.5  ...           0.0                    0.3   \n",
       "2               4.5    0.5  ...           0.0                    0.3   \n",
       "3              13.5    0.5  ...           0.0                    0.3   \n",
       "4              18.0    0.5  ...           0.0                    0.3   \n",
       "5               6.5    0.5  ...           0.0                    0.3   \n",
       "...             ...    ...  ...           ...                    ...   \n",
       "672110         12.0    1.0  ...           0.0                    0.3   \n",
       "672112          5.5    1.0  ...           0.0                    0.3   \n",
       "672113         27.0    1.0  ...           0.0                    0.3   \n",
       "672114         10.0    0.0  ...           0.0                    0.3   \n",
       "672115          8.0    1.0  ...           0.0                    0.3   \n",
       "\n",
       "        total_amount  payment_type    trip_type week_number  \\\n",
       "1               7.30          Cash  Street-hail           1   \n",
       "2               5.80   Credit card  Street-hail           1   \n",
       "3              19.71   Credit card  Street-hail           1   \n",
       "4              19.30          Cash  Street-hail           1   \n",
       "5               7.80   Credit card  Street-hail           1   \n",
       "...              ...           ...          ...         ...   \n",
       "672110         17.80   Credit card  Street-hail           5   \n",
       "672112          7.30          Cash  Street-hail           3   \n",
       "672113         34.56   Credit card  Street-hail           3   \n",
       "672114         12.96   Credit card  Street-hail           2   \n",
       "672115         12.74   Credit card  Street-hail           4   \n",
       "\n",
       "       week_range_beginning  vendor_Creative Mobile Technologies, LLC  \\\n",
       "1       2018-12-31 00:10:16                                     False   \n",
       "2       2018-12-31 00:27:11                                     False   \n",
       "3       2018-12-31 00:46:20                                     False   \n",
       "4       2018-12-31 00:19:06                                     False   \n",
       "5       2018-12-31 00:12:35                                     False   \n",
       "...                     ...                                       ...   \n",
       "672110  2019-01-28 18:41:25                                     False   \n",
       "672112  2019-01-14 17:49:05                                     False   \n",
       "672113  2019-01-14 19:48:42                                     False   \n",
       "672114  2019-01-07 07:33:53                                     False   \n",
       "672115  2019-01-21 19:22:06                                     False   \n",
       "\n",
       "       vendor_VeriFone Inc.  extra_label_encoded  \n",
       "1                      True                    1  \n",
       "2                      True                    1  \n",
       "3                      True                    1  \n",
       "4                      True                    1  \n",
       "5                      True                    1  \n",
       "...                     ...                  ...  \n",
       "672110                 True                    2  \n",
       "672112                 True                    2  \n",
       "672113                 True                    2  \n",
       "672114                 True                    0  \n",
       "672115                 True                    2  \n",
       "\n",
       "[581577 rows x 22 columns]"
      ]
     },
     "execution_count": 301,
     "metadata": {},
     "output_type": "execute_result"
    }
   ],
   "source": [
    "data.head(600000)"
   ]
  },
  {
   "cell_type": "markdown",
   "metadata": {},
   "source": [
    "## 4.4 - Adding more features(feature eng.)"
   ]
  },
  {
   "cell_type": "code",
   "execution_count": null,
   "metadata": {},
   "outputs": [],
   "source": []
  },
  {
   "cell_type": "code",
   "execution_count": null,
   "metadata": {},
   "outputs": [],
   "source": []
  },
  {
   "cell_type": "code",
   "execution_count": null,
   "metadata": {},
   "outputs": [],
   "source": []
  },
  {
   "cell_type": "markdown",
   "metadata": {},
   "source": [
    "## 4.41 - Findings and concluisons"
   ]
  },
  {
   "cell_type": "code",
   "execution_count": null,
   "metadata": {},
   "outputs": [],
   "source": []
  },
  {
   "cell_type": "code",
   "execution_count": null,
   "metadata": {},
   "outputs": [],
   "source": []
  },
  {
   "cell_type": "markdown",
   "metadata": {},
   "source": [
    "## 4.5 - Additional data extraction (GPS coordinates)"
   ]
  },
  {
   "cell_type": "code",
   "execution_count": null,
   "metadata": {},
   "outputs": [],
   "source": []
  },
  {
   "cell_type": "code",
   "execution_count": null,
   "metadata": {},
   "outputs": [],
   "source": []
  },
  {
   "cell_type": "markdown",
   "metadata": {},
   "source": [
    "## 4.6 - Csv file for lookup"
   ]
  },
  {
   "cell_type": "code",
   "execution_count": null,
   "metadata": {},
   "outputs": [],
   "source": []
  },
  {
   "cell_type": "code",
   "execution_count": null,
   "metadata": {},
   "outputs": [],
   "source": []
  },
  {
   "cell_type": "code",
   "execution_count": null,
   "metadata": {},
   "outputs": [],
   "source": []
  },
  {
   "cell_type": "markdown",
   "metadata": {},
   "source": [
    "## 5- Exporting the dataframe to a csv file or parquet"
   ]
  },
  {
   "cell_type": "code",
   "execution_count": 303,
   "metadata": {},
   "outputs": [],
   "source": [
    "data.to_csv('C:\\GUC\\Semester 9\\Data Engineering\\Project\\Milestone 1\\green_trip_data_2019-01_clean.csv', index=False)\n"
   ]
  }
 ],
 "metadata": {
  "kernelspec": {
   "display_name": "Python 3 (ipykernel)",
   "language": "python",
   "name": "python3"
  },
  "language_info": {
   "codemirror_mode": {
    "name": "ipython",
    "version": 3
   },
   "file_extension": ".py",
   "mimetype": "text/x-python",
   "name": "python",
   "nbconvert_exporter": "python",
   "pygments_lexer": "ipython3",
   "version": "3.11.5"
  }
 },
 "nbformat": 4,
 "nbformat_minor": 4
}
